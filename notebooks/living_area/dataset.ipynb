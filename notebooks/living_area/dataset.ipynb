{
 "cells": [
  {
   "cell_type": "code",
   "execution_count": 1,
   "metadata": {},
   "outputs": [],
   "source": [
    "from slimtp.pipelines import AMPreprocessing\n",
    "from omegaconf import OmegaConf\n",
    "from hydra import compose, initialize\n",
    "from slimtp.modules import AMDataset\n",
    "from dataset import dino_amdataset\n",
    "\n",
    "import pandas as pd\n",
    "import numpy as np"
   ]
  },
  {
   "cell_type": "code",
   "execution_count": 2,
   "metadata": {},
   "outputs": [],
   "source": [
    "import nest_asyncio\n",
    "nest_asyncio.apply()"
   ]
  },
  {
   "cell_type": "code",
   "execution_count": 3,
   "metadata": {},
   "outputs": [],
   "source": [
    "with initialize(version_base=None, config_path=\"../../slimtp_configs/living_area/configs/\", job_name=\"test_app\"):\n",
    "    cfg = compose(config_name=\"config\")"
   ]
  },
  {
   "cell_type": "code",
   "execution_count": 4,
   "metadata": {},
   "outputs": [
    {
     "name": "stderr",
     "output_type": "stream",
     "text": [
      "======== Stage AMPreprocessing ========\n",
      "  0%|          | 0/10 [00:00<?, ?it/s][2023-12-21 03:12:15][slimtp.lib.common.boston][WARNING] - Query Error! return None value, error Msg: (404, 'Request failed: {\\n  \"ErrorMsg\": \"failed fetching tiles: fetch failed: tsdata=source = shower_v2, survey = 1620937 tile=(284323, 415742, 20): fetch failed: 404: Tile not found\",\\n  \"ErrorCode\": 404,\\n  \"PartialResponse\": null\\n}\\n\\n')\n",
      "100%|██████████| 10/10 [00:00<00:00, 65.88it/s]\n",
      "[2023-12-21 03:12:15][slimtp.pipelines.am_preprocessing][WARNING] - Drop 1 uncacheable samples.\n",
      "/root/cape/capelibs/mtp/slimtp/lib/data.py:206: PerformanceWarning: \n",
      "your performance may suffer as PyTables will pickle object types that it cannot\n",
      "map directly to c-types [inferred_type->mixed,key->block2_values] [items->Index(['geometry', 'imagery_source', 'split', 'use', 'cache_key'], dtype='object')]\n",
      "\n",
      "  df.to_hdf(path, key=\"data\", mode=\"w\")\n"
     ]
    }
   ],
   "source": [
    "ampreproc = AMPreprocessing(cfg)\n",
    "ampreproc.run()"
   ]
  },
  {
   "cell_type": "code",
   "execution_count": 5,
   "metadata": {},
   "outputs": [],
   "source": [
    "df = pd.read_hdf(cfg.data_index_path)\n",
    "df[\"cache_key\"] = df[\"cache_key\"].apply(eval)"
   ]
  },
  {
   "cell_type": "code",
   "execution_count": 6,
   "metadata": {},
   "outputs": [],
   "source": [
    "class DinoInferenceDataset(AMDataset):\n",
    "    def __getitem__(self, index: int):\n",
    "        item = self.get_df_data(index)\n",
    "        sample_name = item[\"identifier\"]\n",
    "        x_clean = self.get_aug_item(item, self.t_clean)\n",
    "        return x_clean, sample_name\n"
   ]
  },
  {
   "cell_type": "code",
   "execution_count": 7,
   "metadata": {},
   "outputs": [],
   "source": [
    "amdataset_1 = DinoInferenceDataset(cfg, df)"
   ]
  },
  {
   "cell_type": "code",
   "execution_count": 8,
   "metadata": {},
   "outputs": [],
   "source": [
    "amdataset_2 = dino_amdataset.DinoInferenceDataset(cfg, df)"
   ]
  },
  {
   "cell_type": "code",
   "execution_count": 9,
   "metadata": {},
   "outputs": [],
   "source": [
    "image_1, ident_1 = amdataset_1[0]"
   ]
  },
  {
   "cell_type": "code",
   "execution_count": 10,
   "metadata": {},
   "outputs": [],
   "source": [
    "image_2, ident_2 = amdataset_2[0]"
   ]
  },
  {
   "cell_type": "code",
   "execution_count": 12,
   "metadata": {},
   "outputs": [
    {
     "data": {
      "text/plain": [
       "tensor([[[ 0.0176, -0.0255, -0.0647,  ..., -0.0725, -0.0725, -0.0882],\n",
       "         [-0.0333, -0.0412, -0.0529,  ..., -0.0882, -0.0922, -0.1039],\n",
       "         [-0.0255, -0.0294, -0.0294,  ..., -0.1039, -0.1000, -0.1275],\n",
       "         ...,\n",
       "         [-0.1745, -0.2216, -0.2725,  ..., -0.1784, -0.1392, -0.2333],\n",
       "         [-0.2216, -0.2137, -0.2529,  ..., -0.1471, -0.1314, -0.2804],\n",
       "         [-0.3549, -0.3353, -0.3039,  ..., -0.0686, -0.1902, -0.3863]],\n",
       "\n",
       "        [[-0.0333, -0.0725, -0.1078,  ..., -0.1275, -0.1275, -0.1471],\n",
       "         [-0.0843, -0.0843, -0.0961,  ..., -0.1471, -0.1510, -0.1627],\n",
       "         [-0.0686, -0.0765, -0.0765,  ..., -0.1588, -0.1549, -0.1824],\n",
       "         ...,\n",
       "         [-0.2333, -0.2765, -0.3235,  ..., -0.1353, -0.1000, -0.2020],\n",
       "         [-0.2686, -0.2608, -0.3000,  ..., -0.1078, -0.0922, -0.2490],\n",
       "         [-0.3980, -0.3824, -0.3471,  ..., -0.0294, -0.1549, -0.3549]],\n",
       "\n",
       "        [[-0.0020, -0.0412, -0.0804,  ..., -0.1745, -0.1745, -0.1824],\n",
       "         [-0.0529, -0.0529, -0.0647,  ..., -0.1902, -0.1941, -0.1980],\n",
       "         [-0.0333, -0.0451, -0.0451,  ..., -0.2059, -0.2020, -0.2255],\n",
       "         ...,\n",
       "         [-0.1745, -0.2176, -0.2608,  ..., -0.1353, -0.1000, -0.2020],\n",
       "         [-0.2059, -0.1980, -0.2333,  ..., -0.1078, -0.0922, -0.2490],\n",
       "         [-0.3353, -0.3157, -0.2765,  ..., -0.0294, -0.1549, -0.3549]]])"
      ]
     },
     "execution_count": 12,
     "metadata": {},
     "output_type": "execute_result"
    }
   ],
   "source": [
    "image_1"
   ]
  },
  {
   "cell_type": "code",
   "execution_count": 14,
   "metadata": {},
   "outputs": [
    {
     "data": {
      "text/plain": [
       "tensor([[[-2.1179, -2.1179, -2.1179,  ..., -2.1179, -2.1179, -2.1179],\n",
       "         [-2.1179, -2.1179, -2.1179,  ..., -2.1179, -2.1179, -2.1179],\n",
       "         [-2.1179, -2.1179, -2.1179,  ..., -2.1179, -2.1179, -2.1179],\n",
       "         ...,\n",
       "         [-2.1179, -2.1179, -2.1179,  ..., -2.1179, -2.1179, -2.1179],\n",
       "         [-2.1179, -2.1179, -2.1179,  ..., -2.1179, -2.1179, -2.1179],\n",
       "         [-2.1179, -2.1179, -2.1179,  ..., -2.1179, -2.1179, -2.1179]],\n",
       "\n",
       "        [[-2.0357, -2.0357, -2.0357,  ..., -2.0357, -2.0357, -2.0357],\n",
       "         [-2.0357, -2.0357, -2.0357,  ..., -2.0357, -2.0357, -2.0357],\n",
       "         [-2.0357, -2.0357, -2.0357,  ..., -2.0357, -2.0357, -2.0357],\n",
       "         ...,\n",
       "         [-2.0357, -2.0357, -2.0357,  ..., -2.0357, -2.0357, -2.0357],\n",
       "         [-2.0357, -2.0357, -2.0357,  ..., -2.0357, -2.0357, -2.0357],\n",
       "         [-2.0357, -2.0357, -2.0357,  ..., -2.0357, -2.0357, -2.0357]],\n",
       "\n",
       "        [[-1.8044, -1.8044, -1.8044,  ..., -1.8044, -1.8044, -1.8044],\n",
       "         [-1.8044, -1.8044, -1.8044,  ..., -1.8044, -1.8044, -1.8044],\n",
       "         [-1.8044, -1.8044, -1.8044,  ..., -1.8044, -1.8044, -1.8044],\n",
       "         ...,\n",
       "         [-1.8044, -1.8044, -1.8044,  ..., -1.8044, -1.8044, -1.8044],\n",
       "         [-1.8044, -1.8044, -1.8044,  ..., -1.8044, -1.8044, -1.8044],\n",
       "         [-1.8044, -1.8044, -1.8044,  ..., -1.8044, -1.8044, -1.8044]]])"
      ]
     },
     "execution_count": 14,
     "metadata": {},
     "output_type": "execute_result"
    }
   ],
   "source": [
    "image_2"
   ]
  },
  {
   "cell_type": "code",
   "execution_count": null,
   "metadata": {},
   "outputs": [],
   "source": []
  }
 ],
 "metadata": {
  "kernelspec": {
   "display_name": "Python 3",
   "language": "python",
   "name": "python3"
  },
  "language_info": {
   "codemirror_mode": {
    "name": "ipython",
    "version": 3
   },
   "file_extension": ".py",
   "mimetype": "text/x-python",
   "name": "python",
   "nbconvert_exporter": "python",
   "pygments_lexer": "ipython3",
   "version": "3.8.0"
  }
 },
 "nbformat": 4,
 "nbformat_minor": 2
}
