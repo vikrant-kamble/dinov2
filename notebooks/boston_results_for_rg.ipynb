{
 "cells": [
  {
   "cell_type": "code",
   "execution_count": 57,
   "id": "211bfb5e-7e9e-4b14-9f61-9ee8e55dc85e",
   "metadata": {},
   "outputs": [],
   "source": [
    "import pandas as pd\n",
    "from data_science_tools.datasets import AttrGeomSet\n",
    "from data_science_tools.data_sources import BigQuery, Freyr, APISource\n",
    "from data_science_tools.core import active_configuration\n",
    "import matplotlib.pyplot as plt\n",
    "%matplotlib inline\n",
    "import seaborn as sns\n",
    "import requests\n",
    "import os\n",
    "import asyncio\n",
    "from data_science_tools.core.utils import progress_bar\n",
    "from data_science_tools.tile_servers import ShowerV2\n",
    "from data_science_tools.geometry import wkb_to_shapely, geojson_to_wkb, shapely_to_wkb, make_valid, wkb_to_geojson\n",
    "\n",
    "\n",
    "# You need this line import to make the df.chipper accessor available\n",
    "import data_science_tools.image_chipper\n",
    "import json\n",
    "import nest_asyncio\n",
    "\n",
    "nest_asyncio.apply()\n",
    "\n",
    "BOSTON_URL = active_configuration[\"data_sources\"][\"api_sources\"][\"boston\"][\"url_template\"]\n",
    "boston = APISource.from_mnemonic('boston')\n",
    "fr = Freyr()\n",
    "\n",
    "from warnings import warn\n",
    "\n",
    "def get_rg_payload(row):\n",
    "    survey = row[\"imagery_source\"].split(':')[-1]\n",
    "    geometry = row[\"geometry\"]\n",
    "    with open(\"/cnvrg/request_template_rg.json\") as f:\n",
    "        request_template = json.load(f)\n",
    "        request_template[\"Supplied\"]['Target.Geometry']['GeoJSON'] = wkb_to_geojson(geometry)\n",
    "        request_template[\"Supplied\"][\"Tiles.TileServerData\"]['Survey'] = survey\n",
    "    return request_template\n",
    "\n",
    "\n",
    "def request_rg(row):\n",
    "    payload = get_rg_payload(row)\n",
    "    response = boston.get_data(data=payload)\n",
    "    if response.status_code != 200:\n",
    "        warn(f\"Request failed with status code {response.status_code}\")\n",
    "        return None\n",
    "    return response.json()\n",
    "\n",
    "def bulk_request_rg(rows):\n",
    "    payloads = list(rows.apply(get_rg_payload, axis=1))\n",
    "\n",
    "    #payloads = []\n",
    "    #for row in rows:\n",
    "    #    payload = request_homefinder(row)\n",
    "    #    payloads.append(payload)\n",
    "    \n",
    "    all_responses = {}\n",
    "    print('Found {} payloads'.format(len(payloads)))\n",
    "    with progress_bar.progress_bar(len(rows), units=\"Geometry\", title=\"Fetching from Boston\") as pbar:\n",
    "        for i, parameter, response in boston.get_data_bulk(n_threads=10, data=payloads):\n",
    "            supplied = geojson_to_wkb(parameter['data'][\"Supplied\"]['Target.Geometry'][\"GeoJSON\"])\n",
    "            if response.status_code != 200:\n",
    "                warn(f\"Request failed with status code {response.status_code}\")\n",
    "                all_responses[supplied] = None\n",
    "            else:\n",
    "                all_responses[supplied] = response.json()\n",
    "            pbar.increase()\n",
    "    \n",
    "    return all_responses\n"
   ]
  },
  {
   "cell_type": "markdown",
   "id": "ff752aa6-8034-4f67-a783-2423a0669a7d",
   "metadata": {},
   "source": [
    "# Run boston to obtain prod RG predictions"
   ]
  },
  {
   "cell_type": "code",
   "execution_count": 4,
   "id": "541d0a1e-40e5-42f5-91f6-8c1467c49d99",
   "metadata": {},
   "outputs": [
    {
     "name": "stdout",
     "output_type": "stream",
     "text": [
      "Found 11562 payloads\n",
      "Fetching from Boston :\n",
      "\n",
      "[****      14.8%             ]  1716 / 11562 Geometry in 53.6 s (0:05:05 to go)"
     ]
    },
    {
     "name": "stderr",
     "output_type": "stream",
     "text": [
      "/opt/conda/lib/python3.8/site-packages/data_science_tools/data_sources/api_sources.py:449: UserWarning: Requests for {'data': {'Requested': ['Inference.RoofGeometry'], 'Supplied': {'Target.Geometry': {'GeoJSON': {'type': 'Polygon', 'coordinates': (((-90.65632313489914, 35.8599112404501), (-90.65632581710815, 35.85990906665486), (-90.65632581710815, 35.85974820580763), (-90.65608978271484, 35.85974820580763), (-90.65608710050583, 35.8597460320124), (-90.65607368946075, 35.8597460320124), (-90.65607100725174, 35.85974385821717), (-90.65602272748947, 35.85974385821717), (-90.65602004528046, 35.85974168442194), (-90.65601736307144, 35.85974385821717), (-90.65600663423538, 35.85974385821717), (-90.65600395202637, 35.85974168442194), (-90.65599590539932, 35.85974168442194), (-90.65599322319031, 35.85974385821717), (-90.65594226121902, 35.85974385821717), (-90.65593957901001, 35.85974168442194), (-90.65592616796494, 35.85974168442194), (-90.65592348575592, 35.8597395106267), (-90.65578937530518, 35.8597395106267), (-90.65578669309616, 35.85973733683147), (-90.65576523542404, 35.85973733683147), (-90.65576255321503, 35.8597395106267), (-90.65575987100601, 35.85973733683147), (-90.65561234951019, 35.85973733683147), (-90.65560966730118, 35.85973516303624), (-90.65549433231354, 35.85973516303624), (-90.65549165010452, 35.85973298924101), (-90.65548896789551, 35.85973298924101), (-90.65548360347748, 35.85973733683147), (-90.65548360347748, 35.85977429135043), (-90.65548092126846, 35.85977646514566), (-90.65548092126846, 35.85983733141218), (-90.65547823905945, 35.85983950520742), (-90.65547823905945, 35.85988950249777), (-90.65547555685043, 35.859891676293), (-90.65547823905945, 35.8598981976787), (-90.65548360347748, 35.85990037147393), (-90.65549165010452, 35.85990037147393), (-90.65549433231354, 35.8598981976787), (-90.65551310777664, 35.8598981976787), (-90.65551578998566, 35.85990037147393), (-90.65561503171921, 35.85990037147393), (-90.65561771392822, 35.85990254526916), (-90.6556847691536, 35.85990254526916), (-90.65568745136261, 35.8599047190644), (-90.65583229064941, 35.8599047190644), (-90.65583497285843, 35.85990689285963), (-90.65595299005508, 35.85990689285963), (-90.6559556722641, 35.85990906665486), (-90.65596371889114, 35.85990906665486), (-90.65596640110016, 35.85990689285963), (-90.65596908330917, 35.85990906665486), (-90.65608441829681, 35.85990906665486), (-90.65608710050583, 35.8599112404501), (-90.65632313489914, 35.8599112404501)),)}, 'ZoomLevel': 20}, 'Tiles.TileServerData': {'Source': 'shower_v2', 'Survey': '180969'}, 'Tiles.ProviderDatatype': 'nearmap_vertical_jpg', 'Tiles.ImageLayerMeanBGR': [127.5, 127.5, 127.5], 'InferenceVersion.RoofGeometry': '20210427-prod-1'}}} failed with status code 404 (Not Found)\n",
      "  warnings.warn(\n",
      "/tmp/ipykernel_184/2962794251.py:60: UserWarning: Request failed with status code 404\n",
      "  warn(f\"Request failed with status code {response.status_code}\")\n"
     ]
    },
    {
     "name": "stdout",
     "output_type": "stream",
     "text": [
      "[**********38.5%             ]  4452 / 11562 Geometry in 127.9 s (0:03:23 to go)"
     ]
    },
    {
     "name": "stderr",
     "output_type": "stream",
     "text": [
      "/opt/conda/lib/python3.8/site-packages/data_science_tools/data_sources/api_sources.py:449: UserWarning: Requests for {'data': {'Requested': ['Inference.RoofGeometry'], 'Supplied': {'Target.Geometry': {'GeoJSON': {'type': 'Polygon', 'coordinates': (((-90.71635097265244, 35.81282579999558), (-90.71640998125076, 35.81278012210127), (-90.71640998125076, 35.81277794696344), (-90.71642071008682, 35.81276924641215), (-90.71642071008682, 35.81276272099867), (-90.71632951498032, 35.81268876631264), (-90.71632951498032, 35.81268659117482), (-90.7163268327713, 35.81268659117482), (-90.71631610393524, 35.81267789062352), (-90.71631610393524, 35.81267571548569), (-90.71620613336563, 35.81258653483489), (-90.71620613336563, 35.81258435969706), (-90.71619540452957, 35.81257565914576), (-90.71618735790253, 35.81257565914576), (-90.71616053581238, 35.81259741052401), (-90.71614980697632, 35.81260176079966), (-90.71612030267715, 35.8126235121779), (-90.71611762046814, 35.8126235121779), (-90.7161095738411, 35.81263003759138), (-90.7161095738411, 35.8126322127292), (-90.71609079837799, 35.81264743869397), (-90.71608811616898, 35.81264743869397), (-90.71608275175095, 35.81265178896962), (-90.71608543395996, 35.81265831438309), (-90.7161095738411, 35.81267789062352), (-90.71611225605011, 35.81267789062352), (-90.71617931127548, 35.81272791879348), (-90.71617931127548, 35.8127300939313), (-90.71621417999268, 35.81276054586085), (-90.71621417999268, 35.81276272099867), (-90.71624636650085, 35.81278882265256), (-90.71624636650085, 35.81279099779039), (-90.7162544131279, 35.81279752320386), (-90.71625977754593, 35.81280622375516), (-90.71626782417297, 35.81280622375516), (-90.716273188591, 35.81280404861734), (-90.71628659963608, 35.81279317292822), (-90.71629732847214, 35.81278882265256), (-90.71630269289017, 35.81279099779039), (-90.7163456082344, 35.81282579999558), (-90.71635097265244, 35.81282579999558)),)}, 'ZoomLevel': 20}, 'Tiles.TileServerData': {'Source': 'shower_v2', 'Survey': '180969'}, 'Tiles.ProviderDatatype': 'nearmap_vertical_jpg', 'Tiles.ImageLayerMeanBGR': [127.5, 127.5, 127.5], 'InferenceVersion.RoofGeometry': '20210427-prod-1'}}} failed with status code 404 (Not Found)\n",
      "  warnings.warn(\n"
     ]
    },
    {
     "name": "stdout",
     "output_type": "stream",
     "text": [
      "[**********78.7%*******      ]  9096 / 11562 Geometry in 247.5 s (0:01:07 to go)"
     ]
    },
    {
     "name": "stderr",
     "output_type": "stream",
     "text": [
      "/opt/conda/lib/python3.8/site-packages/data_science_tools/data_sources/api_sources.py:449: UserWarning: Requests for {'data': {'Requested': ['Inference.RoofGeometry'], 'Supplied': {'Target.Geometry': {'GeoJSON': {'type': 'Polygon', 'coordinates': (((-90.67138910293579, 35.80825797432597), (-90.67139714956284, 35.80825362380629), (-90.67139983177185, 35.80824492276693), (-90.67141056060791, 35.80822752068821), (-90.67142397165298, 35.80821229386932), (-90.67142397165298, 35.80820794334964), (-90.67143470048904, 35.80819054127092), (-90.67143738269806, 35.80817748971187), (-90.67145615816116, 35.8081470360741), (-90.67145615816116, 35.80814268555442), (-90.67147493362427, 35.80811223191666), (-90.67148298025131, 35.8081035308773), (-90.67148298025131, 35.80809918035762), (-90.67149370908737, 35.80808395353873), (-90.67149370908737, 35.80807960301905), (-90.67153930664062, 35.80800781944431), (-90.67153930664062, 35.80800346892463), (-90.67154467105865, 35.80799911840495), (-90.67154735326767, 35.80799259262542), (-90.67156076431274, 35.80797736580654), (-90.67156076431274, 35.80797301528686), (-90.67156612873077, 35.80796866476718), (-90.67156612873077, 35.80796648950734), (-90.6715714931488, 35.80796213898766), (-90.67157417535782, 35.8079643142475), (-90.67157417535782, 35.80797301528686), (-90.67157685756683, 35.80797736580654), (-90.6715875864029, 35.80798171632622), (-90.67159295082092, 35.80798171632622), (-90.67160099744797, 35.80798606684591), (-90.671606361866, 35.80798606684591), (-90.6716251373291, 35.80799476788527), (-90.67163050174713, 35.80799476788527), (-90.6716439127922, 35.80800129366479), (-90.67164927721024, 35.80800129366479), (-90.67165732383728, 35.80800564418447), (-90.67166268825531, 35.80800564418447), (-90.67167341709137, 35.80800999470415), (-90.67168146371841, 35.80800564418447), (-90.67168414592743, 35.80799911840495), (-90.67168951034546, 35.80799476788527), (-90.67170292139053, 35.80797301528686), (-90.67170292139053, 35.80796866476718), (-90.6717136502266, 35.8079534379483), (-90.6717136502266, 35.80794908742862), (-90.67170828580856, 35.80794473690894), (-90.67164927721024, 35.80792080905069), (-90.6716439127922, 35.80792080905069), (-90.67162245512009, 35.80791210801133), (-90.67160904407501, 35.80791210801133), (-90.67160367965698, 35.80790775749165), (-90.67160367965698, 35.80790123171212), (-90.67161172628403, 35.80788818015308), (-90.67161709070206, 35.80787077807436), (-90.6716439127922, 35.80782727287755), (-90.6716439127922, 35.80782292235786), (-90.67164927721024, 35.80781639657835), (-90.67164927721024, 35.80781204605866), (-90.67165464162827, 35.80780552027914), (-90.67165464162827, 35.80780116975946), (-90.67168146371841, 35.80775983982249), (-90.67168146371841, 35.80775548930281), (-90.67168682813644, 35.80775113878313), (-90.67168682813644, 35.80774678826344), (-90.67169219255447, 35.80774243774377), (-90.67170023918152, 35.80772938618473), (-90.67172169685364, 35.807711984106), (-90.67172437906265, 35.80770763358632), (-90.67172706127167, 35.80769458202727), (-90.67173510789871, 35.80768153046823), (-90.67173510789871, 35.80767282942887), (-90.67172437906265, 35.80766630364935), (-90.67168951034546, 35.8076532520903), (-90.67168414592743, 35.80764890157062), (-90.67167609930038, 35.80764672631079), (-90.67165732383728, 35.80763585001158), (-90.67164659500122, 35.80763367475174), (-90.67164123058319, 35.80762932423206), (-90.67163050174713, 35.80762497371238), (-90.67162245512009, 35.80762497371238), (-90.67161977291107, 35.80762279845253), (-90.67160367965698, 35.8076206231927), (-90.67159026861191, 35.80761409741317), (-90.67158490419388, 35.80761409741317), (-90.67156344652176, 35.80760539637381), (-90.67155808210373, 35.80760757163365), (-90.67153662443161, 35.8076423757911), (-90.67153662443161, 35.80764672631079), (-90.6715339422226, 35.80764890157062), (-90.6715339422226, 35.8076532520903), (-90.67153126001358, 35.80765542735014), (-90.67152589559555, 35.80767282942887), (-90.67151248455048, 35.80769240676744), (-90.67151248455048, 35.80769675728712), (-90.67150175571442, 35.807711984106), (-90.67150175571442, 35.80771633462568), (-90.67148566246033, 35.80774026248393), (-90.67148566246033, 35.80774461300361), (-90.6714615225792, 35.80778159242089), (-90.6714615225792, 35.80778594294058), (-90.67145079374313, 35.8078033450193), (-90.67144274711609, 35.80780987079882), (-90.67143201828003, 35.80781204605866), (-90.671426653862, 35.80780769553898), (-90.67142128944397, 35.80780769553898), (-90.67141860723495, 35.80780552027914), (-90.67141324281693, 35.80780552027914), (-90.67141056060791, 35.8078033450193), (-90.67138910293579, 35.80779899449962), (-90.67137569189072, 35.80779246872009), (-90.67136496305466, 35.80779246872009), (-90.67134350538254, 35.80782944813739), (-90.6713354587555, 35.80783814917675), (-90.6713354587555, 35.80784249969643), (-90.6713193655014, 35.80786642755468), (-90.67131668329239, 35.80787730385388), (-90.67130863666534, 35.80788818015308), (-90.67130595445633, 35.80789688119244), (-90.67131131887436, 35.80790123171212), (-90.67131668329239, 35.80790123171212), (-90.67135691642761, 35.80791863379085), (-90.6713730096817, 35.80792080905069), (-90.67137569189072, 35.80792298431053), (-90.67137569189072, 35.80793168534989), (-90.67135959863663, 35.80795778846798), (-90.67135959863663, 35.80796213898766), (-90.67135155200958, 35.80797301528686), (-90.67135155200958, 35.80797736580654), (-90.67133814096451, 35.80799694314511), (-90.67133814096451, 35.80800129366479), (-90.6713193655014, 35.80802957204271), (-90.6713193655014, 35.80803392256239), (-90.67129790782928, 35.80806655146001), (-90.67129790782928, 35.80807090197968), (-90.6712657213211, 35.80812310821586), (-90.67125499248505, 35.80813398451506), (-90.67124426364899, 35.80815138659379), (-90.67124158143997, 35.80816226289298), (-90.67122548818588, 35.80818836601107), (-90.67122548818588, 35.80819706705044), (-90.6712281703949, 35.80819924231028), (-90.67123889923096, 35.80820141757012), (-90.671246945858, 35.8082057680898), (-90.67125231027603, 35.8082057680898), (-90.67126840353012, 35.80821446912916), (-90.67127376794815, 35.80821446912916), (-90.67127645015717, 35.808216644389), (-90.6712818145752, 35.808216644389), (-90.67129254341125, 35.80822099490868), (-90.6713005900383, 35.80822099490868), (-90.67130327224731, 35.80822317016852), (-90.67131668329239, 35.80822534542836), (-90.67134886980057, 35.80823839698741), (-90.6713542342186, 35.80824274750709), (-90.6713730096817, 35.80824927328661), (-90.67137837409973, 35.80825362380629), (-90.67138910293579, 35.80825797432597)),)}, 'ZoomLevel': 20}, 'Tiles.TileServerData': {'Source': 'shower_v2', 'Survey': '180969'}, 'Tiles.ProviderDatatype': 'nearmap_vertical_jpg', 'Tiles.ImageLayerMeanBGR': [127.5, 127.5, 127.5], 'InferenceVersion.RoofGeometry': '20210427-prod-1'}}} failed with status code 404 (Not Found)\n",
      "  warnings.warn(\n"
     ]
    },
    {
     "name": "stdout",
     "output_type": "stream",
     "text": [
      "[*********100.0%*************]  11562 / 11562 Geometry in 328.1 s (0:00:00 to go)\n"
     ]
    }
   ],
   "source": [
    "df = pd.read_parquet(\"/data/dino_fixed_rg_evaluation_slimtp/evaluate_mtmv_nearmap_rg/chips/dataset.parquet\")\n",
    "df = df[[\"geometry\", \"imagery_source\"]].drop_duplicates()\n",
    "responses = bulk_request_rg(df)"
   ]
  },
  {
   "cell_type": "code",
   "execution_count": 8,
   "id": "461c625b-0857-48ce-9bf5-8e55702c1ad9",
   "metadata": {},
   "outputs": [
    {
     "name": "stderr",
     "output_type": "stream",
     "text": [
      "100% 11562/11562 [00:02<00:00, 4709.81it/s]\n",
      "/tmp/ipykernel_184/1904950329.py:11: PerformanceWarning: \n",
      "your performance may suffer as PyTables will pickle object types that it cannot\n",
      "map directly to c-types [inferred_type->mixed,key->block0_values] [items->Index(['geometry', 'rg_boston'], dtype='object')]\n",
      "\n",
      "  rg_results_df.to_hdf('/cnvrg/rg_results_df.h5', key='data', mode='w')\n"
     ]
    }
   ],
   "source": [
    "import tqdm\n",
    "list_rg_df = []\n",
    "for geometry, rg_result in tqdm.tqdm(responses.items(), total=len(responses)):\n",
    "    if rg_result is None:\n",
    "        # warn(f\"Request failed with error code {parcel_attr_geom['result']['status']['error_code']}\")\n",
    "        itmp = pd.Series({\"geometry\": geometry, \"rg_boston\": None})\n",
    "    else:\n",
    "        itmp = pd.Series({\"geometry\": geometry, \"rg_boston\": rg_result['Inference.RoofGeometry']})\n",
    "    list_rg_df.append(itmp)\n",
    "rg_results_df = pd.concat(list_rg_df, axis=1, ignore_index=True).transpose()\n",
    "rg_results_df.to_hdf('/cnvrg/rg_results_df.h5', key='data', mode='w')"
   ]
  },
  {
   "cell_type": "code",
   "execution_count": 37,
   "id": "81a7e92c-48b3-4852-94be-78a9fb4ccacf",
   "metadata": {},
   "outputs": [
    {
     "name": "stdout",
     "output_type": "stream",
     "text": [
      "11562\n",
      "11559\n"
     ]
    }
   ],
   "source": [
    "rg_results_df = pd.read_hdf('/cnvrg/rg_results_df.h5')\n",
    "print(len(rg_results_df))\n",
    "rg_results_df = rg_results_df.dropna(subset=\"rg_boston\")\n",
    "print(len(rg_results_df))\n",
    "rg_results_df[\"rg_boston_class\"] = rg_results_df.rg_boston.apply(lambda d: pd.Series(d).index[pd.Series(d).argmax()])"
   ]
  },
  {
   "cell_type": "code",
   "execution_count": 40,
   "id": "9da345af-e499-4712-9212-959a457aa18d",
   "metadata": {},
   "outputs": [
    {
     "name": "stdout",
     "output_type": "stream",
     "text": [
      "Initially had 58211 geometries\n",
      "Found 58197 geometries with rg result\n"
     ]
    }
   ],
   "source": [
    "original_df = pd.read_parquet(\"/data/dino_fixed_rg_evaluation_slimtp/evaluate_mtmv_nearmap_rg/chips/dataset.parquet\")\n",
    "df_with_rg_pred = pd.merge(original_df, rg_results_df, how=\"left\", on=\"geometry\", validate=\"many_to_one\")\n",
    "print(f\"Initially had {len(original_df)} geometries\")\n",
    "df_with_rg_pred_no_nan = df_with_rg_pred.dropna(subset=[\"rg_boston_class\"], axis=0)\n",
    "\n",
    "print(f\"Found {len(df_with_rg_pred_no_nan)} geometries with rg result\")\n",
    "df_with_rg_pred_no_nan.to_parquet('/cnvrg/df_with_rg_pred_no_nan.parquet')"
   ]
  },
  {
   "cell_type": "code",
   "execution_count": 41,
   "id": "9e73fe85-287b-4d81-be98-8b5578276e49",
   "metadata": {},
   "outputs": [
    {
     "data": {
      "text/html": [
       "<div>\n",
       "<style scoped>\n",
       "    .dataframe tbody tr th:only-of-type {\n",
       "        vertical-align: middle;\n",
       "    }\n",
       "\n",
       "    .dataframe tbody tr th {\n",
       "        vertical-align: top;\n",
       "    }\n",
       "\n",
       "    .dataframe thead th {\n",
       "        text-align: right;\n",
       "    }\n",
       "</style>\n",
       "<table border=\"1\" class=\"dataframe\">\n",
       "  <thead>\n",
       "    <tr style=\"text-align: right;\">\n",
       "      <th></th>\n",
       "      <th>contact_id</th>\n",
       "      <th>geometry</th>\n",
       "      <th>geometry_id</th>\n",
       "      <th>geometry_labels</th>\n",
       "      <th>imagery_date</th>\n",
       "      <th>imagery_source</th>\n",
       "      <th>label_vote_id</th>\n",
       "      <th>label_vote_status</th>\n",
       "      <th>origin_mnemonic</th>\n",
       "      <th>filename</th>\n",
       "      <th>entry_hash</th>\n",
       "      <th>rg_boston</th>\n",
       "      <th>rg_boston_class</th>\n",
       "    </tr>\n",
       "  </thead>\n",
       "  <tbody>\n",
       "    <tr>\n",
       "      <th>0</th>\n",
       "      <td>tandin.om@imerit.net</td>\n",
       "      <td>b\"\\x01\\x03\\x00\\x00\\x00\\x01\\x00\\x00\\x00(\\x00\\x0...</td>\n",
       "      <td>cl_rg/20210204_test_set_nearmap_plus_vexcel: 4413</td>\n",
       "      <td>flat</td>\n",
       "      <td>2020-09-19 00:00:00+00:00</td>\n",
       "      <td>sv2:nearmap_vertical_jpg:49bd8944-fe9f-11ea-a6...</td>\n",
       "      <td>ckkxm8oh8000n3b60urhll0f8</td>\n",
       "      <td>in_review</td>\n",
       "      <td>cl_rg/20210415_model_test</td>\n",
       "      <td>02/0290db6020c91ef1fc2d96c5dcec0456c9e55edc50f...</td>\n",
       "      <td>0290db6020c91ef1fc2d96c5dcec0456c9e55edc50f3fe...</td>\n",
       "      <td>{'flat': 0.9463387727737427, 'gable': 0.036230...</td>\n",
       "      <td>flat</td>\n",
       "    </tr>\n",
       "    <tr>\n",
       "      <th>1</th>\n",
       "      <td>shivlal.bediya@imerit.net</td>\n",
       "      <td>b\"\\x01\\x03\\x00\\x00\\x00\\x01\\x00\\x00\\x00(\\x00\\x0...</td>\n",
       "      <td>cl_rg/20210204_test_set_nearmap_plus_vexcel: 4413</td>\n",
       "      <td>flat</td>\n",
       "      <td>2020-09-19 00:00:00+00:00</td>\n",
       "      <td>sv2:nearmap_vertical_jpg:49bd8944-fe9f-11ea-a6...</td>\n",
       "      <td>ckkxm88t300153b61u9fnc83j</td>\n",
       "      <td>in_review</td>\n",
       "      <td>cl_rg/20210415_model_test</td>\n",
       "      <td>02/0290db6020c91ef1fc2d96c5dcec0456c9e55edc50f...</td>\n",
       "      <td>0290db6020c91ef1fc2d96c5dcec0456c9e55edc50f3fe...</td>\n",
       "      <td>{'flat': 0.9463387727737427, 'gable': 0.036230...</td>\n",
       "      <td>flat</td>\n",
       "    </tr>\n",
       "    <tr>\n",
       "      <th>2</th>\n",
       "      <td>ugyen.d@imerit.net</td>\n",
       "      <td>b\"\\x01\\x03\\x00\\x00\\x00\\x01\\x00\\x00\\x00(\\x00\\x0...</td>\n",
       "      <td>cl_rg/20210204_test_set_nearmap_plus_vexcel: 4413</td>\n",
       "      <td>flat</td>\n",
       "      <td>2020-09-19 00:00:00+00:00</td>\n",
       "      <td>sv2:nearmap_vertical_jpg:49bd8944-fe9f-11ea-a6...</td>\n",
       "      <td>ckkxmbl22000i3b61ytu2adif</td>\n",
       "      <td>in_review</td>\n",
       "      <td>cl_rg/20210415_model_test</td>\n",
       "      <td>02/0290db6020c91ef1fc2d96c5dcec0456c9e55edc50f...</td>\n",
       "      <td>0290db6020c91ef1fc2d96c5dcec0456c9e55edc50f3fe...</td>\n",
       "      <td>{'flat': 0.9463387727737427, 'gable': 0.036230...</td>\n",
       "      <td>flat</td>\n",
       "    </tr>\n",
       "    <tr>\n",
       "      <th>3</th>\n",
       "      <td>rinchen.z@imerit.net</td>\n",
       "      <td>b\"\\x01\\x03\\x00\\x00\\x00\\x01\\x00\\x00\\x00(\\x00\\x0...</td>\n",
       "      <td>cl_rg/20210204_test_set_nearmap_plus_vexcel: 4413</td>\n",
       "      <td>flat</td>\n",
       "      <td>2020-09-19 00:00:00+00:00</td>\n",
       "      <td>sv2:nearmap_vertical_jpg:49bd8944-fe9f-11ea-a6...</td>\n",
       "      <td>ckkxme4fa00033b61otams6yf</td>\n",
       "      <td>in_review</td>\n",
       "      <td>cl_rg/20210415_model_test</td>\n",
       "      <td>02/0290db6020c91ef1fc2d96c5dcec0456c9e55edc50f...</td>\n",
       "      <td>0290db6020c91ef1fc2d96c5dcec0456c9e55edc50f3fe...</td>\n",
       "      <td>{'flat': 0.9463387727737427, 'gable': 0.036230...</td>\n",
       "      <td>flat</td>\n",
       "    </tr>\n",
       "    <tr>\n",
       "      <th>4</th>\n",
       "      <td>noorhasan.ansari@imerit.net</td>\n",
       "      <td>b\"\\x01\\x03\\x00\\x00\\x00\\x01\\x00\\x00\\x00(\\x00\\x0...</td>\n",
       "      <td>cl_rg/20210204_test_set_nearmap_plus_vexcel: 4413</td>\n",
       "      <td>flat</td>\n",
       "      <td>2020-09-19 00:00:00+00:00</td>\n",
       "      <td>sv2:nearmap_vertical_jpg:49bd8944-fe9f-11ea-a6...</td>\n",
       "      <td>ckkxm84ki000j3b61c6jze40y</td>\n",
       "      <td>in_review</td>\n",
       "      <td>cl_rg/20210415_model_test</td>\n",
       "      <td>02/0290db6020c91ef1fc2d96c5dcec0456c9e55edc50f...</td>\n",
       "      <td>0290db6020c91ef1fc2d96c5dcec0456c9e55edc50f3fe...</td>\n",
       "      <td>{'flat': 0.9463387727737427, 'gable': 0.036230...</td>\n",
       "      <td>flat</td>\n",
       "    </tr>\n",
       "  </tbody>\n",
       "</table>\n",
       "</div>"
      ],
      "text/plain": [
       "                    contact_id  \\\n",
       "0         tandin.om@imerit.net   \n",
       "1    shivlal.bediya@imerit.net   \n",
       "2           ugyen.d@imerit.net   \n",
       "3         rinchen.z@imerit.net   \n",
       "4  noorhasan.ansari@imerit.net   \n",
       "\n",
       "                                            geometry  \\\n",
       "0  b\"\\x01\\x03\\x00\\x00\\x00\\x01\\x00\\x00\\x00(\\x00\\x0...   \n",
       "1  b\"\\x01\\x03\\x00\\x00\\x00\\x01\\x00\\x00\\x00(\\x00\\x0...   \n",
       "2  b\"\\x01\\x03\\x00\\x00\\x00\\x01\\x00\\x00\\x00(\\x00\\x0...   \n",
       "3  b\"\\x01\\x03\\x00\\x00\\x00\\x01\\x00\\x00\\x00(\\x00\\x0...   \n",
       "4  b\"\\x01\\x03\\x00\\x00\\x00\\x01\\x00\\x00\\x00(\\x00\\x0...   \n",
       "\n",
       "                                         geometry_id geometry_labels  \\\n",
       "0  cl_rg/20210204_test_set_nearmap_plus_vexcel: 4413            flat   \n",
       "1  cl_rg/20210204_test_set_nearmap_plus_vexcel: 4413            flat   \n",
       "2  cl_rg/20210204_test_set_nearmap_plus_vexcel: 4413            flat   \n",
       "3  cl_rg/20210204_test_set_nearmap_plus_vexcel: 4413            flat   \n",
       "4  cl_rg/20210204_test_set_nearmap_plus_vexcel: 4413            flat   \n",
       "\n",
       "               imagery_date  \\\n",
       "0 2020-09-19 00:00:00+00:00   \n",
       "1 2020-09-19 00:00:00+00:00   \n",
       "2 2020-09-19 00:00:00+00:00   \n",
       "3 2020-09-19 00:00:00+00:00   \n",
       "4 2020-09-19 00:00:00+00:00   \n",
       "\n",
       "                                      imagery_source  \\\n",
       "0  sv2:nearmap_vertical_jpg:49bd8944-fe9f-11ea-a6...   \n",
       "1  sv2:nearmap_vertical_jpg:49bd8944-fe9f-11ea-a6...   \n",
       "2  sv2:nearmap_vertical_jpg:49bd8944-fe9f-11ea-a6...   \n",
       "3  sv2:nearmap_vertical_jpg:49bd8944-fe9f-11ea-a6...   \n",
       "4  sv2:nearmap_vertical_jpg:49bd8944-fe9f-11ea-a6...   \n",
       "\n",
       "               label_vote_id label_vote_status            origin_mnemonic  \\\n",
       "0  ckkxm8oh8000n3b60urhll0f8         in_review  cl_rg/20210415_model_test   \n",
       "1  ckkxm88t300153b61u9fnc83j         in_review  cl_rg/20210415_model_test   \n",
       "2  ckkxmbl22000i3b61ytu2adif         in_review  cl_rg/20210415_model_test   \n",
       "3  ckkxme4fa00033b61otams6yf         in_review  cl_rg/20210415_model_test   \n",
       "4  ckkxm84ki000j3b61c6jze40y         in_review  cl_rg/20210415_model_test   \n",
       "\n",
       "                                            filename  \\\n",
       "0  02/0290db6020c91ef1fc2d96c5dcec0456c9e55edc50f...   \n",
       "1  02/0290db6020c91ef1fc2d96c5dcec0456c9e55edc50f...   \n",
       "2  02/0290db6020c91ef1fc2d96c5dcec0456c9e55edc50f...   \n",
       "3  02/0290db6020c91ef1fc2d96c5dcec0456c9e55edc50f...   \n",
       "4  02/0290db6020c91ef1fc2d96c5dcec0456c9e55edc50f...   \n",
       "\n",
       "                                          entry_hash  \\\n",
       "0  0290db6020c91ef1fc2d96c5dcec0456c9e55edc50f3fe...   \n",
       "1  0290db6020c91ef1fc2d96c5dcec0456c9e55edc50f3fe...   \n",
       "2  0290db6020c91ef1fc2d96c5dcec0456c9e55edc50f3fe...   \n",
       "3  0290db6020c91ef1fc2d96c5dcec0456c9e55edc50f3fe...   \n",
       "4  0290db6020c91ef1fc2d96c5dcec0456c9e55edc50f3fe...   \n",
       "\n",
       "                                           rg_boston rg_boston_class  \n",
       "0  {'flat': 0.9463387727737427, 'gable': 0.036230...            flat  \n",
       "1  {'flat': 0.9463387727737427, 'gable': 0.036230...            flat  \n",
       "2  {'flat': 0.9463387727737427, 'gable': 0.036230...            flat  \n",
       "3  {'flat': 0.9463387727737427, 'gable': 0.036230...            flat  \n",
       "4  {'flat': 0.9463387727737427, 'gable': 0.036230...            flat  "
      ]
     },
     "execution_count": 41,
     "metadata": {},
     "output_type": "execute_result"
    }
   ],
   "source": [
    "df_with_rg_pred_no_nan.head()"
   ]
  },
  {
   "cell_type": "markdown",
   "id": "c9baf93e-a169-4a03-b85a-4df355a36a3b",
   "metadata": {},
   "source": [
    "# Accumulate worker labels"
   ]
  },
  {
   "cell_type": "code",
   "execution_count": 42,
   "id": "b4a5ded7-fcdd-428e-be47-7ca37b9cbd6e",
   "metadata": {},
   "outputs": [],
   "source": [
    "import random\n",
    "\n",
    "from collections import Counter\n",
    "\n",
    "def majority_vote(vote_list):\n",
    "    \"\"\"Probably the 1,000th implementation of majority vote at cape.\n",
    "    But this is a pretty fast one, with random tie-breaking.\n",
    "    \"\"\"\n",
    "    counter = Counter(vote_list)\n",
    "    return random.choice([x for x in counter if counter[x] == max(counter.values())])\n",
    "\n",
    "df = df_with_rg_pred_no_nan\n",
    "columns_to_keep = [\"geometry\", \"imagery_source\", \"imagery_date\", \"rg_boston_class\"]\n",
    "\n",
    "groupby = \"geometry_id\"\n",
    "if groupby is not None and groupby not in columns_to_keep:\n",
    "    columns_to_keep.append(groupby)\n",
    "\n",
    "# group votes, keep only required columns\n",
    "if \"geometry_labels\" in df.columns:\n",
    "\n",
    "    # Labeled dataset. Let's aggregate:\n",
    "\n",
    "    cols_aggregations = {\"geometry_labels\": list}\n",
    "    # If this dataset contains many votes, keep them\n",
    "    if \"label_vote_id\" in df.columns:\n",
    "        cols_aggregations[\"label_vote_id\"] = list\n",
    "\n",
    "    # Keep a few columns for bedrock datasets\n",
    "    for col in [\"cache_key\", \"dataset_path\", \"dataset_format\", \"filename\", \"chips_path\"]:\n",
    "        if col in df.columns:\n",
    "            # Keep first\n",
    "            cols_aggregations[col] = \"first\"  # type: ignore\n",
    "\n",
    "    df_new = df.groupby(columns_to_keep)[list(cols_aggregations.keys())].agg(cols_aggregations).reset_index()\n",
    "    df_new.geometry_labels = df_new.geometry_labels.apply(lambda x: majority_vote(x))\n",
    "    df_new = df_new.drop(columns=\"label_vote_id\")\n"
   ]
  },
  {
   "cell_type": "code",
   "execution_count": 43,
   "id": "a5f9b130-aacd-4e2a-8dd1-3a9e712c678b",
   "metadata": {},
   "outputs": [
    {
     "data": {
      "text/html": [
       "<div>\n",
       "<style scoped>\n",
       "    .dataframe tbody tr th:only-of-type {\n",
       "        vertical-align: middle;\n",
       "    }\n",
       "\n",
       "    .dataframe tbody tr th {\n",
       "        vertical-align: top;\n",
       "    }\n",
       "\n",
       "    .dataframe thead th {\n",
       "        text-align: right;\n",
       "    }\n",
       "</style>\n",
       "<table border=\"1\" class=\"dataframe\">\n",
       "  <thead>\n",
       "    <tr style=\"text-align: right;\">\n",
       "      <th></th>\n",
       "      <th>geometry</th>\n",
       "      <th>imagery_source</th>\n",
       "      <th>imagery_date</th>\n",
       "      <th>rg_boston_class</th>\n",
       "      <th>geometry_id</th>\n",
       "      <th>geometry_labels</th>\n",
       "      <th>filename</th>\n",
       "    </tr>\n",
       "  </thead>\n",
       "  <tbody>\n",
       "    <tr>\n",
       "      <th>0</th>\n",
       "      <td>b'\\x01\\x03\\x00\\x00\\x00\\x01\\x00\\x00\\x00\\x00\\x01...</td>\n",
       "      <td>sv2:nearmap_vertical_jpg:518c4f98-fe9f-11ea-b7...</td>\n",
       "      <td>2020-09-17 00:00:00+00:00</td>\n",
       "      <td>mixed_w_wind_credit</td>\n",
       "      <td>cl_rg/test_vexcel_plus_cl_rg_mixed_aois: 16</td>\n",
       "      <td>mixed_wo_wind_credit</td>\n",
       "      <td>68/689385cad5ced840bad14511af819170edda674f374...</td>\n",
       "    </tr>\n",
       "    <tr>\n",
       "      <th>1</th>\n",
       "      <td>b'\\x01\\x03\\x00\\x00\\x00\\x01\\x00\\x00\\x00\\x00\\x01...</td>\n",
       "      <td>sv2:nearmap_vertical_jpg:031b1d2e-b967-11e7-a6...</td>\n",
       "      <td>2016-07-28 00:00:00+00:00</td>\n",
       "      <td>gable</td>\n",
       "      <td>cl_rg/20210204_test_set_nearmap_plus_vexcel: 4221</td>\n",
       "      <td>gable</td>\n",
       "      <td>8e/8e36ced2d77959dc1141d1e88cb22e6f9c351ae14ea...</td>\n",
       "    </tr>\n",
       "    <tr>\n",
       "      <th>2</th>\n",
       "      <td>b'\\x01\\x03\\x00\\x00\\x00\\x01\\x00\\x00\\x00\\x00\\x02...</td>\n",
       "      <td>sv2:nearmap_vertical_jpg:3234ae72-b967-11e7-af...</td>\n",
       "      <td>2016-09-30 00:00:00+00:00</td>\n",
       "      <td>gable</td>\n",
       "      <td>cl_rg/20210204_test_set_nearmap_plus_vexcel: 1435</td>\n",
       "      <td>flat</td>\n",
       "      <td>9d/9de96dd11516c789e3c50edbb38b010ef360453f1fb...</td>\n",
       "    </tr>\n",
       "    <tr>\n",
       "      <th>3</th>\n",
       "      <td>b'\\x01\\x03\\x00\\x00\\x00\\x01\\x00\\x00\\x00\\x01\\x01...</td>\n",
       "      <td>sv2:nearmap_vertical_jpg:70d270ce-5232-11e8-8f...</td>\n",
       "      <td>2018-04-28 00:00:00+00:00</td>\n",
       "      <td>flat</td>\n",
       "      <td>cl_rg/20210204_test_set_nearmap_plus_vexcel: 3652</td>\n",
       "      <td>flat</td>\n",
       "      <td>d7/d75d309f0c9adf23185e7cfff3929d4e8553c84e8ea...</td>\n",
       "    </tr>\n",
       "    <tr>\n",
       "      <th>4</th>\n",
       "      <td>b'\\x01\\x03\\x00\\x00\\x00\\x01\\x00\\x00\\x00\\x01\\x01...</td>\n",
       "      <td>sv2:nearmap_vertical_jpg:757a2816-b966-11e7-ac...</td>\n",
       "      <td>2015-09-24 00:00:00+00:00</td>\n",
       "      <td>gable</td>\n",
       "      <td>cl_rg/20210204_test_set_nearmap_plus_vexcel: 3020</td>\n",
       "      <td>gable</td>\n",
       "      <td>15/150380e8a132dbfef3677029e5425c22cfa36d94243...</td>\n",
       "    </tr>\n",
       "  </tbody>\n",
       "</table>\n",
       "</div>"
      ],
      "text/plain": [
       "                                            geometry  \\\n",
       "0  b'\\x01\\x03\\x00\\x00\\x00\\x01\\x00\\x00\\x00\\x00\\x01...   \n",
       "1  b'\\x01\\x03\\x00\\x00\\x00\\x01\\x00\\x00\\x00\\x00\\x01...   \n",
       "2  b'\\x01\\x03\\x00\\x00\\x00\\x01\\x00\\x00\\x00\\x00\\x02...   \n",
       "3  b'\\x01\\x03\\x00\\x00\\x00\\x01\\x00\\x00\\x00\\x01\\x01...   \n",
       "4  b'\\x01\\x03\\x00\\x00\\x00\\x01\\x00\\x00\\x00\\x01\\x01...   \n",
       "\n",
       "                                      imagery_source  \\\n",
       "0  sv2:nearmap_vertical_jpg:518c4f98-fe9f-11ea-b7...   \n",
       "1  sv2:nearmap_vertical_jpg:031b1d2e-b967-11e7-a6...   \n",
       "2  sv2:nearmap_vertical_jpg:3234ae72-b967-11e7-af...   \n",
       "3  sv2:nearmap_vertical_jpg:70d270ce-5232-11e8-8f...   \n",
       "4  sv2:nearmap_vertical_jpg:757a2816-b966-11e7-ac...   \n",
       "\n",
       "               imagery_date      rg_boston_class  \\\n",
       "0 2020-09-17 00:00:00+00:00  mixed_w_wind_credit   \n",
       "1 2016-07-28 00:00:00+00:00                gable   \n",
       "2 2016-09-30 00:00:00+00:00                gable   \n",
       "3 2018-04-28 00:00:00+00:00                 flat   \n",
       "4 2015-09-24 00:00:00+00:00                gable   \n",
       "\n",
       "                                         geometry_id       geometry_labels  \\\n",
       "0        cl_rg/test_vexcel_plus_cl_rg_mixed_aois: 16  mixed_wo_wind_credit   \n",
       "1  cl_rg/20210204_test_set_nearmap_plus_vexcel: 4221                 gable   \n",
       "2  cl_rg/20210204_test_set_nearmap_plus_vexcel: 1435                  flat   \n",
       "3  cl_rg/20210204_test_set_nearmap_plus_vexcel: 3652                  flat   \n",
       "4  cl_rg/20210204_test_set_nearmap_plus_vexcel: 3020                 gable   \n",
       "\n",
       "                                            filename  \n",
       "0  68/689385cad5ced840bad14511af819170edda674f374...  \n",
       "1  8e/8e36ced2d77959dc1141d1e88cb22e6f9c351ae14ea...  \n",
       "2  9d/9de96dd11516c789e3c50edbb38b010ef360453f1fb...  \n",
       "3  d7/d75d309f0c9adf23185e7cfff3929d4e8553c84e8ea...  \n",
       "4  15/150380e8a132dbfef3677029e5425c22cfa36d94243...  "
      ]
     },
     "execution_count": 43,
     "metadata": {},
     "output_type": "execute_result"
    }
   ],
   "source": [
    "df_new.head()"
   ]
  },
  {
   "cell_type": "code",
   "execution_count": 44,
   "id": "39d6556e-3d1b-47ca-8efc-8eb02f8f385e",
   "metadata": {},
   "outputs": [
    {
     "data": {
      "text/plain": [
       "array(['mixed_w_wind_credit', 'gable', 'flat', 'unknown', 'hip',\n",
       "       'mixed_wo_wind_credit'], dtype=object)"
      ]
     },
     "execution_count": 44,
     "metadata": {},
     "output_type": "execute_result"
    }
   ],
   "source": [
    "df_new.rg_boston_class.unique()"
   ]
  },
  {
   "cell_type": "code",
   "execution_count": 45,
   "id": "285ca3f0-53a3-4324-958c-3e750e564b10",
   "metadata": {},
   "outputs": [
    {
     "data": {
      "text/plain": [
       "array(['mixed_wo_wind_credit', 'gable', 'flat', 'unknown', 'hip',\n",
       "       'mixed_w_wind_credit'], dtype=object)"
      ]
     },
     "execution_count": 45,
     "metadata": {},
     "output_type": "execute_result"
    }
   ],
   "source": [
    "df_new.geometry_labels.unique()"
   ]
  },
  {
   "cell_type": "code",
   "execution_count": 48,
   "id": "41611e49-4894-4e6c-b8c1-a95f0a324da4",
   "metadata": {},
   "outputs": [],
   "source": [
    "df_with_rg_pred_no_nan_accumulated = df_new\n",
    "df_with_rg_pred_no_nan_accumulated.to_parquet(\"/cnvrg/df_with_rg_pred_no_nan_accumulated.parquet\")"
   ]
  },
  {
   "cell_type": "code",
   "execution_count": 50,
   "id": "4e1c9fa5-0ca3-4c42-8652-91350d19730e",
   "metadata": {},
   "outputs": [
    {
     "data": {
      "text/plain": [
       "['flat',\n",
       " 'gable',\n",
       " 'hip',\n",
       " 'wind_credit',\n",
       " 'no_wind_credit',\n",
       " 'dutch_gable',\n",
       " 'unknown',\n",
       " 'other']"
      ]
     },
     "execution_count": 50,
     "metadata": {},
     "output_type": "execute_result"
    }
   ],
   "source": [
    "from data_science_tools.taxonomies import Taxonomy\n",
    "taxonomy = Taxonomy.from_spec(\"roof_geometry @ 2.0: ground_truth\")\n",
    "taxonomy.labels"
   ]
  },
  {
   "cell_type": "code",
   "execution_count": 55,
   "id": "37d7e61f-1890-4570-b201-1a3459665b6e",
   "metadata": {},
   "outputs": [],
   "source": [
    "from typing import Dict, List, Sequence, Union\n",
    "from sklearn.metrics import confusion_matrix\n",
    "\n",
    "import numpy as np\n",
    "def plot_cm(\n",
    "    y_true: Union[Sequence, np.ndarray],\n",
    "    y_pred: Union[Sequence, np.ndarray],\n",
    "    name: str,\n",
    "    labels: Union[Sequence, np.ndarray]\n",
    ") -> None:\n",
    "    \"\"\"\n",
    "    Plot confusion matrices.\n",
    "\n",
    "    :param y_true: array-like of shape (n_samples,)\n",
    "    :param y_pred: array-like of shape (n_samples,)\n",
    "    :param name: name of the plot\n",
    "    :param labels: array-like of shape (n_classes,), the class labels\n",
    "    \"\"\"\n",
    "\n",
    "    fig = plt.figure(figsize=(12, 6), facecolor=\"w\")\n",
    "    for i, (sum_axis, cm_type, cm_name) in enumerate([(0, \"column\", \"Precision\"), (1, \"row\", \"Recall\")]):\n",
    "        ax = fig.add_subplot(1, 2, i + 1)\n",
    "\n",
    "        data = confusion_matrix(y_true, y_pred, labels=labels)\n",
    "\n",
    "        norm_conf = data / (np.sum(data, axis=sum_axis, keepdims=True) + 1e-7)\n",
    "        _ = ax.imshow(\n",
    "            norm_conf,\n",
    "            cmap=plt.get_cmap(\"coolwarm\"),\n",
    "            interpolation=\"nearest\",\n",
    "            vmin=0,\n",
    "            vmax=1,\n",
    "        )\n",
    "\n",
    "        for x in range(len(labels)):\n",
    "            for y in range(len(labels)):\n",
    "                label = f\"{data[y][x]}\\n({norm_conf[y][x]:.2f})\"\n",
    "\n",
    "                ax.annotate(\n",
    "                    label,\n",
    "                    xy=(x, y),\n",
    "                    horizontalalignment=\"center\",\n",
    "                    verticalalignment=\"center\",\n",
    "                    fontsize=8,\n",
    "                )\n",
    "        axis_labels = [c[:12] + (c[12:] and \".\") for c in labels]\n",
    "        ax.set_xticks(range(len(axis_labels)))\n",
    "        ax.set_xticklabels(axis_labels, fontsize=8, rotation=45, horizontalalignment=\"right\")\n",
    "        ax.set_yticks(range(len(axis_labels)))\n",
    "        ax.set_yticklabels(axis_labels, fontsize=8)\n",
    "\n",
    "        if i == 0:\n",
    "            ax.set_ylabel(\"GT\")\n",
    "        ax.set_xlabel(\"Prediction\")\n",
    "\n",
    "        title = f\"{cm_name} ({cm_type} normalized)\"\n",
    "        ax.set_title(title)\n",
    "        ax.autoscale()\n",
    "\n",
    "    fig.tight_layout(rect=[0.0, 0.02, 1, 0.9])\n",
    "    acc = np.sum([data[i, i] for i in range(len(data))]) / (1e-7 + np.sum(data))\n",
    "    fig.suptitle(f\"{name} ({len(y_true)} ex)\\n Accuracy: {acc:.4f}\", fontsize=12)\n",
    "    plt.show()\n",
    "\n",
    "def plot_confusion_matrices(split_df: pd.DataFrame, title='default') -> None:\n",
    "    \"\"\"\n",
    "    Plot all confusion matrices.\n",
    "    \"\"\"\n",
    "    y_true = np.array([pred for pred in split_df[\"geometry_labels\"]])\n",
    "    y_pred = np.array([pred for pred in split_df[\"rg_boston_class\"]])\n",
    "\n",
    "    plot_cm(y_true, y_pred, title, taxonomy.labels)"
   ]
  },
  {
   "cell_type": "code",
   "execution_count": 59,
   "id": "03e7dfe6-8930-4975-aaa3-927cae5f2885",
   "metadata": {},
   "outputs": [
    {
     "data": {
      "image/png": "[encoded data removed]",
      "text/plain": [
       "<Figure size 1200x600 with 2 Axes>"
      ]
     },
     "metadata": {},
     "output_type": "display_data"
    }
   ],
   "source": [
    "plot_confusion_matrices(df_with_rg_pred_no_nan_accumulated, \"roof geometry prd performance (20210427-prod-1)\")"
   ]
  }
 ],
 "metadata": {
  "kernelspec": {
   "display_name": "Python 3 (ipykernel)",
   "language": "python",
   "name": "python3"
  },
  "language_info": {
   "codemirror_mode": {
    "name": "ipython",
    "version": 3
   },
   "file_extension": ".py",
   "mimetype": "text/x-python",
   "name": "python",
   "nbconvert_exporter": "python",
   "pygments_lexer": "ipython3",
   "version": "3.8.8"
  }
 },
 "nbformat": 4,
 "nbformat_minor": 5
}
