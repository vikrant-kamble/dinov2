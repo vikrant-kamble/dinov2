{
 "cells": [
  {
   "cell_type": "code",
   "execution_count": 1,
   "id": "13ce97cd-611b-49e4-8c19-cd0e34098d1f",
   "metadata": {},
   "outputs": [],
   "source": [
    "import pandas as pd\n",
    "from data_science_tools.core import temporary_configuration\n",
    "from data_science_tools.datasets import AttrGeomSet, GeomLabelSet\n",
    "from data_science_tools.datasets import RawGeomVoteSet, GeomLabelSet"
   ]
  },
  {
   "cell_type": "markdown",
   "id": "e5d81053-1b93-4a55-986b-b43abc8d116a",
   "metadata": {},
   "source": [
    "### Train sets"
   ]
  },
  {
   "cell_type": "code",
   "execution_count": 1,
   "id": "6aede2f5-511b-4808-81ed-65fc759b3238",
   "metadata": {},
   "outputs": [],
   "source": [
    "\n",
    "\n",
    "rcr_mnemonics_train = [\"rcr_v3_1/20201110_v3_train\",\n",
    "\"rcr_v3_1/20201110_v3_val\",\n",
    "\"rcr_v3_1/20201201_nearmap_conus_al_1\",\n",
    "\"rcr_v3_1/20201201_nearmap_aus_al_1\",\n",
    "\"rcr_v3_1/20210111_al2_temp_nearmap_can\",\n",
    "\"rcr_v3_1/20210111_al2_temp_nearmap_conus\",\n",
    "                 \n",
    "]\n",
    "all_dfs = []\n",
    "with temporary_configuration() as tmp_config:\n",
    "    tmp_config[\"datasets\"][\"perform_checks\"] = False\n",
    "    for m in rcr_mnemonics_train:\n",
    "        ds = RawGeomVoteSet.from_mnemonic(m)\n",
    "        df = ds.to_pandas()\n",
    "        # group votes, keep only required columns\n",
    "        columns_to_keep = [\"geometry\", \"imagery_source\", \"imagery_date\"]\n",
    "        # Labeled dataset. Let's aggregate:\n",
    "        cols_aggregations = {\"geometry_labels\": list}\n",
    "        # If this dataset contains many votes, keep them\n",
    "        if \"label_vote_id\" in df.columns:\n",
    "            cols_aggregations[\"label_vote_id\"] = list\n",
    "        \n",
    "        # Keep a few columns for bedrock datasets\n",
    "        for col in [\"cache_key\", \"dataset_path\", \"dataset_format\"]:\n",
    "            if col in df.columns:\n",
    "                # Keep first\n",
    "                cols_aggregations[col] = \"first\"  # type: ignore\n",
    "        \n",
    "        df_agg = df.groupby(columns_to_keep)[list(cols_aggregations.keys())].agg(cols_aggregations).reset_index()\n",
    "\n",
    "        all_dfs.append(df_agg)\n",
    "concatenated_df = pd.concat(all_dfs, axis=0)"
   ]
  },
  {
   "cell_type": "code",
   "execution_count": 2,
   "id": "377728de-877b-46a0-960e-2307ebbb5dd2",
   "metadata": {},
   "outputs": [
    {
     "data": {
      "text/plain": [
       "235971"
      ]
     },
     "execution_count": 2,
     "metadata": {},
     "output_type": "execute_result"
    }
   ],
   "source": [
    "len(concatenated_df)"
   ]
  },
  {
   "cell_type": "code",
   "execution_count": 3,
   "id": "fc6008bd-1f26-49b4-87af-d4853d2b2b33",
   "metadata": {},
   "outputs": [],
   "source": [
    "df = concatenated_df.drop_duplicates(subset='geometry')"
   ]
  },
  {
   "cell_type": "code",
   "execution_count": 4,
   "id": "9d6f92e9-79b1-4ce5-a48e-b56c79c4c446",
   "metadata": {},
   "outputs": [
    {
     "name": "stderr",
     "output_type": "stream",
     "text": [
      "/tmp/ipykernel_620/1776969581.py:4: SettingWithCopyWarning: \n",
      "A value is trying to be set on a copy of a slice from a DataFrame.\n",
      "Try using .loc[row_indexer,col_indexer] = value instead\n",
      "\n",
      "See the caveats in the documentation: https://pandas.pydata.org/pandas-docs/stable/user_guide/indexing.html#returning-a-view-versus-a-copy\n",
      "  df[\"geometry_label\"] = df.geometry_labels.apply(lambda g: most_frequent(g))\n"
     ]
    }
   ],
   "source": [
    "def most_frequent(l):\n",
    "    return max(set(l), key = l.count)\n",
    "\n",
    "df[\"geometry_label\"] = df.geometry_labels.apply(lambda g: most_frequent(g))"
   ]
  },
  {
   "cell_type": "code",
   "execution_count": 5,
   "id": "e6f52f06-fce9-4317-b129-3d3bec65c5bb",
   "metadata": {},
   "outputs": [
    {
     "data": {
      "text/plain": [
       "233472"
      ]
     },
     "execution_count": 5,
     "metadata": {},
     "output_type": "execute_result"
    }
   ],
   "source": [
    "len(df)"
   ]
  },
  {
   "cell_type": "code",
   "execution_count": 6,
   "id": "7254633b-962b-4e86-8941-2754a1eee06a",
   "metadata": {},
   "outputs": [
    {
     "name": "stderr",
     "output_type": "stream",
     "text": [
      "/tmp/ipykernel_620/3939177330.py:1: PerformanceWarning: \n",
      "your performance may suffer as PyTables will pickle object types that it cannot\n",
      "map directly to c-types [inferred_type->mixed,key->block1_values] [items->Index(['geometry', 'imagery_source', 'geometry_labels', 'label_vote_id',\n",
      "       'geometry_label'],\n",
      "      dtype='object')]\n",
      "\n",
      "  df.to_hdf(\"/cnvrg/output/rcr_accumulated_train_sets_for_mnemonic.h5\", key=\"data\")\n"
     ]
    }
   ],
   "source": [
    "df.to_hdf(\"/cnvrg/output/rcr_accumulated_train_sets_for_mnemonic.h5\", key=\"data\")"
   ]
  },
  {
   "cell_type": "code",
   "execution_count": 7,
   "id": "36b15185-ae37-4cb9-a758-0401527c5e08",
   "metadata": {},
   "outputs": [],
   "source": [
    "df = df.drop(columns=['geometry_labels', 'label_vote_id'])\n",
    "df = df.rename(columns={'geometry_label': 'geometry_labels'})"
   ]
  },
  {
   "cell_type": "code",
   "execution_count": 8,
   "id": "e7d6182f-87bc-41b7-a536-3ab494e6256a",
   "metadata": {},
   "outputs": [
    {
     "data": {
      "text/html": [
       "<div>\n",
       "<style scoped>\n",
       "    .dataframe tbody tr th:only-of-type {\n",
       "        vertical-align: middle;\n",
       "    }\n",
       "\n",
       "    .dataframe tbody tr th {\n",
       "        vertical-align: top;\n",
       "    }\n",
       "\n",
       "    .dataframe thead th {\n",
       "        text-align: right;\n",
       "    }\n",
       "</style>\n",
       "<table border=\"1\" class=\"dataframe\">\n",
       "  <thead>\n",
       "    <tr style=\"text-align: right;\">\n",
       "      <th></th>\n",
       "      <th>geometry</th>\n",
       "      <th>imagery_source</th>\n",
       "      <th>imagery_date</th>\n",
       "      <th>geometry_labels</th>\n",
       "    </tr>\n",
       "  </thead>\n",
       "  <tbody>\n",
       "    <tr>\n",
       "      <th>0</th>\n",
       "      <td>b'\\x01\\x03\\x00\\x00\\x00\\x01\\x00\\x00\\x00\\x00\\x01...</td>\n",
       "      <td>sv2:nearmap_vertical_jpg:49085fd0-b968-11e7-a5...</td>\n",
       "      <td>2017-09-09 00:00:00+00:00</td>\n",
       "      <td>2_poor</td>\n",
       "    </tr>\n",
       "    <tr>\n",
       "      <th>1</th>\n",
       "      <td>b'\\x01\\x03\\x00\\x00\\x00\\x01\\x00\\x00\\x00\\x00\\x01...</td>\n",
       "      <td>sv2:nearmap_vertical_jpg:223cb98a-c008-11e8-b4...</td>\n",
       "      <td>2018-09-07 00:00:00+00:00</td>\n",
       "      <td>multiple_roofs</td>\n",
       "    </tr>\n",
       "    <tr>\n",
       "      <th>2</th>\n",
       "      <td>b'\\x01\\x03\\x00\\x00\\x00\\x01\\x00\\x00\\x00\\x00\\x01...</td>\n",
       "      <td>sv2:nearmap_vertical_jpg:4603d90e-1192-11e8-b0...</td>\n",
       "      <td>2018-01-24 00:00:00+00:00</td>\n",
       "      <td>5_excellent</td>\n",
       "    </tr>\n",
       "    <tr>\n",
       "      <th>3</th>\n",
       "      <td>b'\\x01\\x03\\x00\\x00\\x00\\x01\\x00\\x00\\x00\\x00\\x01...</td>\n",
       "      <td>sv2:nearmap_vertical_jpg:22f2e790-bb6d-11e8-b1...</td>\n",
       "      <td>2018-09-07 00:00:00+00:00</td>\n",
       "      <td>multiple_roofs</td>\n",
       "    </tr>\n",
       "    <tr>\n",
       "      <th>4</th>\n",
       "      <td>b'\\x01\\x03\\x00\\x00\\x00\\x01\\x00\\x00\\x00\\x00\\x01...</td>\n",
       "      <td>sv2:nearmap_vertical_jpg:35c9a9c4-e41e-11e8-85...</td>\n",
       "      <td>2018-10-25 00:00:00+00:00</td>\n",
       "      <td>4_good</td>\n",
       "    </tr>\n",
       "    <tr>\n",
       "      <th>...</th>\n",
       "      <td>...</td>\n",
       "      <td>...</td>\n",
       "      <td>...</td>\n",
       "      <td>...</td>\n",
       "    </tr>\n",
       "    <tr>\n",
       "      <th>14989</th>\n",
       "      <td>b'\\x01\\x03\\x00\\x00\\x00\\x12\\x00\\x00\\x00\\x15\\x01...</td>\n",
       "      <td>sv2:nearmap_vertical_jpg:aa7d86ec-9b39-11e8-90...</td>\n",
       "      <td>2018-07-23 00:00:00+00:00</td>\n",
       "      <td>3_fair</td>\n",
       "    </tr>\n",
       "    <tr>\n",
       "      <th>14990</th>\n",
       "      <td>b'\\x01\\x03\\x00\\x00\\x00\\x14\\x00\\x00\\x00\\x81\\x01...</td>\n",
       "      <td>sv2:nearmap_vertical_jpg:8c28508c-a722-11e9-b3...</td>\n",
       "      <td>2019-06-24 00:00:00+00:00</td>\n",
       "      <td>1_severe</td>\n",
       "    </tr>\n",
       "    <tr>\n",
       "      <th>14991</th>\n",
       "      <td>b'\\x01\\x03\\x00\\x00\\x00\\x15\\x00\\x00\\x00\\xc7\\x00...</td>\n",
       "      <td>sv2:nearmap_vertical_jpg:083d9864-c2e1-11ea-9a...</td>\n",
       "      <td>2020-07-01 00:00:00+00:00</td>\n",
       "      <td>4_good</td>\n",
       "    </tr>\n",
       "    <tr>\n",
       "      <th>14992</th>\n",
       "      <td>b'\\x01\\x03\\x00\\x00\\x00\\x17\\x00\\x00\\x00-\\x01\\x0...</td>\n",
       "      <td>sv2:nearmap_vertical_jpg:ffd055ee-e430-11e8-b9...</td>\n",
       "      <td>2018-10-26 00:00:00+00:00</td>\n",
       "      <td>3_fair</td>\n",
       "    </tr>\n",
       "    <tr>\n",
       "      <th>14993</th>\n",
       "      <td>b'\\x01\\x03\\x00\\x00\\x00\\x18\\x00\\x00\\x00\\xc1\\x00...</td>\n",
       "      <td>sv2:nearmap_vertical_jpg:a86828d8-d9fd-11e7-a2...</td>\n",
       "      <td>2017-11-28 00:00:00+00:00</td>\n",
       "      <td>multiple_roofs</td>\n",
       "    </tr>\n",
       "  </tbody>\n",
       "</table>\n",
       "<p>233472 rows × 4 columns</p>\n",
       "</div>"
      ],
      "text/plain": [
       "                                                geometry  \\\n",
       "0      b'\\x01\\x03\\x00\\x00\\x00\\x01\\x00\\x00\\x00\\x00\\x01...   \n",
       "1      b'\\x01\\x03\\x00\\x00\\x00\\x01\\x00\\x00\\x00\\x00\\x01...   \n",
       "2      b'\\x01\\x03\\x00\\x00\\x00\\x01\\x00\\x00\\x00\\x00\\x01...   \n",
       "3      b'\\x01\\x03\\x00\\x00\\x00\\x01\\x00\\x00\\x00\\x00\\x01...   \n",
       "4      b'\\x01\\x03\\x00\\x00\\x00\\x01\\x00\\x00\\x00\\x00\\x01...   \n",
       "...                                                  ...   \n",
       "14989  b'\\x01\\x03\\x00\\x00\\x00\\x12\\x00\\x00\\x00\\x15\\x01...   \n",
       "14990  b'\\x01\\x03\\x00\\x00\\x00\\x14\\x00\\x00\\x00\\x81\\x01...   \n",
       "14991  b'\\x01\\x03\\x00\\x00\\x00\\x15\\x00\\x00\\x00\\xc7\\x00...   \n",
       "14992  b'\\x01\\x03\\x00\\x00\\x00\\x17\\x00\\x00\\x00-\\x01\\x0...   \n",
       "14993  b'\\x01\\x03\\x00\\x00\\x00\\x18\\x00\\x00\\x00\\xc1\\x00...   \n",
       "\n",
       "                                          imagery_source  \\\n",
       "0      sv2:nearmap_vertical_jpg:49085fd0-b968-11e7-a5...   \n",
       "1      sv2:nearmap_vertical_jpg:223cb98a-c008-11e8-b4...   \n",
       "2      sv2:nearmap_vertical_jpg:4603d90e-1192-11e8-b0...   \n",
       "3      sv2:nearmap_vertical_jpg:22f2e790-bb6d-11e8-b1...   \n",
       "4      sv2:nearmap_vertical_jpg:35c9a9c4-e41e-11e8-85...   \n",
       "...                                                  ...   \n",
       "14989  sv2:nearmap_vertical_jpg:aa7d86ec-9b39-11e8-90...   \n",
       "14990  sv2:nearmap_vertical_jpg:8c28508c-a722-11e9-b3...   \n",
       "14991  sv2:nearmap_vertical_jpg:083d9864-c2e1-11ea-9a...   \n",
       "14992  sv2:nearmap_vertical_jpg:ffd055ee-e430-11e8-b9...   \n",
       "14993  sv2:nearmap_vertical_jpg:a86828d8-d9fd-11e7-a2...   \n",
       "\n",
       "                   imagery_date geometry_labels  \n",
       "0     2017-09-09 00:00:00+00:00          2_poor  \n",
       "1     2018-09-07 00:00:00+00:00  multiple_roofs  \n",
       "2     2018-01-24 00:00:00+00:00     5_excellent  \n",
       "3     2018-09-07 00:00:00+00:00  multiple_roofs  \n",
       "4     2018-10-25 00:00:00+00:00          4_good  \n",
       "...                         ...             ...  \n",
       "14989 2018-07-23 00:00:00+00:00          3_fair  \n",
       "14990 2019-06-24 00:00:00+00:00        1_severe  \n",
       "14991 2020-07-01 00:00:00+00:00          4_good  \n",
       "14992 2018-10-26 00:00:00+00:00          3_fair  \n",
       "14993 2017-11-28 00:00:00+00:00  multiple_roofs  \n",
       "\n",
       "[233472 rows x 4 columns]"
      ]
     },
     "execution_count": 8,
     "metadata": {},
     "output_type": "execute_result"
    }
   ],
   "source": [
    "df"
   ]
  },
  {
   "cell_type": "code",
   "execution_count": 10,
   "id": "7136318d-c589-4eac-b77e-3f5464ba8c21",
   "metadata": {},
   "outputs": [],
   "source": [
    "df.to_parquet(\"/cnvrg/output/rcr_train_df_for_chipping/dataset.parquet\")"
   ]
  },
  {
   "cell_type": "markdown",
   "id": "9abad560-78ec-4153-b0c4-20de7bccb739",
   "metadata": {},
   "source": [
    "### Test set"
   ]
  },
  {
   "cell_type": "code",
   "execution_count": 11,
   "id": "a12f229c-980a-48b7-af3a-b5a40be5757c",
   "metadata": {},
   "outputs": [],
   "source": [
    "with temporary_configuration() as tmp_config:\n",
    "    tmp_config[\"datasets\"][\"perform_checks\"] = False\n",
    "   \n",
    "    ds = RawGeomVoteSet.from_mnemonic(\"rcr_v3_1/20201110_v3_test\")\n",
    "    df = ds.to_pandas()\n",
    "# group votes, keep only required columns\n",
    "columns_to_keep = [\"geometry\", \"imagery_source\", \"imagery_date\"]\n",
    "# Labeled dataset. Let's aggregate:\n",
    "cols_aggregations = {\"geometry_labels\": list}\n",
    "# If this dataset contains many votes, keep them\n",
    "if \"label_vote_id\" in df.columns:\n",
    "    cols_aggregations[\"label_vote_id\"] = list\n",
    "\n",
    "# Keep a few columns for bedrock datasets\n",
    "for col in [\"cache_key\", \"dataset_path\", \"dataset_format\"]:\n",
    "    if col in df.columns:\n",
    "        # Keep first\n",
    "        cols_aggregations[col] = \"first\"  # type: ignore\n",
    "\n",
    "df_agg = df.groupby(columns_to_keep)[list(cols_aggregations.keys())].agg(cols_aggregations).reset_index()\n",
    "        \n",
    "concatenated_df = df_agg"
   ]
  },
  {
   "cell_type": "code",
   "execution_count": 12,
   "id": "10d73a64-d516-45df-bbfa-fc2905ad8db8",
   "metadata": {},
   "outputs": [
    {
     "data": {
      "text/plain": [
       "9314"
      ]
     },
     "execution_count": 12,
     "metadata": {},
     "output_type": "execute_result"
    }
   ],
   "source": [
    "len(concatenated_df)"
   ]
  },
  {
   "cell_type": "code",
   "execution_count": 13,
   "id": "50ec5c9b-dcda-4a98-b589-9caefe7ff5cd",
   "metadata": {},
   "outputs": [],
   "source": [
    "df = concatenated_df.drop_duplicates(subset='geometry')"
   ]
  },
  {
   "cell_type": "code",
   "execution_count": 14,
   "id": "24ca74ba-2962-448d-bd57-4d9e798f43b1",
   "metadata": {},
   "outputs": [
    {
     "data": {
      "text/plain": [
       "9314"
      ]
     },
     "execution_count": 14,
     "metadata": {},
     "output_type": "execute_result"
    }
   ],
   "source": [
    "def most_frequent(l):\n",
    "    return max(set(l), key = l.count)\n",
    "\n",
    "df[\"geometry_label\"] = df.geometry_labels.apply(lambda g: most_frequent(g))\n",
    "len(df)"
   ]
  },
  {
   "cell_type": "code",
   "execution_count": 15,
   "id": "e480ea7f-5486-459c-9e5d-1fd62db5f3e3",
   "metadata": {},
   "outputs": [
    {
     "name": "stderr",
     "output_type": "stream",
     "text": [
      "/tmp/ipykernel_620/255114825.py:1: PerformanceWarning: \n",
      "your performance may suffer as PyTables will pickle object types that it cannot\n",
      "map directly to c-types [inferred_type->mixed,key->block1_values] [items->Index(['geometry', 'imagery_source', 'geometry_labels', 'label_vote_id',\n",
      "       'geometry_label'],\n",
      "      dtype='object')]\n",
      "\n",
      "  df.to_hdf(\"/cnvrg/output/rcr_accumulated_test_sets_for_mnemonic.h5\", key=\"data\")\n"
     ]
    }
   ],
   "source": [
    "df.to_hdf(\"/cnvrg/output/rcr_accumulated_test_sets_for_mnemonic.h5\", key=\"data\")"
   ]
  },
  {
   "cell_type": "code",
   "execution_count": 16,
   "id": "3765fdba-cd89-457d-91c8-db64eae1ee31",
   "metadata": {},
   "outputs": [],
   "source": [
    "df = df.drop(columns=['geometry_labels', 'label_vote_id'])\n",
    "df = df.rename(columns={'geometry_label': 'geometry_labels'})"
   ]
  },
  {
   "cell_type": "code",
   "execution_count": 18,
   "id": "2059cf12-4bb2-4420-9b6a-a1169ca1e3d2",
   "metadata": {},
   "outputs": [],
   "source": [
    "df.to_parquet(\"/cnvrg/output/rcr_test_df_for_chipping/dataset.parquet\")"
   ]
  },
  {
   "cell_type": "code",
   "execution_count": null,
   "id": "a3f09cb6-d654-436d-b208-9f4d6029b046",
   "metadata": {},
   "outputs": [],
   "source": [
    "#################### DO chipping #############################"
   ]
  },
  {
   "cell_type": "code",
   "execution_count": 2,
   "id": "01d6d1e9-2ba4-42eb-b9c1-082206070fa1",
   "metadata": {},
   "outputs": [],
   "source": [
    "df = pd.read_parquet(\"/cnvrg/output/rcr_evaluation_bedrock_fixed_train/chips/dataset.parquet\")\n",
    "df_test = pd.read_parquet(\"/data/dino_rcr_test_chips2/chips/dataset.parquet\")"
   ]
  },
  {
   "cell_type": "code",
   "execution_count": 3,
   "id": "6a3079d4-8f56-446c-bdf0-3f9c9c987e5c",
   "metadata": {},
   "outputs": [
    {
     "data": {
      "text/plain": [
       "Index(['geometry', 'imagery_source', 'imagery_date', 'geometry_labels',\n",
       "       'filename', 'entry_hash'],\n",
       "      dtype='object')"
      ]
     },
     "execution_count": 3,
     "metadata": {},
     "output_type": "execute_result"
    }
   ],
   "source": [
    "df.columns"
   ]
  },
  {
   "cell_type": "code",
   "execution_count": 4,
   "id": "79f0768f-d76e-420b-b05b-0c133efbafe5",
   "metadata": {},
   "outputs": [],
   "source": [
    "\n",
    "X_train = df\n",
    "X_val = df_test\n"
   ]
  },
  {
   "cell_type": "code",
   "execution_count": 5,
   "id": "c308a33c-be37-4771-863c-2136801e049a",
   "metadata": {},
   "outputs": [],
   "source": [
    "rcr_labels = list(X_train[\"geometry_labels\"].unique())"
   ]
  },
  {
   "cell_type": "code",
   "execution_count": 7,
   "id": "5d7d241b-a306-4c5f-b921-28c89dba7ae3",
   "metadata": {},
   "outputs": [
    {
     "data": {
      "text/plain": [
       "['2_poor',\n",
       " 'multiple_roofs',\n",
       " '5_excellent',\n",
       " '4_good',\n",
       " '3_fair',\n",
       " '1_severe',\n",
       " 'rating_impossible',\n",
       " 'no_roof']"
      ]
     },
     "execution_count": 7,
     "metadata": {},
     "output_type": "execute_result"
    }
   ],
   "source": [
    "rcr_labels"
   ]
  },
  {
   "cell_type": "code",
   "execution_count": 6,
   "id": "4324a6b9-866c-48c8-8675-dfb6f404dff2",
   "metadata": {},
   "outputs": [],
   "source": [
    "import os\n",
    "base_dir = \"/cnvrg/rcr_evaluation/train\"\n",
    "for label in rcr_labels:\n",
    "    os.makedirs(os.path.join(base_dir, label), exist_ok=True)\n",
    "\n",
    "base_dir = \"/cnvrg/rcr_evaluation/val\"\n",
    "for label in rcr_labels:\n",
    "    os.makedirs(os.path.join(base_dir, label), exist_ok=True)"
   ]
  },
  {
   "cell_type": "code",
   "execution_count": 8,
   "id": "d7db2e3d-af6d-4338-a197-875366440f30",
   "metadata": {},
   "outputs": [],
   "source": [
    "X = X_val\n",
    "\n",
    "dataset_path = \"/cnvrg/rcr_evaluation/val\"\n",
    "chips_dir = \"/data/dino_rcr_test_chips2/chips\"\n",
    "for single_file, pred in zip(X.filename, X.geometry_labels):\n",
    "    image_full_path = os.path.join(chips_dir, single_file)\n",
    "    filename = image_full_path.split(\"/\")[-1]   \n",
    "    os.symlink(image_full_path, os.path.join(dataset_path, pred, filename))"
   ]
  },
  {
   "cell_type": "code",
   "execution_count": 9,
   "id": "94162c5a-4972-4338-be39-c290cfae14fc",
   "metadata": {},
   "outputs": [],
   "source": [
    "X = X_train\n",
    "\n",
    "dataset_path = \"/cnvrg/rcr_evaluation/train\"\n",
    "chips_dir = \"/cnvrg/output/rcr_evaluation_bedrock_fixed_train/chips\"\n",
    "for single_file, pred in zip(X.filename, X.geometry_labels):\n",
    "    image_full_path = os.path.join(chips_dir, single_file)\n",
    "    filename = image_full_path.split(\"/\")[-1]   \n",
    "    os.symlink(image_full_path, os.path.join(dataset_path, pred, filename))"
   ]
  },
  {
   "cell_type": "code",
   "execution_count": 12,
   "id": "037f6e67-5a0a-4e0e-baf3-d22c7722a0bc",
   "metadata": {},
   "outputs": [
    {
     "data": {
      "text/plain": [
       "{'n00000000': '1_severe',\n",
       " 'n00000001': '2_poor',\n",
       " 'n00000002': '3_fair',\n",
       " 'n00000003': '4_good',\n",
       " 'n00000004': '5_excellent',\n",
       " 'n00000005': 'multiple_roofs',\n",
       " 'n00000006': 'no_roof',\n",
       " 'n00000007': 'rating_impossible'}"
      ]
     },
     "execution_count": 12,
     "metadata": {},
     "output_type": "execute_result"
    }
   ],
   "source": [
    "import shutil\n",
    "import glob\n",
    "root = \"/cnvrg\"\n",
    "dataset = \"rcr_evaluation\"\n",
    "\n",
    "out_dataset = f\"{dataset}_imagenet\"\n",
    "shutil.rmtree(f\"{root}/{out_dataset}\", ignore_errors=True)\n",
    "\n",
    "files = glob.glob(f\"{root}/{dataset}/train/**/*.png\", recursive=True)\n",
    "\n",
    "all_labels = set(\n",
    "    [\n",
    "        x.split(os.path.sep)[-2] for x in files\n",
    "    ]\n",
    ")\n",
    "all_labels = {f\"n{i:08d}\": l for i, l in enumerate(sorted(all_labels))}\n",
    "all_labels_i = {v:k for k,v in all_labels.items()}\n",
    "all_labels"
   ]
  },
  {
   "cell_type": "code",
   "execution_count": 13,
   "id": "2b94d9ec-a512-47b5-b71e-b20932043716",
   "metadata": {},
   "outputs": [],
   "source": [
    "os.makedirs(f\"{root}/{out_dataset}/train\", exist_ok=True)\n",
    "os.makedirs(f\"{root}/{out_dataset}/val\", exist_ok=True)\n",
    "\n",
    "with open(f\"{root}/{out_dataset}/labels.txt\", \"w+\") as fp:\n",
    "    for i, l in all_labels.items():\n",
    "        fp.write(f\"{i},{l}\\n\")"
   ]
  },
  {
   "cell_type": "code",
   "execution_count": 14,
   "id": "d84383e7-d3c1-41bb-aa33-bea156d1f33b",
   "metadata": {},
   "outputs": [
    {
     "name": "stdout",
     "output_type": "stream",
     "text": [
      "233413\n"
     ]
    }
   ],
   "source": [
    "num_train_files = len(files)\n",
    "print(num_train_files)\n",
    "for i, f in enumerate(files):\n",
    "    split, class_label, filename = f.split(os.path.sep)[-3:]\n",
    "\n",
    "    assert split in ['train', 'val', 'test'], f\"{split} not a split\"\n",
    "\n",
    "    assert class_label in all_labels.values()\n",
    "\n",
    "    d = f\"{root}/{out_dataset}/{split}/{all_labels_i[class_label]}\"\n",
    "\n",
    "    os.makedirs(d, exist_ok=True)\n",
    "\n",
    "    os.symlink(f, f\"{d}/{all_labels_i[class_label]}_{i}.png\")"
   ]
  },
  {
   "cell_type": "code",
   "execution_count": 15,
   "id": "b56641b3-6ada-4e8b-a547-e9ecec958724",
   "metadata": {},
   "outputs": [],
   "source": [
    "files = glob.glob(f\"{root}/{dataset}/val/**/*.png\", recursive=True)\n",
    "for i, f in enumerate(files):\n",
    "    split, class_label, filename = f.split(os.path.sep)[-3:]\n",
    "\n",
    "    assert split in ['train', 'val', 'test'], f\"{split} not a split\"\n",
    "\n",
    "    assert class_label in all_labels.values()\n",
    "\n",
    "    d = f\"{root}/{out_dataset}/{split}/{all_labels_i[class_label]}\"\n",
    "\n",
    "    os.makedirs(d, exist_ok=True)\n",
    "\n",
    "    os.symlink(f, f\"{d}/{all_labels_i[class_label]}_{num_train_files+i}.png\")"
   ]
  },
  {
   "cell_type": "code",
   "execution_count": 5,
   "id": "8db19a4e-13b0-4088-b37f-c6333d55e870",
   "metadata": {},
   "outputs": [],
   "source": [
    "root = \"/cnvrg\"\n",
    "dataset = \"rcr_evaluation\"\n",
    "out_dataset = f\"{dataset}_imagenet\"\n",
    "import sys\n",
    "sys.path.append(\"/cnvrg/\")\n",
    "from dinov2.data.datasets import ImageNet\n",
    "for split in [ImageNet.Split.TRAIN, ImageNet.Split.VAL]:\n",
    "    dataset = ImageNet(split=split, root=f\"{root}/{out_dataset}\", extra=f\"{root}/{out_dataset}\")\n",
    "    dataset.dump_extra()"
   ]
  },
  {
   "cell_type": "code",
   "execution_count": 6,
   "id": "751a4546-159d-429d-88f5-b1fed7ee685c",
   "metadata": {},
   "outputs": [
    {
     "name": "stdout",
     "output_type": "stream",
     "text": [
      "file count train: 233413\n",
      "file count val: 9314\n"
     ]
    }
   ],
   "source": [
    "import os\n",
    "\n",
    "count = 0\n",
    "for root_dir, cur_dir, files in os.walk(r'/cnvrg/rcr_evaluation_imagenet/train'):\n",
    "    count += len(files)\n",
    "print('file count train:', count)\n",
    "count = 0\n",
    "for root_dir, cur_dir, files in os.walk(r'/cnvrg/rcr_evaluation_imagenet/val'):\n",
    "    count += len(files)\n",
    "print('file count val:', count)"
   ]
  },
  {
   "cell_type": "code",
   "execution_count": 19,
   "id": "198a0cda-2e75-4939-95d8-5842ce6a53bb",
   "metadata": {},
   "outputs": [
    {
     "data": {
      "text/plain": [
       "Text(0.5, 1.0, 'train set class distribution')"
      ]
     },
     "execution_count": 19,
     "metadata": {},
     "output_type": "execute_result"
    },
    {
     "data": {
      "image/png": "[encoded data removed]",
      "text/plain": [
       "<Figure size 640x480 with 1 Axes>"
      ]
     },
     "metadata": {},
     "output_type": "display_data"
    }
   ],
   "source": [
    "import numpy as np\n",
    "import pandas as pd\n",
    "import matplotlib.pyplot as plt\n",
    "%matplotlib inline\n",
    "entries_train = np.load(\"/cnvrg/rcr_evaluation_imagenet/entries-TRAIN.npy\")\n",
    "names=['2_poor',\n",
    " 'multiple_roofs',\n",
    " '5_excellent',\n",
    " '4_good',\n",
    " '3_fair',\n",
    " '1_severe',\n",
    " 'rating_impossible',\n",
    " 'no_roof']\n",
    "weights = pd.DataFrame(entries_train).class_name.value_counts().values\n",
    "plt.bar(names, weights)\n",
    "y_pos = range(len(names))\n",
    "plt.bar(y_pos, weights)\n",
    "# Rotation of the bars names\n",
    "plt.xticks(y_pos, names, rotation=90)\n",
    "plt.title(\"train set class distribution\")\n"
   ]
  },
  {
   "cell_type": "code",
   "execution_count": 20,
   "id": "a3391ed4-7db1-403a-a65d-74902d08f9d3",
   "metadata": {},
   "outputs": [
    {
     "data": {
      "text/plain": [
       "Text(0.5, 1.0, 'test set class distribution')"
      ]
     },
     "execution_count": 20,
     "metadata": {},
     "output_type": "execute_result"
    },
    {
     "data": {
      "image/png": "[encoded data removed]",
      "text/plain": [
       "<Figure size 640x480 with 1 Axes>"
      ]
     },
     "metadata": {},
     "output_type": "display_data"
    }
   ],
   "source": [
    "import numpy as np\n",
    "import pandas as pd\n",
    "import matplotlib.pyplot as plt\n",
    "%matplotlib inline\n",
    "entries_train = np.load(\"/cnvrg/rcr_evaluation_imagenet/entries-VAL.npy\")\n",
    "names=['2_poor',\n",
    " 'multiple_roofs',\n",
    " '5_excellent',\n",
    " '4_good',\n",
    " '3_fair',\n",
    " '1_severe',\n",
    " 'rating_impossible',\n",
    " 'no_roof']\n",
    "weights = pd.DataFrame(entries_train).class_name.value_counts().values\n",
    "plt.bar(names, weights)\n",
    "y_pos = range(len(names))\n",
    "plt.bar(y_pos, weights)\n",
    "# Rotation of the bars names\n",
    "plt.xticks(y_pos, names, rotation=90)\n",
    "plt.title(\"test set class distribution\")\n"
   ]
  }
 ],
 "metadata": {
  "kernelspec": {
   "display_name": "Python 3 (ipykernel)",
   "language": "python",
   "name": "python3"
  },
  "language_info": {
   "codemirror_mode": {
    "name": "ipython",
    "version": 3
   },
   "file_extension": ".py",
   "mimetype": "text/x-python",
   "name": "python",
   "nbconvert_exporter": "python",
   "pygments_lexer": "ipython3",
   "version": "3.8.8"
  }
 },
 "nbformat": 4,
 "nbformat_minor": 5
}
