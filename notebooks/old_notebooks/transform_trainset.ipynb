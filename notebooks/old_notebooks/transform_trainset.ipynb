{
 "cells": [
  {
   "cell_type": "code",
   "execution_count": 1,
   "metadata": {},
   "outputs": [],
   "source": [
    "import glob\n",
    "import os\n",
    "import shutil"
   ]
  },
  {
   "cell_type": "code",
   "execution_count": 2,
   "metadata": {},
   "outputs": [],
   "source": [
    "root = \"/cnvrg\"\n",
    "dataset = \"mtmv_livarea_garages\"\n",
    "\n",
    "out_dataset = f\"{dataset}_dinov2_imagenet\"\n",
    "shutil.rmtree(f\"{root}/{out_dataset}\", ignore_errors=True)"
   ]
  },
  {
   "cell_type": "code",
   "execution_count": 3,
   "metadata": {},
   "outputs": [],
   "source": [
    "files = glob.glob(f\"{root}/{dataset}/train/**/*.png\", recursive=True)"
   ]
  },
  {
   "cell_type": "code",
   "execution_count": 4,
   "metadata": {},
   "outputs": [
    {
     "data": {
      "text/plain": [
       "{'n00000000': '1_severe',\n",
       " 'n00000001': '2_poor',\n",
       " 'n00000002': '3_fair',\n",
       " 'n00000003': '4_good',\n",
       " 'n00000004': '5_excellent',\n",
       " 'n00000005': 'flat',\n",
       " 'n00000006': 'gable',\n",
       " 'n00000007': 'hip',\n",
       " 'n00000008': 'livingarea',\n",
       " 'n00000009': 'mixed_w_wind_credit',\n",
       " 'n00000010': 'mixed_wo_wind_credit',\n",
       " 'n00000011': 'multiple_roofs',\n",
       " 'n00000012': 'no_garage',\n",
       " 'n00000013': 'no_label',\n",
       " 'n00000014': 'no_roof',\n",
       " 'n00000015': 'rating_impossible',\n",
       " 'n00000016': 'unknown',\n",
       " 'n00000017': 'with_garage_attached',\n",
       " 'n00000018': 'with_garage_basement',\n",
       " 'n00000019': 'with_garage_built_in',\n",
       " 'n00000020': 'with_garage_carport',\n",
       " 'n00000021': 'with_garage_unknown'}"
      ]
     },
     "execution_count": 4,
     "metadata": {},
     "output_type": "execute_result"
    }
   ],
   "source": [
    "all_labels = set(\n",
    "    [\n",
    "        x.split(os.path.sep)[-2] for x in files\n",
    "    ]\n",
    ")\n",
    "all_labels = {f\"n{i:08d}\": l for i, l in enumerate(sorted(all_labels))}\n",
    "all_labels_i = {v:k for k,v in all_labels.items()}\n",
    "all_labels"
   ]
  },
  {
   "cell_type": "code",
   "execution_count": 5,
   "metadata": {},
   "outputs": [],
   "source": [
    "os.makedirs(f\"{root}/{out_dataset}/train\", exist_ok=True)\n",
    "os.makedirs(f\"{root}/{out_dataset}/val\", exist_ok=True)\n",
    "\n",
    "with open(f\"{root}/{out_dataset}/labels.txt\", \"w+\") as fp:\n",
    "    for i, l in all_labels.items():\n",
    "        fp.write(f\"{i},{l}\\n\")"
   ]
  },
  {
   "cell_type": "code",
   "execution_count": 6,
   "metadata": {},
   "outputs": [],
   "source": [
    "for i, f in enumerate(files):\n",
    "    split, class_label, filename = f.split(os.path.sep)[-3:]\n",
    "\n",
    "    assert split in ['train', 'val', 'test'], f\"{split} not a split\"\n",
    "\n",
    "    assert class_label in all_labels.values()\n",
    "\n",
    "    d = f\"{root}/{out_dataset}/{split}/{all_labels_i[class_label]}\"\n",
    "\n",
    "    os.makedirs(d, exist_ok=True)\n",
    "\n",
    "    os.symlink(f, f\"{d}/{all_labels_i[class_label]}_{i}.png\")"
   ]
  },
  {
   "cell_type": "code",
   "execution_count": 7,
   "metadata": {},
   "outputs": [],
   "source": [
    "files = glob.glob(f\"{root}/{dataset}/val/**/**/*.png\", recursive=True)\n",
    "for i, f in enumerate(files):\n",
    "    split, task, class_label, filename = f.split(os.path.sep)[-4:]\n",
    "\n",
    "    assert split in ['train', 'val', 'test'], f\"{split} not a split\"\n",
    "\n",
    "    assert class_label in all_labels.values()\n",
    "\n",
    "    d = f\"{root}/{out_dataset}/{split}/{all_labels_i[class_label]}\"\n",
    "\n",
    "    os.makedirs(d, exist_ok=True)\n",
    "\n",
    "    os.symlink(f, f\"{d}/{all_labels_i[class_label]}_{i}.png\")"
   ]
  },
  {
   "cell_type": "code",
   "execution_count": 8,
   "metadata": {},
   "outputs": [
    {
     "ename": "ModuleNotFoundError",
     "evalue": "No module named 'dinov2.data'",
     "output_type": "error",
     "traceback": [
      "\u001b[0;31m---------------------------------------------------------------------------\u001b[0m",
      "\u001b[0;31mModuleNotFoundError\u001b[0m                       Traceback (most recent call last)",
      "Cell \u001b[0;32mIn[8], line 4\u001b[0m\n\u001b[1;32m      1\u001b[0m root \u001b[38;5;241m=\u001b[39m \u001b[38;5;124m\"\u001b[39m\u001b[38;5;124m/cnvrg\u001b[39m\u001b[38;5;124m\"\u001b[39m\n\u001b[1;32m      3\u001b[0m out_dataset \u001b[38;5;241m=\u001b[39m \u001b[38;5;124mf\u001b[39m\u001b[38;5;124m\"\u001b[39m\u001b[38;5;132;01m{\u001b[39;00mdataset\u001b[38;5;132;01m}\u001b[39;00m\u001b[38;5;124m_imagenet\u001b[39m\u001b[38;5;124m\"\u001b[39m\n\u001b[0;32m----> 4\u001b[0m \u001b[38;5;28;01mfrom\u001b[39;00m \u001b[38;5;21;01mdinov2\u001b[39;00m\u001b[38;5;21;01m.\u001b[39;00m\u001b[38;5;21;01mdata\u001b[39;00m\u001b[38;5;21;01m.\u001b[39;00m\u001b[38;5;21;01mdatasets\u001b[39;00m \u001b[38;5;28;01mimport\u001b[39;00m ImageNet\n\u001b[1;32m      5\u001b[0m \u001b[38;5;28;01mfor\u001b[39;00m split \u001b[38;5;129;01min\u001b[39;00m [ImageNet\u001b[38;5;241m.\u001b[39mSplit\u001b[38;5;241m.\u001b[39mTRAIN, ImageNet\u001b[38;5;241m.\u001b[39mSplit\u001b[38;5;241m.\u001b[39mVAL]:\n\u001b[1;32m      6\u001b[0m     dataset \u001b[38;5;241m=\u001b[39m ImageNet(split\u001b[38;5;241m=\u001b[39msplit, root\u001b[38;5;241m=\u001b[39m\u001b[38;5;124mf\u001b[39m\u001b[38;5;124m\"\u001b[39m\u001b[38;5;132;01m{\u001b[39;00mroot\u001b[38;5;132;01m}\u001b[39;00m\u001b[38;5;124m/\u001b[39m\u001b[38;5;132;01m{\u001b[39;00mout_dataset\u001b[38;5;132;01m}\u001b[39;00m\u001b[38;5;124m\"\u001b[39m, extra\u001b[38;5;241m=\u001b[39m\u001b[38;5;124mf\u001b[39m\u001b[38;5;124m\"\u001b[39m\u001b[38;5;132;01m{\u001b[39;00mroot\u001b[38;5;132;01m}\u001b[39;00m\u001b[38;5;124m/\u001b[39m\u001b[38;5;132;01m{\u001b[39;00mout_dataset\u001b[38;5;132;01m}\u001b[39;00m\u001b[38;5;124m\"\u001b[39m)\n",
      "\u001b[0;31mModuleNotFoundError\u001b[0m: No module named 'dinov2.data'"
     ]
    }
   ],
   "source": [
    "root = \"/cnvrg\"\n",
    "\n",
    "out_dataset = f\"{dataset}_imagenet\"\n",
    "from dinov2.data.datasets import ImageNet\n",
    "for split in [ImageNet.Split.TRAIN, ImageNet.Split.VAL]:\n",
    "    dataset = ImageNet(split=split, root=f\"{root}/{out_dataset}\", extra=f\"{root}/{out_dataset}\")\n",
    "    dataset.dump_extra()\n"
   ]
  },
  {
   "cell_type": "code",
   "execution_count": null,
   "metadata": {},
   "outputs": [],
   "source": []
  }
 ],
 "metadata": {
  "kernelspec": {
   "display_name": "Python 3 (ipykernel)",
   "language": "python",
   "name": "python3"
  },
  "language_info": {
   "codemirror_mode": {
    "name": "ipython",
    "version": 3
   },
   "file_extension": ".py",
   "mimetype": "text/x-python",
   "name": "python",
   "nbconvert_exporter": "python",
   "pygments_lexer": "ipython3",
   "version": "3.8.8"
  }
 },
 "nbformat": 4,
 "nbformat_minor": 4
}
