{
 "cells": [
  {
   "cell_type": "code",
   "execution_count": 3,
   "id": "2018e91b-fb5c-4ca7-bf55-5e5c9b136292",
   "metadata": {},
   "outputs": [],
   "source": [
    "import os\n",
    "import shutil\n",
    "root = \"/cnvrg/dinov2_mtmv_livarea_garages\"\n",
    "new_root = \"/cnvrg/dinov2_mtmv_livarea_garages_debug\"\n",
    "split = \"train\"\n",
    "for class_id in os.listdir(os.path.join(root, split)):\n",
    "    counter = 0\n",
    "    for img in os.listdir(os.path.join(root, split, class_id)):\n",
    "        os.makedirs(os.path.join(new_root, split, class_id), exist_ok=True)\n",
    "        shutil.copyfile(os.path.join(root, split, class_id, img), os.path.join(new_root, split, class_id, img))\n",
    "        counter+=1\n",
    "        if counter>5:\n",
    "            break"
   ]
  },
  {
   "cell_type": "code",
   "execution_count": 6,
   "id": "1ccb4249-9306-44f4-b2e6-779d157f00cb",
   "metadata": {},
   "outputs": [],
   "source": [
    "split = \"val\"\n",
    "for task in os.listdir(os.path.join(root, split)):\n",
    "    if task!=\"no_label\" and task !=\"livingarea\":\n",
    "        for class_id in os.listdir(os.path.join(root, split, task)):\n",
    "            counter = 0\n",
    "            for img in os.listdir(os.path.join(root, split, task, class_id)):\n",
    "                os.makedirs(os.path.join(new_root, split, task, class_id), exist_ok=True)\n",
    "                shutil.copyfile(os.path.join(root, split, task, class_id, img), os.path.join(new_root, split, task, class_id, img))\n",
    "                counter+=1\n",
    "                if counter>5:\n",
    "                    break\n",
    "    else:\n",
    "        counter = 0\n",
    "        for img in os.listdir(os.path.join(root, split, task)):\n",
    "            os.makedirs(os.path.join(new_root, split, task), exist_ok=True)\n",
    "            shutil.copyfile(os.path.join(root, split, task, img), os.path.join(new_root, split, task, img))\n",
    "            counter+=1\n",
    "            if counter>5:\n",
    "                break"
   ]
  },
  {
   "cell_type": "code",
   "execution_count": 7,
   "id": "aa6f7ec4-ec36-4f95-822a-5b5a844bac5c",
   "metadata": {},
   "outputs": [],
   "source": [
    "split = \"test\"\n",
    "for task in os.listdir(os.path.join(root, split)):\n",
    "    if task!=\"no_label\" and task !=\"livingarea\":\n",
    "        for class_id in os.listdir(os.path.join(root, split, task)):\n",
    "            counter = 0\n",
    "            for img in os.listdir(os.path.join(root, split, task, class_id)):\n",
    "                os.makedirs(os.path.join(new_root, split, task, class_id), exist_ok=True)\n",
    "                shutil.copyfile(os.path.join(root, split, task, class_id, img), os.path.join(new_root, split, task, class_id, img))\n",
    "                counter+=1\n",
    "                if counter>5:\n",
    "                    break\n",
    "    else:\n",
    "        counter = 0\n",
    "        for img in os.listdir(os.path.join(root, split, task)):\n",
    "            os.makedirs(os.path.join(new_root, split, task), exist_ok=True)\n",
    "            shutil.copyfile(os.path.join(root, split, task, img), os.path.join(new_root, split, task, img))\n",
    "            counter+=1\n",
    "            if counter>5:\n",
    "                break"
   ]
  },
  {
   "cell_type": "code",
   "execution_count": 8,
   "id": "08fbb150-a671-425d-b121-84fc7c3f7ab6",
   "metadata": {},
   "outputs": [
    {
     "name": "stderr",
     "output_type": "stream",
     "text": [
      "2023-07-19 14:29:32,701 Computing checksum of local files\n",
      "2023-07-19 14:29:33,109 done\n",
      "2023-07-19 14:29:33,689 Starting the upload of 407 files\n",
      "2023-07-19 14:29:35,378 Completed 2453 files in 1.68 s\n"
     ]
    }
   ],
   "source": [
    "import os\n",
    "os.environ['TLDR_SECRET_NAME'] = 'useless'\n",
    "os.environ['TLDR_DATA_STORAGE_URL'] = 's3://cape-data-east/datascience_storage/tldr-datasets'\n",
    "os.environ['NEPTUNE_API_TOKEN'] = 'useless'\n",
    "\n",
    "import argparse\n",
    "import tempfile\n",
    "from tldr.dvc.dataset import Dataset\n",
    "\n",
    "ds_name = \"dinov2_mtmv_livarea_garages_debug\"\n",
    "ds = Dataset(ds_name)\n",
    "temp_dir = \"/cnvrg\"\n",
    "os.chdir(temp_dir)\n",
    "ds.add_directory(\n",
    "    f\"{temp_dir}/{ds_name}/\",\n",
    "    f\"{temp_dir}/{ds_name}/\"\n",
    ")"
   ]
  }
 ],
 "metadata": {
  "kernelspec": {
   "display_name": "Python 3 (ipykernel)",
   "language": "python",
   "name": "python3"
  },
  "language_info": {
   "codemirror_mode": {
    "name": "ipython",
    "version": 3
   },
   "file_extension": ".py",
   "mimetype": "text/x-python",
   "name": "python",
   "nbconvert_exporter": "python",
   "pygments_lexer": "ipython3",
   "version": "3.8.8"
  }
 },
 "nbformat": 4,
 "nbformat_minor": 5
}
