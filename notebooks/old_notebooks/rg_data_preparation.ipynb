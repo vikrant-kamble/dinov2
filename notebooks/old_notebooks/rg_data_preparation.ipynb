{
 "cells": [
  {
   "cell_type": "code",
   "execution_count": 1,
   "id": "c6c41971-c60a-4f3d-800b-4047a2a686c1",
   "metadata": {},
   "outputs": [],
   "source": [
    "import pandas as pd\n",
    "nearmap_df_1 = pd.read_parquet(\"/data/finetune_mtmv_nearmap_rg/chipping/chips/dataset.parquet\")\n",
    "nearmap_df_1[\"chips_path\"] = \"/data/finetune_mtmv_nearmap_rg/chipping/chips\"\n",
    "nearmap_df_2 = pd.read_parquet(\"/data/evaluate_mtmv_nearmap_rg/chips/dataset.parquet\")\n",
    "nearmap_df_2[\"chips_path\"] = \"/data/evaluate_mtmv_nearmap_rg/chips\"\n",
    "fra_df = pd.read_parquet(\"/data/evaluate_mtmv_fra_rg/chips/dataset.parquet\")\n",
    "fra_df[\"chips_path\"] = \"/data/evaluate_mtmv_fra_rg/chips\"\n",
    "nzl_df = pd.read_parquet(\"/data/evaluate_mtmv_nzl_rg/chips/dataset.parquet\")\n",
    "nzl_df[\"chips_path\"] = \"/data/evaluate_mtmv_nzl_rg/chips\"\n"
   ]
  },
  {
   "cell_type": "code",
   "execution_count": 2,
   "id": "f24f1494-d1c8-4092-b434-50650d4182ec",
   "metadata": {},
   "outputs": [],
   "source": [
    "df = pd.concat([nearmap_df_1, nearmap_df_2], axis=0)\n",
    "df = df.drop_duplicates(subset=[\"geometry\",'imagery_date', 'imagery_source'])"
   ]
  },
  {
   "cell_type": "code",
   "execution_count": 3,
   "id": "d7e9aa07-8927-4f19-88b6-ad50f088c214",
   "metadata": {},
   "outputs": [],
   "source": [
    "val_fraction = 0.4\n",
    "\n",
    "# Split train, val, test (after grouping by datarow_id!)\n",
    "from sklearn.model_selection import GroupShuffleSplit \n",
    "\n",
    "splitter = GroupShuffleSplit(test_size=val_fraction, n_splits=1, random_state = 7)\n",
    "split = splitter.split(df, groups=df['geometry'])\n",
    "train_inds, val_inds = next(split)\n",
    "\n",
    "\n",
    "X_train_nearmap = df.iloc[train_inds]\n",
    "X_val_nearmap = df.iloc[val_inds]\n"
   ]
  },
  {
   "cell_type": "code",
   "execution_count": 4,
   "id": "43c4bf14-73ea-460a-9b1c-964d386fa9f9",
   "metadata": {},
   "outputs": [],
   "source": [
    "rg_labels = list(X_train_nearmap[\"geometry_labels\"].unique())"
   ]
  },
  {
   "cell_type": "code",
   "execution_count": 5,
   "id": "9edf8049-4390-4c81-83b5-ecedc5e42339",
   "metadata": {},
   "outputs": [],
   "source": [
    "import os\n",
    "base_dir = \"/cnvrg/rg_evaluation/train\"\n",
    "for label in rg_labels:\n",
    "    os.makedirs(os.path.join(base_dir, label), exist_ok=True)\n",
    "\n",
    "base_dir = \"/cnvrg/rg_evaluation/val\"\n",
    "for label in rg_labels:\n",
    "    os.makedirs(os.path.join(base_dir, label), exist_ok=True)\n"
   ]
  },
  {
   "cell_type": "code",
   "execution_count": 6,
   "id": "ea968890-98d4-4ae0-a4fd-db0a7cf97c7b",
   "metadata": {},
   "outputs": [
    {
     "data": {
      "text/plain": [
       "22212"
      ]
     },
     "execution_count": 6,
     "metadata": {},
     "output_type": "execute_result"
    }
   ],
   "source": [
    "len(X_val_nearmap)"
   ]
  },
  {
   "cell_type": "code",
   "execution_count": 7,
   "id": "3372f02a-8379-4cb9-ab12-c4f78650dd9b",
   "metadata": {},
   "outputs": [],
   "source": [
    "X = X_val_nearmap\n",
    "\n",
    "dataset_path = \"/cnvrg/rg_evaluation/val\"\n",
    "\n",
    "for single_file, pred, chips_dir in zip(X.filename, X.geometry_labels, X.chips_path):\n",
    "    image_full_path = os.path.join(chips_dir, single_file)\n",
    "    filename = image_full_path.split(\"/\")[-1]   \n",
    "    os.symlink(image_full_path, os.path.join(dataset_path, pred, filename))\n"
   ]
  },
  {
   "cell_type": "code",
   "execution_count": 8,
   "id": "6615dbae-0f69-48d5-9d6b-c614339e119a",
   "metadata": {},
   "outputs": [
    {
     "data": {
      "text/plain": [
       "33318"
      ]
     },
     "execution_count": 8,
     "metadata": {},
     "output_type": "execute_result"
    }
   ],
   "source": [
    "len(X_train_nearmap)"
   ]
  },
  {
   "cell_type": "code",
   "execution_count": 9,
   "id": "b10d1ab4-2181-413f-8607-ffee1ac810f7",
   "metadata": {},
   "outputs": [],
   "source": [
    "X = X_train_nearmap\n",
    "\n",
    "dataset_path = \"/cnvrg/rg_evaluation/train\"\n",
    "\n",
    "for single_file, pred, chips_dir in zip(X.filename, X.geometry_labels, X.chips_path):\n",
    "    image_full_path = os.path.join(chips_dir, single_file)\n",
    "    filename = image_full_path.split(\"/\")[-1]   \n",
    "    os.symlink(image_full_path, os.path.join(dataset_path, pred, filename))\n"
   ]
  },
  {
   "cell_type": "code",
   "execution_count": 10,
   "id": "8e06d297-f3e3-4ec3-a6de-d493a769e2e6",
   "metadata": {},
   "outputs": [
    {
     "data": {
      "text/plain": [
       "Index(['attribute_geometry_id', 'contact_id', 'geometry', 'geometry_id',\n",
       "       'geometry_labels', 'imagery_date', 'imagery_source', 'label_vote_id',\n",
       "       'label_vote_status', 'datarow_id', 'filename', 'entry_hash',\n",
       "       'chips_path', 'origin_mnemonic'],\n",
       "      dtype='object')"
      ]
     },
     "execution_count": 10,
     "metadata": {},
     "output_type": "execute_result"
    }
   ],
   "source": [
    "X_val_nearmap.columns"
   ]
  }
 ],
 "metadata": {
  "kernelspec": {
   "display_name": "Python 3 (ipykernel)",
   "language": "python",
   "name": "python3"
  },
  "language_info": {
   "codemirror_mode": {
    "name": "ipython",
    "version": 3
   },
   "file_extension": ".py",
   "mimetype": "text/x-python",
   "name": "python",
   "nbconvert_exporter": "python",
   "pygments_lexer": "ipython3",
   "version": "3.10.11"
  }
 },
 "nbformat": 4,
 "nbformat_minor": 5
}
