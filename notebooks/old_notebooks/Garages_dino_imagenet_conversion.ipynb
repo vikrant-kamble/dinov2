{
 "cells": [
  {
   "cell_type": "markdown",
   "id": "c2701101-1640-4592-bd02-8a68d7e07d47",
   "metadata": {},
   "source": [
    "# Load garage datasets"
   ]
  },
  {
   "cell_type": "code",
   "execution_count": 1,
   "id": "89611d2a-a790-4ad0-9abe-f51cc452fc89",
   "metadata": {},
   "outputs": [],
   "source": [
    "import pandas as pd\n",
    "\n",
    "df_train_1 = pd.read_parquet(\"/cnvrg/pj_garages_train_3-3/chips/dataset.parquet\")\n",
    "df_train_1[\"chips_path\"] = \"/cnvrg/pj_garages_train_3-3/chips\"\n",
    "df_train_2 = pd.read_parquet(\"/cnvrg/garage_presence_train_chips_sampled_iteration_2/chips/dataset.parquet\")\n",
    "df_train_2[\"chips_path\"] = \"/cnvrg/garage_presence_train_chips_sampled_iteration_2/chips\"\n",
    "df_train_3 = pd.read_parquet(\"/cnvrg/garage_presence_train_chips/chips/dataset.parquet\")\n",
    "df_train_3[\"chips_path\"] = \"/cnvrg/garage_presence_train_chips/chips\"\n",
    "\n",
    "df_test = pd.read_parquet(\"/cnvrg/pj_garages_test_1-1/chips/dataset.parquet\")\n",
    "df_test[\"chips_path\"] = \"/cnvrg/pj_garages_test_1-1/chips\"\n"
   ]
  },
  {
   "cell_type": "code",
   "execution_count": 2,
   "id": "de95605d-3b0c-4632-a8f2-f30cd80c013c",
   "metadata": {},
   "outputs": [],
   "source": [
    "df = pd.concat([df_test, df_train_1, df_train_2, df_train_3], axis=0)"
   ]
  },
  {
   "cell_type": "code",
   "execution_count": 3,
   "id": "c29a5cb5-913c-4d56-83f1-183ee07688ce",
   "metadata": {},
   "outputs": [
    {
     "data": {
      "text/plain": [
       "604302"
      ]
     },
     "execution_count": 3,
     "metadata": {},
     "output_type": "execute_result"
    }
   ],
   "source": [
    "len(df)"
   ]
  },
  {
   "cell_type": "code",
   "execution_count": 4,
   "id": "5e22bcb9-b241-4d3f-b1d9-a0799b37f8a1",
   "metadata": {},
   "outputs": [],
   "source": [
    "df = df.drop_duplicates(subset=[\"geometry\",'imagery_date', 'imagery_source'])"
   ]
  },
  {
   "cell_type": "code",
   "execution_count": 5,
   "id": "b25805e5-1b26-4ff9-8585-b5cb1c4b8b13",
   "metadata": {},
   "outputs": [],
   "source": [
    "def map_garage_gt(garage_label):\n",
    "    label_parts = garage_label.split(\";\")\n",
    "    with_garage = label_parts[0]\n",
    "    if len(label_parts)>1 and with_garage==\"with_garage\":\n",
    "        type = label_parts[1]\n",
    "        return with_garage+\"_\"+type\n",
    "    else:\n",
    "        return with_garage\n",
    "\n",
    "#garage_labels = ['unknown','with_garage_unknown','with_garage_basement', :'with_garage_attached', 'no_garage', 'with_garage_carport', 'with_garage_built_in']"
   ]
  },
  {
   "cell_type": "code",
   "execution_count": 6,
   "id": "bc776499-3c6c-4b77-9e7f-2b18fe5a1f07",
   "metadata": {},
   "outputs": [],
   "source": [
    "df[\"garage_gt_simplified\"] = df['geometry_labels'].apply(lambda x: map_garage_gt(x))\n"
   ]
  },
  {
   "cell_type": "code",
   "execution_count": 7,
   "id": "4de81a1f-aa84-4726-86a2-34bcadaadf46",
   "metadata": {},
   "outputs": [
    {
     "data": {
      "text/plain": [
       "['unknown',\n",
       " 'with_garage_built_in',\n",
       " 'with_garage_carport',\n",
       " 'with_garage_attached',\n",
       " 'with_garage_basement',\n",
       " 'no_garage',\n",
       " 'with_garage_unknown']"
      ]
     },
     "execution_count": 7,
     "metadata": {},
     "output_type": "execute_result"
    }
   ],
   "source": [
    "garage_labels = list(df[\"garage_gt_simplified\"].unique())\n",
    "garage_labels"
   ]
  },
  {
   "cell_type": "code",
   "execution_count": 8,
   "id": "94dff662-7476-4cbf-8849-fb44f65c707c",
   "metadata": {},
   "outputs": [
    {
     "data": {
      "text/plain": [
       "166540"
      ]
     },
     "execution_count": 8,
     "metadata": {},
     "output_type": "execute_result"
    }
   ],
   "source": [
    "len(df)"
   ]
  },
  {
   "cell_type": "code",
   "execution_count": 9,
   "id": "5a8561e1-dffb-4f6c-9efe-f3d39f46d7ce",
   "metadata": {},
   "outputs": [
    {
     "data": {
      "text/plain": [
       "Index(['attribute_geometry_id', 'contact_id', 'datarow_id', 'geometry',\n",
       "       'geometry_id', 'geometry_labels', 'imagery_date', 'imagery_source',\n",
       "       'label_vote_id', 'label_vote_status', 'filename', 'entry_hash',\n",
       "       'chips_path', 'garage_gt_simplified'],\n",
       "      dtype='object')"
      ]
     },
     "execution_count": 9,
     "metadata": {},
     "output_type": "execute_result"
    }
   ],
   "source": [
    "df.columns"
   ]
  },
  {
   "cell_type": "code",
   "execution_count": 10,
   "id": "13f71bdb-14c5-4441-a951-f952158f73ee",
   "metadata": {},
   "outputs": [],
   "source": [
    "\n",
    "val_fraction = 0.1\n",
    "\n",
    "# Split train, val, test (after grouping by datarow_id!)\n",
    "from sklearn.model_selection import GroupShuffleSplit \n",
    "\n",
    "splitter = GroupShuffleSplit(test_size=val_fraction, n_splits=1, random_state = 7)\n",
    "split = splitter.split(df, groups=df['datarow_id'])\n",
    "train_inds, val_inds = next(split)\n",
    "\n",
    "\n",
    "X_train = df.iloc[train_inds]\n",
    "X_val = df.iloc[val_inds]\n"
   ]
  },
  {
   "cell_type": "code",
   "execution_count": 11,
   "id": "e7ed5ee6-6aea-41bb-8aee-62811ecc7375",
   "metadata": {},
   "outputs": [
    {
     "data": {
      "text/plain": [
       "149887"
      ]
     },
     "execution_count": 11,
     "metadata": {},
     "output_type": "execute_result"
    }
   ],
   "source": [
    "len(X_train)"
   ]
  },
  {
   "cell_type": "code",
   "execution_count": 12,
   "id": "7e00bc2c-452f-4564-b635-d5e777e99b60",
   "metadata": {},
   "outputs": [
    {
     "data": {
      "text/plain": [
       "16653"
      ]
     },
     "execution_count": 12,
     "metadata": {},
     "output_type": "execute_result"
    }
   ],
   "source": [
    "len(X_val)"
   ]
  },
  {
   "cell_type": "code",
   "execution_count": 13,
   "id": "8501bb0a-49aa-4903-a8de-9ac1f8ba04e7",
   "metadata": {},
   "outputs": [
    {
     "data": {
      "text/plain": [
       "'import shutil\\nbase_dir = \"/cnvrg/dinov2_mtmv_livarea_garages/train\"\\nfor label in garage_labels:\\n    shutil.rmtree(os.path.join(base_dir, label))\\n\\nbase_dir = \"/cnvrg/dinov2_mtmv_livarea_garages/val\"\\nfor label in garage_labels:\\n    shutil.rmtree(os.path.join(base_dir, \"garages\", label))\\n\\nbase_dir = \"/cnvrg/dinov2_mtmv_livarea_garages/test\"\\nfor label in garage_labels:\\n    shutil.rmtree(os.path.join(base_dir, \"garages\", label))\\n'"
      ]
     },
     "execution_count": 13,
     "metadata": {},
     "output_type": "execute_result"
    }
   ],
   "source": [
    "\"\"\"import shutil\n",
    "base_dir = \"/cnvrg/dinov2_mtmv_livarea_garages/train\"\n",
    "for label in garage_labels:\n",
    "    shutil.rmtree(os.path.join(base_dir, label))\n",
    "\n",
    "base_dir = \"/cnvrg/dinov2_mtmv_livarea_garages/val\"\n",
    "for label in garage_labels:\n",
    "    shutil.rmtree(os.path.join(base_dir, \"garages\", label))\n",
    "\n",
    "base_dir = \"/cnvrg/dinov2_mtmv_livarea_garages/test\"\n",
    "for label in garage_labels:\n",
    "    shutil.rmtree(os.path.join(base_dir, \"garages\", label))\n",
    "\"\"\""
   ]
  },
  {
   "cell_type": "code",
   "execution_count": 14,
   "id": "7587eb42-35c7-48ae-a9d5-1ac9e1bc0e3f",
   "metadata": {},
   "outputs": [],
   "source": [
    "import os\n",
    "base_dir = \"/cnvrg/mtmv_livarea_garages/train\"\n",
    "for label in garage_labels:\n",
    "    os.makedirs(os.path.join(base_dir, label), exist_ok=True)\n",
    "\n",
    "base_dir = \"/cnvrg/mtmv_livarea_garages/val\"\n",
    "for label in garage_labels:\n",
    "    os.makedirs(os.path.join(base_dir, \"garages\", label), exist_ok=True)\n",
    "\n"
   ]
  },
  {
   "cell_type": "code",
   "execution_count": 15,
   "id": "bf3d34e9-e3c8-48b4-bbb3-0636bad60671",
   "metadata": {},
   "outputs": [],
   "source": [
    "X = X_val\n",
    "\n",
    "dataset_path = \"/cnvrg/mtmv_livarea_garages/val\"\n",
    "\n",
    "for single_file, pred, chips_dir in zip(X.filename, X.garage_gt_simplified, X.chips_path):\n",
    "    image_full_path = os.path.join(chips_dir, single_file)\n",
    "    filename = image_full_path.split(\"/\")[-1]   \n",
    "    os.symlink(image_full_path, os.path.join(dataset_path, \"garages\", pred, filename))\n"
   ]
  },
  {
   "cell_type": "code",
   "execution_count": 16,
   "id": "f8f365ba-cfbe-4404-a50d-be7ef08ea50d",
   "metadata": {},
   "outputs": [],
   "source": [
    "X = X_train\n",
    "\n",
    "dataset_path = \"/cnvrg/mtmv_livarea_garages/train\"\n",
    "\n",
    "for single_file, pred, chips_dir in zip(X.filename, X.garage_gt_simplified, X.chips_path):\n",
    "    image_full_path = os.path.join(chips_dir, single_file)\n",
    "    filename = image_full_path.split(\"/\")[-1]   \n",
    "    os.symlink(image_full_path, os.path.join(dataset_path, pred, filename))"
   ]
  }
 ],
 "metadata": {
  "kernelspec": {
   "display_name": "Python 3 (ipykernel)",
   "language": "python",
   "name": "python3"
  },
  "language_info": {
   "codemirror_mode": {
    "name": "ipython",
    "version": 3
   },
   "file_extension": ".py",
   "mimetype": "text/x-python",
   "name": "python",
   "nbconvert_exporter": "python",
   "pygments_lexer": "ipython3",
   "version": "3.8.8"
  }
 },
 "nbformat": 4,
 "nbformat_minor": 5
}
