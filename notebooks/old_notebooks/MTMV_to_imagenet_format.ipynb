{
 "cells": [
  {
   "cell_type": "code",
   "execution_count": 1,
   "id": "92be9263-62f1-4c1e-9052-7c7b4c9cd91b",
   "metadata": {},
   "outputs": [],
   "source": [
    "import pandas as pd\n",
    "import numpy as np\n",
    "import os\n",
    "from sklearn.model_selection import train_test_split\n",
    "df = pd.read_parquet(\"/cnvrg/dinov2_mtmv_ds/chips/dataset.parquet\")"
   ]
  },
  {
   "cell_type": "markdown",
   "id": "9a09b00f-48d5-41d2-877e-154e48763c0f",
   "metadata": {},
   "source": [
    "# Assign RCRv3 and RG GT to the samples"
   ]
  },
  {
   "cell_type": "code",
   "execution_count": 2,
   "id": "fd0ae933-e9e3-4e24-b5c4-a9dded7ba566",
   "metadata": {},
   "outputs": [],
   "source": [
    "\n",
    "rg_labels = [\"flat\", \"gable\", \"hip\", \"mixed_w_wind_credit\", \"mixed_wo_wind_credit\", \"unknown\", \"invalid\"]\n",
    "rcr_labels = [\"1_severe\", \"2_poor\", \"3_fair\", \"4_good\", \"5_excellent\", \"no_roof\", \"multiple_roofs\", \"rating_impossible\"]\n",
    "\n",
    "def get_rcr_and_rg_prediction(row):\n",
    "    rcr_prediction = None\n",
    "    rg_prediction = None\n",
    "    rg_preds = row[\"roof_geometry\"]\n",
    "    if rg_preds!=None:\n",
    "        rg_prediction = rg_labels[np.argmax(eval(rg_preds))]\n",
    "    rcr_preds = row[\"roof_condition_rating_3.0\"]\n",
    "    if rcr_preds!=None:\n",
    "        rcr_prediction = rcr_labels[np.argmax(eval(rcr_preds))]\n",
    "    return pd.Series({\"rcr_prediction\": rcr_prediction, \"rg_prediction\": rg_prediction})"
   ]
  },
  {
   "cell_type": "code",
   "execution_count": 3,
   "id": "cfc3f271-c057-4c6b-828e-201822951333",
   "metadata": {},
   "outputs": [],
   "source": [
    "rcr_rg_results = df.apply(lambda row: get_rcr_and_rg_prediction(row), axis=1)"
   ]
  },
  {
   "cell_type": "code",
   "execution_count": 4,
   "id": "a66f79f9-8776-4429-ba61-76d26241d8af",
   "metadata": {},
   "outputs": [],
   "source": [
    "df_with_class = pd.concat([df, rcr_rg_results], axis=1)\n"
   ]
  },
  {
   "cell_type": "code",
   "execution_count": 5,
   "id": "17b20841-aa1b-4f62-99cb-96d082253878",
   "metadata": {},
   "outputs": [
    {
     "data": {
      "text/html": [
       "<div>\n",
       "<style scoped>\n",
       "    .dataframe tbody tr th:only-of-type {\n",
       "        vertical-align: middle;\n",
       "    }\n",
       "\n",
       "    .dataframe tbody tr th {\n",
       "        vertical-align: top;\n",
       "    }\n",
       "\n",
       "    .dataframe thead th {\n",
       "        text-align: right;\n",
       "    }\n",
       "</style>\n",
       "<table border=\"1\" class=\"dataframe\">\n",
       "  <thead>\n",
       "    <tr style=\"text-align: right;\">\n",
       "      <th></th>\n",
       "      <th>input_survey_id</th>\n",
       "      <th>input_datatype</th>\n",
       "      <th>aoi_type</th>\n",
       "      <th>geometry</th>\n",
       "      <th>imagery_source</th>\n",
       "      <th>filename</th>\n",
       "      <th>entry_hash</th>\n",
       "      <th>vendor</th>\n",
       "      <th>rcr_prediction</th>\n",
       "      <th>rg_prediction</th>\n",
       "    </tr>\n",
       "  </thead>\n",
       "  <tbody>\n",
       "    <tr>\n",
       "      <th>0</th>\n",
       "      <td>1626872</td>\n",
       "      <td>pnoa_midres_vertical_jpg</td>\n",
       "      <td>midres_roof</td>\n",
       "      <td>b'\\x01\\x03\\x00\\x00\\x00\\x01\\x00\\x00\\x00\\x10\\x00...</td>\n",
       "      <td>x:pnoa_midres_vertical_jpg:x:1626872</td>\n",
       "      <td>f3/f35f282f5ca665ca18a68814205d4f0e0f66abdaee6...</td>\n",
       "      <td>f35f282f5ca665ca18a68814205d4f0e0f66abdaee6faa...</td>\n",
       "      <td>pnoa_midres_vertical_jpg</td>\n",
       "      <td>None</td>\n",
       "      <td>unknown</td>\n",
       "    </tr>\n",
       "    <tr>\n",
       "      <th>1</th>\n",
       "      <td>1391</td>\n",
       "      <td>nearmap_vertical_jpg</td>\n",
       "      <td>PL_roof</td>\n",
       "      <td>b'\\x01\\x03\\x00\\x00\\x00\\x01\\x00\\x00\\x00A\\x00\\x0...</td>\n",
       "      <td>x:nearmap_vertical_jpg:x:1391</td>\n",
       "      <td>d6/d6ce5e1dd0c1acbec39bfda25b45c922a9748af0635...</td>\n",
       "      <td>d6ce5e1dd0c1acbec39bfda25b45c922a9748af0635169...</td>\n",
       "      <td>nearmap_vertical_jpg</td>\n",
       "      <td>4_good</td>\n",
       "      <td>mixed_wo_wind_credit</td>\n",
       "    </tr>\n",
       "    <tr>\n",
       "      <th>2</th>\n",
       "      <td>3609</td>\n",
       "      <td>nearmap_vertical_jpg</td>\n",
       "      <td>PL_roof</td>\n",
       "      <td>b'\\x01\\x06\\x00\\x00\\x00\\x02\\x00\\x00\\x00\\x01\\x03...</td>\n",
       "      <td>x:nearmap_vertical_jpg:x:3609</td>\n",
       "      <td>2c/2ca44505a4be9c3091296ca1a304fcf569dec7debd0...</td>\n",
       "      <td>2ca44505a4be9c3091296ca1a304fcf569dec7debd0433...</td>\n",
       "      <td>nearmap_vertical_jpg</td>\n",
       "      <td>3_fair</td>\n",
       "      <td>gable</td>\n",
       "    </tr>\n",
       "    <tr>\n",
       "      <th>5</th>\n",
       "      <td>1583</td>\n",
       "      <td>nearmap_vertical_jpg</td>\n",
       "      <td>PL_roof</td>\n",
       "      <td>b'\\x01\\x06\\x00\\x00\\x00\\x04\\x00\\x00\\x00\\x01\\x03...</td>\n",
       "      <td>x:nearmap_vertical_jpg:x:1583</td>\n",
       "      <td>49/49be83be8a1968c96e3470a6c838d3f07c729829c44...</td>\n",
       "      <td>49be83be8a1968c96e3470a6c838d3f07c729829c445c3...</td>\n",
       "      <td>nearmap_vertical_jpg</td>\n",
       "      <td>1_severe</td>\n",
       "      <td>flat</td>\n",
       "    </tr>\n",
       "    <tr>\n",
       "      <th>7</th>\n",
       "      <td>1625395</td>\n",
       "      <td>nearmap_vertical_jpg</td>\n",
       "      <td>PL_roof</td>\n",
       "      <td>b\"\\x01\\x03\\x00\\x00\\x00\\x01\\x00\\x00\\x00$\\x00\\x0...</td>\n",
       "      <td>x:nearmap_vertical_jpg:x:1625395</td>\n",
       "      <td>63/63ddbb1d490fb00c3099be6a15a0e516dc8060fb388...</td>\n",
       "      <td>63ddbb1d490fb00c3099be6a15a0e516dc8060fb388223...</td>\n",
       "      <td>nearmap_vertical_jpg</td>\n",
       "      <td>3_fair</td>\n",
       "      <td>mixed_wo_wind_credit</td>\n",
       "    </tr>\n",
       "  </tbody>\n",
       "</table>\n",
       "</div>"
      ],
      "text/plain": [
       "  input_survey_id            input_datatype     aoi_type  \\\n",
       "0         1626872  pnoa_midres_vertical_jpg  midres_roof   \n",
       "1            1391      nearmap_vertical_jpg      PL_roof   \n",
       "2            3609      nearmap_vertical_jpg      PL_roof   \n",
       "5            1583      nearmap_vertical_jpg      PL_roof   \n",
       "7         1625395      nearmap_vertical_jpg      PL_roof   \n",
       "\n",
       "                                            geometry  \\\n",
       "0  b'\\x01\\x03\\x00\\x00\\x00\\x01\\x00\\x00\\x00\\x10\\x00...   \n",
       "1  b'\\x01\\x03\\x00\\x00\\x00\\x01\\x00\\x00\\x00A\\x00\\x0...   \n",
       "2  b'\\x01\\x06\\x00\\x00\\x00\\x02\\x00\\x00\\x00\\x01\\x03...   \n",
       "5  b'\\x01\\x06\\x00\\x00\\x00\\x04\\x00\\x00\\x00\\x01\\x03...   \n",
       "7  b\"\\x01\\x03\\x00\\x00\\x00\\x01\\x00\\x00\\x00$\\x00\\x0...   \n",
       "\n",
       "                         imagery_source  \\\n",
       "0  x:pnoa_midres_vertical_jpg:x:1626872   \n",
       "1         x:nearmap_vertical_jpg:x:1391   \n",
       "2         x:nearmap_vertical_jpg:x:3609   \n",
       "5         x:nearmap_vertical_jpg:x:1583   \n",
       "7      x:nearmap_vertical_jpg:x:1625395   \n",
       "\n",
       "                                            filename  \\\n",
       "0  f3/f35f282f5ca665ca18a68814205d4f0e0f66abdaee6...   \n",
       "1  d6/d6ce5e1dd0c1acbec39bfda25b45c922a9748af0635...   \n",
       "2  2c/2ca44505a4be9c3091296ca1a304fcf569dec7debd0...   \n",
       "5  49/49be83be8a1968c96e3470a6c838d3f07c729829c44...   \n",
       "7  63/63ddbb1d490fb00c3099be6a15a0e516dc8060fb388...   \n",
       "\n",
       "                                          entry_hash  \\\n",
       "0  f35f282f5ca665ca18a68814205d4f0e0f66abdaee6faa...   \n",
       "1  d6ce5e1dd0c1acbec39bfda25b45c922a9748af0635169...   \n",
       "2  2ca44505a4be9c3091296ca1a304fcf569dec7debd0433...   \n",
       "5  49be83be8a1968c96e3470a6c838d3f07c729829c445c3...   \n",
       "7  63ddbb1d490fb00c3099be6a15a0e516dc8060fb388223...   \n",
       "\n",
       "                     vendor rcr_prediction         rg_prediction  \n",
       "0  pnoa_midres_vertical_jpg           None               unknown  \n",
       "1      nearmap_vertical_jpg         4_good  mixed_wo_wind_credit  \n",
       "2      nearmap_vertical_jpg         3_fair                 gable  \n",
       "5      nearmap_vertical_jpg       1_severe                  flat  \n",
       "7      nearmap_vertical_jpg         3_fair  mixed_wo_wind_credit  "
      ]
     },
     "execution_count": 5,
     "metadata": {},
     "output_type": "execute_result"
    }
   ],
   "source": [
    "cols_to_keep = ['input_survey_id',\n",
    " 'input_datatype',\n",
    " 'aoi_type',\n",
    "'geometry',\n",
    " 'imagery_source',\n",
    " 'filename',\n",
    " 'entry_hash',\n",
    " 'vendor',\n",
    "'rcr_prediction',\n",
    " 'rg_prediction']\n",
    "df_with_class = df_with_class[cols_to_keep]\n",
    "df_with_class.head()\n"
   ]
  },
  {
   "cell_type": "code",
   "execution_count": 6,
   "id": "36241e55-c154-439c-8389-8a784cd58dfc",
   "metadata": {},
   "outputs": [],
   "source": [
    "df_with_class.to_parquet(\"/cnvrg/dinov2_mtmv_ds/chips/dataset_with_label.parquet\")"
   ]
  },
  {
   "cell_type": "code",
   "execution_count": 7,
   "id": "b7604bc3-d92c-4775-8ebd-806275249da3",
   "metadata": {},
   "outputs": [],
   "source": [
    "df_with_class = pd.read_parquet(\"/cnvrg/dinov2_mtmv_ds/chips/dataset_with_label.parquet\")"
   ]
  },
  {
   "cell_type": "code",
   "execution_count": 8,
   "id": "35de4c0b-79ac-453f-8e5c-c73948d00731",
   "metadata": {},
   "outputs": [
    {
     "data": {
      "text/plain": [
       "600983"
      ]
     },
     "execution_count": 8,
     "metadata": {},
     "output_type": "execute_result"
    }
   ],
   "source": [
    "len(df_with_class)"
   ]
  },
  {
   "cell_type": "code",
   "execution_count": 9,
   "id": "a3db7d58-c286-42b5-8e97-4ccedf211976",
   "metadata": {},
   "outputs": [
    {
     "data": {
      "text/plain": [
       "566724"
      ]
     },
     "execution_count": 9,
     "metadata": {},
     "output_type": "execute_result"
    }
   ],
   "source": [
    "df_with_class_unique_geometries = df_with_class.drop_duplicates(subset=[\"geometry\"])\n",
    "len(df_with_class_unique_geometries)"
   ]
  },
  {
   "cell_type": "markdown",
   "id": "620c8543-6ac5-421c-9e61-e1e30cfaf918",
   "metadata": {},
   "source": [
    "# split into train, val, test"
   ]
  },
  {
   "cell_type": "code",
   "execution_count": 18,
   "id": "4da6cd63-c212-445f-b02f-6574fd19b728",
   "metadata": {},
   "outputs": [],
   "source": [
    "\n",
    "val_fraction = 0.1\n",
    "\n",
    "from sklearn.model_selection import train_test_split\n",
    "X_train, X_val= train_test_split(df_with_class_unique_geometries, test_size=val_fraction, random_state=42)\n",
    "\n",
    "\n"
   ]
  },
  {
   "cell_type": "code",
   "execution_count": null,
   "id": "5c9af687-95bf-4125-a1d0-64325af8b7da",
   "metadata": {},
   "outputs": [],
   "source": []
  },
  {
   "cell_type": "code",
   "execution_count": 19,
   "id": "d9a670e2-23b8-47ed-a310-3584ef1fbfe3",
   "metadata": {},
   "outputs": [
    {
     "name": "stdout",
     "output_type": "stream",
     "text": [
      "510051\n",
      "56673\n"
     ]
    }
   ],
   "source": [
    "print(len(X_train))\n",
    "print(len(X_val))\n"
   ]
  },
  {
   "cell_type": "markdown",
   "id": "232ade9d-f4dd-428d-b202-454ca12ac3e7",
   "metadata": {},
   "source": [
    "# Create new folder structure, assign GT classes and create sym links"
   ]
  },
  {
   "cell_type": "code",
   "execution_count": 20,
   "id": "ddd6930e-02a2-4e78-b6a8-c3933dba0e11",
   "metadata": {},
   "outputs": [],
   "source": [
    "import os\n",
    "base_dir = \"/cnvrg/mtmv_livarea_garages/train\"\n",
    "for label in rg_labels:\n",
    "    os.makedirs(os.path.join(base_dir, label), exist_ok=True)\n",
    "for label in rcr_labels:\n",
    "    os.makedirs(os.path.join(base_dir, label), exist_ok=True)\n",
    "base_dir = \"/cnvrg/mtmv_livarea_garages/val\"\n",
    "for label in rg_labels:\n",
    "    os.makedirs(os.path.join(base_dir, \"rg\", label), exist_ok=True)\n",
    "for label in rcr_labels:\n",
    "    os.makedirs(os.path.join(base_dir, \"rcr\", label), exist_ok=True)\n"
   ]
  },
  {
   "cell_type": "code",
   "execution_count": null,
   "id": "742eeb78-e738-42d7-bb8b-762b5cfaed79",
   "metadata": {},
   "outputs": [],
   "source": []
  },
  {
   "cell_type": "code",
   "execution_count": 21,
   "id": "31849428-aa7b-4621-b1ea-050088964022",
   "metadata": {},
   "outputs": [],
   "source": [
    "os.makedirs(\"/cnvrg/mtmv_livarea_garages/train/no_label\", exist_ok=True)\n",
    "os.makedirs(\"/cnvrg/mtmv_livarea_garages/val/no_label\", exist_ok=True)\n",
    "os.makedirs(\"/cnvrg/mtmv_livarea_garages/val/no_label\", exist_ok=True)\n",
    "\n",
    "# folders for samples without label information"
   ]
  },
  {
   "cell_type": "code",
   "execution_count": null,
   "id": "fe23c3fd-05be-44e9-ae1c-a20cfeba3be7",
   "metadata": {},
   "outputs": [],
   "source": []
  },
  {
   "cell_type": "markdown",
   "id": "0fb9857b-0c77-4480-960d-9e1c171fa7e2",
   "metadata": {},
   "source": [
    "# Train and val set"
   ]
  },
  {
   "cell_type": "code",
   "execution_count": 22,
   "id": "a68136d2-7c63-4d4c-93f4-b3c34bf84361",
   "metadata": {},
   "outputs": [],
   "source": [
    "X = X_train"
   ]
  },
  {
   "cell_type": "code",
   "execution_count": 23,
   "id": "58aed19f-0c02-4bad-bda1-a15e7d35af8c",
   "metadata": {},
   "outputs": [
    {
     "data": {
      "text/plain": [
       "224687"
      ]
     },
     "execution_count": 23,
     "metadata": {},
     "output_type": "execute_result"
    }
   ],
   "source": [
    "X.rcr_prediction.isnull().sum()"
   ]
  },
  {
   "cell_type": "code",
   "execution_count": 24,
   "id": "d20536d4-03f8-457c-b8ee-7ad32e10290c",
   "metadata": {},
   "outputs": [
    {
     "data": {
      "text/plain": [
       "60096"
      ]
     },
     "execution_count": 24,
     "metadata": {},
     "output_type": "execute_result"
    }
   ],
   "source": [
    "X.rg_prediction.isnull().sum()"
   ]
  },
  {
   "cell_type": "code",
   "execution_count": 25,
   "id": "d1ea299d-1e1e-4368-b106-f4b5d79d208e",
   "metadata": {},
   "outputs": [],
   "source": [
    "num_rcr_gt = 0\n",
    "num_rg_gt = 0\n",
    "desired_num_rcr_gt = int(len(X)/2)\n",
    "dataset_path = \"/cnvrg/mtmv_livarea_garages/train\"\n",
    "\n",
    "for single_file, rcr_pred, rg_pred in zip(X.filename, X.rcr_prediction, X.rg_prediction):\n",
    "    image_full_path = os.path.join(chips_dir, single_file)\n",
    "    filename = image_full_path.split(\"/\")[-1]\n",
    "    # check whether we rcr gt\n",
    "    if rcr_pred and num_rcr_gt<desired_num_rcr_gt:\n",
    "        num_rcr_gt+=1\n",
    "        # put into corresponding rcr gt folder\n",
    "        os.symlink(image_full_path, os.path.join(dataset_path, rcr_pred, filename))\n",
    "    elif rg_pred:\n",
    "        num_rg_gt +=1\n",
    "        # put into corresponding rg gt folder\n",
    "        os.symlink(image_full_path, os.path.join(dataset_path, rg_pred, filename))\n",
    "    else:\n",
    "        os.symlink(image_full_path, os.path.join(dataset_path, \"no_label\", filename))"
   ]
  },
  {
   "cell_type": "code",
   "execution_count": 26,
   "id": "a65637ad-0c3d-422d-b120-37c9f3a5e7a4",
   "metadata": {},
   "outputs": [],
   "source": [
    "X = X_val\n",
    "num_rcr_gt = 0\n",
    "num_rg_gt = 0\n",
    "desired_num_rcr_gt = int(len(X)/2)\n",
    "dataset_path = \"/cnvrg/mtmv_livarea_garages/val\"\n",
    "\n",
    "for single_file, rcr_pred, rg_pred in zip(X.filename, X.rcr_prediction, X.rg_prediction):\n",
    "    image_full_path = os.path.join(chips_dir, single_file)\n",
    "    filename = image_full_path.split(\"/\")[-1]\n",
    "    # check whether we rcr gt\n",
    "    if rcr_pred and num_rcr_gt<desired_num_rcr_gt:\n",
    "        num_rcr_gt+=1\n",
    "        # put into corresponding rcr gt folder\n",
    "        os.symlink(image_full_path, os.path.join(dataset_path, \"rcr\", rcr_pred, filename))\n",
    "    elif rg_pred:\n",
    "        num_rg_gt +=1\n",
    "        # put into corresponding rg gt folder\n",
    "        os.symlink(image_full_path, os.path.join(dataset_path, \"rg\", rg_pred, filename))\n",
    "    else:\n",
    "        os.symlink(image_full_path, os.path.join(dataset_path, \"no_label\", filename))"
   ]
  }
 ],
 "metadata": {
  "kernelspec": {
   "display_name": "Python 3 (ipykernel)",
   "language": "python",
   "name": "python3"
  },
  "language_info": {
   "codemirror_mode": {
    "name": "ipython",
    "version": 3
   },
   "file_extension": ".py",
   "mimetype": "text/x-python",
   "name": "python",
   "nbconvert_exporter": "python",
   "pygments_lexer": "ipython3",
   "version": "3.8.8"
  }
 },
 "nbformat": 4,
 "nbformat_minor": 5
}
