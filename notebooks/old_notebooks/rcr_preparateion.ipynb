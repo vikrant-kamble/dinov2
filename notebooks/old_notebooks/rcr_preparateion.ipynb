{
 "cells": [
  {
   "cell_type": "code",
   "execution_count": 1,
   "id": "6aede2f5-511b-4808-81ed-65fc759b3238",
   "metadata": {},
   "outputs": [],
   "source": [
    "import pandas as pd\n",
    "from data_science_tools.core import temporary_configuration\n",
    "from data_science_tools.datasets import AttrGeomSet, GeomLabelSet\n",
    "from data_science_tools.datasets import RawGeomVoteSet, GeomLabelSet\n",
    "\n",
    "rcr_mnemonics = [\"rcr_v3_1/20201110_v3_train\",\n",
    "\"rcr_v3_1/20201110_v3_val\",\n",
    "\"rcr_v3_1/20201201_nearmap_conus_al_1\",\n",
    "\"rcr_v3_1/20201201_nearmap_aus_al_1\",\n",
    "\"rcr_v3_1/20210111_al2_temp_nearmap_can\",\n",
    "\"rcr_v3_1/20210111_al2_temp_nearmap_conus\",\n",
    "\"rcr_v3_1/20201110_v3_test\"                 \n",
    "]\n",
    "all_dfs = []\n",
    "with temporary_configuration() as tmp_config:\n",
    "    tmp_config[\"datasets\"][\"perform_checks\"] = False\n",
    "    for m in rcr_mnemonics:\n",
    "        ds = RawGeomVoteSet.from_mnemonic(m)\n",
    "        df = ds.to_pandas()\n",
    "        # group votes, keep only required columns\n",
    "        columns_to_keep = [\"geometry\", \"imagery_source\", \"imagery_date\"]\n",
    "        # Labeled dataset. Let's aggregate:\n",
    "        cols_aggregations = {\"geometry_labels\": list}\n",
    "        # If this dataset contains many votes, keep them\n",
    "        if \"label_vote_id\" in df.columns:\n",
    "            cols_aggregations[\"label_vote_id\"] = list\n",
    "        \n",
    "        # Keep a few columns for bedrock datasets\n",
    "        for col in [\"cache_key\", \"dataset_path\", \"dataset_format\"]:\n",
    "            if col in df.columns:\n",
    "                # Keep first\n",
    "                cols_aggregations[col] = \"first\"  # type: ignore\n",
    "        \n",
    "        df_agg = df.groupby(columns_to_keep)[list(cols_aggregations.keys())].agg(cols_aggregations).reset_index()\n",
    "\n",
    "        all_dfs.append(df_agg)\n",
    "concatenated_df = pd.concat(all_dfs, axis=0)"
   ]
  },
  {
   "cell_type": "code",
   "execution_count": 2,
   "id": "377728de-877b-46a0-960e-2307ebbb5dd2",
   "metadata": {},
   "outputs": [
    {
     "data": {
      "text/plain": [
       "245285"
      ]
     },
     "execution_count": 2,
     "metadata": {},
     "output_type": "execute_result"
    }
   ],
   "source": [
    "len(concatenated_df)"
   ]
  },
  {
   "cell_type": "code",
   "execution_count": 43,
   "id": "fc6008bd-1f26-49b4-87af-d4853d2b2b33",
   "metadata": {},
   "outputs": [],
   "source": [
    "df = concatenated_df.drop_duplicates(subset='geometry')"
   ]
  },
  {
   "cell_type": "code",
   "execution_count": 44,
   "id": "9d6f92e9-79b1-4ce5-a48e-b56c79c4c446",
   "metadata": {},
   "outputs": [
    {
     "name": "stderr",
     "output_type": "stream",
     "text": [
      "/tmp/ipykernel_19416/1776969581.py:4: SettingWithCopyWarning: \n",
      "A value is trying to be set on a copy of a slice from a DataFrame.\n",
      "Try using .loc[row_indexer,col_indexer] = value instead\n",
      "\n",
      "See the caveats in the documentation: https://pandas.pydata.org/pandas-docs/stable/user_guide/indexing.html#returning-a-view-versus-a-copy\n",
      "  df[\"geometry_label\"] = df.geometry_labels.apply(lambda g: most_frequent(g))\n"
     ]
    }
   ],
   "source": [
    "def most_frequent(l):\n",
    "    return max(set(l), key = l.count)\n",
    "\n",
    "df[\"geometry_label\"] = df.geometry_labels.apply(lambda g: most_frequent(g))"
   ]
  },
  {
   "cell_type": "code",
   "execution_count": 45,
   "id": "e6f52f06-fce9-4317-b129-3d3bec65c5bb",
   "metadata": {},
   "outputs": [
    {
     "data": {
      "text/plain": [
       "242786"
      ]
     },
     "execution_count": 45,
     "metadata": {},
     "output_type": "execute_result"
    }
   ],
   "source": [
    "len(df)"
   ]
  },
  {
   "cell_type": "code",
   "execution_count": 46,
   "id": "36b15185-ae37-4cb9-a758-0401527c5e08",
   "metadata": {},
   "outputs": [],
   "source": [
    "df = df.drop(columns=['geometry_labels', 'label_vote_id'])\n",
    "df = df.rename(columns={'geometry_label': 'geometry_labels'})"
   ]
  },
  {
   "cell_type": "code",
   "execution_count": 47,
   "id": "e7d6182f-87bc-41b7-a536-3ab494e6256a",
   "metadata": {},
   "outputs": [
    {
     "data": {
      "text/html": [
       "<div>\n",
       "<style scoped>\n",
       "    .dataframe tbody tr th:only-of-type {\n",
       "        vertical-align: middle;\n",
       "    }\n",
       "\n",
       "    .dataframe tbody tr th {\n",
       "        vertical-align: top;\n",
       "    }\n",
       "\n",
       "    .dataframe thead th {\n",
       "        text-align: right;\n",
       "    }\n",
       "</style>\n",
       "<table border=\"1\" class=\"dataframe\">\n",
       "  <thead>\n",
       "    <tr style=\"text-align: right;\">\n",
       "      <th></th>\n",
       "      <th>geometry</th>\n",
       "      <th>imagery_source</th>\n",
       "      <th>imagery_date</th>\n",
       "      <th>geometry_labels</th>\n",
       "    </tr>\n",
       "  </thead>\n",
       "  <tbody>\n",
       "    <tr>\n",
       "      <th>0</th>\n",
       "      <td>b'\\x01\\x03\\x00\\x00\\x00\\x01\\x00\\x00\\x00\\x00\\x01...</td>\n",
       "      <td>sv2:nearmap_vertical_jpg:49085fd0-b968-11e7-a5...</td>\n",
       "      <td>2017-09-09 00:00:00+00:00</td>\n",
       "      <td>2_poor</td>\n",
       "    </tr>\n",
       "    <tr>\n",
       "      <th>1</th>\n",
       "      <td>b'\\x01\\x03\\x00\\x00\\x00\\x01\\x00\\x00\\x00\\x00\\x01...</td>\n",
       "      <td>sv2:nearmap_vertical_jpg:223cb98a-c008-11e8-b4...</td>\n",
       "      <td>2018-09-07 00:00:00+00:00</td>\n",
       "      <td>multiple_roofs</td>\n",
       "    </tr>\n",
       "    <tr>\n",
       "      <th>2</th>\n",
       "      <td>b'\\x01\\x03\\x00\\x00\\x00\\x01\\x00\\x00\\x00\\x00\\x01...</td>\n",
       "      <td>sv2:nearmap_vertical_jpg:4603d90e-1192-11e8-b0...</td>\n",
       "      <td>2018-01-24 00:00:00+00:00</td>\n",
       "      <td>5_excellent</td>\n",
       "    </tr>\n",
       "    <tr>\n",
       "      <th>3</th>\n",
       "      <td>b'\\x01\\x03\\x00\\x00\\x00\\x01\\x00\\x00\\x00\\x00\\x01...</td>\n",
       "      <td>sv2:nearmap_vertical_jpg:22f2e790-bb6d-11e8-b1...</td>\n",
       "      <td>2018-09-07 00:00:00+00:00</td>\n",
       "      <td>multiple_roofs</td>\n",
       "    </tr>\n",
       "    <tr>\n",
       "      <th>4</th>\n",
       "      <td>b'\\x01\\x03\\x00\\x00\\x00\\x01\\x00\\x00\\x00\\x00\\x01...</td>\n",
       "      <td>sv2:nearmap_vertical_jpg:35c9a9c4-e41e-11e8-85...</td>\n",
       "      <td>2018-10-25 00:00:00+00:00</td>\n",
       "      <td>4_good</td>\n",
       "    </tr>\n",
       "    <tr>\n",
       "      <th>...</th>\n",
       "      <td>...</td>\n",
       "      <td>...</td>\n",
       "      <td>...</td>\n",
       "      <td>...</td>\n",
       "    </tr>\n",
       "    <tr>\n",
       "      <th>9309</th>\n",
       "      <td>b'\\x01\\x06\\x00\\x00\\x00\\x07\\x00\\x00\\x00\\x01\\x03...</td>\n",
       "      <td>sv2:nearmap_vertical_jpg:a2fde4d0-c8d8-11e8-be...</td>\n",
       "      <td>2018-09-23 00:00:00+00:00</td>\n",
       "      <td>no_roof</td>\n",
       "    </tr>\n",
       "    <tr>\n",
       "      <th>9310</th>\n",
       "      <td>b'\\x01\\x06\\x00\\x00\\x00\\x07\\x00\\x00\\x00\\x01\\x03...</td>\n",
       "      <td>sv2:nearmap_vertical_jpg:85032e56-2e3f-11e8-8d...</td>\n",
       "      <td>2018-03-08 00:00:00+00:00</td>\n",
       "      <td>no_roof</td>\n",
       "    </tr>\n",
       "    <tr>\n",
       "      <th>9311</th>\n",
       "      <td>b'\\x01\\x06\\x00\\x00\\x00\\x08\\x00\\x00\\x00\\x01\\x03...</td>\n",
       "      <td>sv2:nearmap_vertical_jpg:b78d907e-ad55-11e8-95...</td>\n",
       "      <td>2018-08-06 00:00:00+00:00</td>\n",
       "      <td>5_excellent</td>\n",
       "    </tr>\n",
       "    <tr>\n",
       "      <th>9312</th>\n",
       "      <td>b'\\x01\\x06\\x00\\x00\\x00\\x08\\x00\\x00\\x00\\x01\\x03...</td>\n",
       "      <td>sv2:nearmap_vertical_jpg:a6cb78ea-c1ba-11e8-85...</td>\n",
       "      <td>2018-09-17 00:00:00+00:00</td>\n",
       "      <td>multiple_roofs</td>\n",
       "    </tr>\n",
       "    <tr>\n",
       "      <th>9313</th>\n",
       "      <td>b'\\x01\\x06\\x00\\x00\\x00\\x08\\x00\\x00\\x00\\x01\\x03...</td>\n",
       "      <td>sv2:nearmap_vertical_jpg:f80a5408-e1cf-11e8-a1...</td>\n",
       "      <td>2018-10-30 00:00:00+00:00</td>\n",
       "      <td>multiple_roofs</td>\n",
       "    </tr>\n",
       "  </tbody>\n",
       "</table>\n",
       "<p>242786 rows × 4 columns</p>\n",
       "</div>"
      ],
      "text/plain": [
       "                                               geometry  \\\n",
       "0     b'\\x01\\x03\\x00\\x00\\x00\\x01\\x00\\x00\\x00\\x00\\x01...   \n",
       "1     b'\\x01\\x03\\x00\\x00\\x00\\x01\\x00\\x00\\x00\\x00\\x01...   \n",
       "2     b'\\x01\\x03\\x00\\x00\\x00\\x01\\x00\\x00\\x00\\x00\\x01...   \n",
       "3     b'\\x01\\x03\\x00\\x00\\x00\\x01\\x00\\x00\\x00\\x00\\x01...   \n",
       "4     b'\\x01\\x03\\x00\\x00\\x00\\x01\\x00\\x00\\x00\\x00\\x01...   \n",
       "...                                                 ...   \n",
       "9309  b'\\x01\\x06\\x00\\x00\\x00\\x07\\x00\\x00\\x00\\x01\\x03...   \n",
       "9310  b'\\x01\\x06\\x00\\x00\\x00\\x07\\x00\\x00\\x00\\x01\\x03...   \n",
       "9311  b'\\x01\\x06\\x00\\x00\\x00\\x08\\x00\\x00\\x00\\x01\\x03...   \n",
       "9312  b'\\x01\\x06\\x00\\x00\\x00\\x08\\x00\\x00\\x00\\x01\\x03...   \n",
       "9313  b'\\x01\\x06\\x00\\x00\\x00\\x08\\x00\\x00\\x00\\x01\\x03...   \n",
       "\n",
       "                                         imagery_source  \\\n",
       "0     sv2:nearmap_vertical_jpg:49085fd0-b968-11e7-a5...   \n",
       "1     sv2:nearmap_vertical_jpg:223cb98a-c008-11e8-b4...   \n",
       "2     sv2:nearmap_vertical_jpg:4603d90e-1192-11e8-b0...   \n",
       "3     sv2:nearmap_vertical_jpg:22f2e790-bb6d-11e8-b1...   \n",
       "4     sv2:nearmap_vertical_jpg:35c9a9c4-e41e-11e8-85...   \n",
       "...                                                 ...   \n",
       "9309  sv2:nearmap_vertical_jpg:a2fde4d0-c8d8-11e8-be...   \n",
       "9310  sv2:nearmap_vertical_jpg:85032e56-2e3f-11e8-8d...   \n",
       "9311  sv2:nearmap_vertical_jpg:b78d907e-ad55-11e8-95...   \n",
       "9312  sv2:nearmap_vertical_jpg:a6cb78ea-c1ba-11e8-85...   \n",
       "9313  sv2:nearmap_vertical_jpg:f80a5408-e1cf-11e8-a1...   \n",
       "\n",
       "                  imagery_date geometry_labels  \n",
       "0    2017-09-09 00:00:00+00:00          2_poor  \n",
       "1    2018-09-07 00:00:00+00:00  multiple_roofs  \n",
       "2    2018-01-24 00:00:00+00:00     5_excellent  \n",
       "3    2018-09-07 00:00:00+00:00  multiple_roofs  \n",
       "4    2018-10-25 00:00:00+00:00          4_good  \n",
       "...                        ...             ...  \n",
       "9309 2018-09-23 00:00:00+00:00         no_roof  \n",
       "9310 2018-03-08 00:00:00+00:00         no_roof  \n",
       "9311 2018-08-06 00:00:00+00:00     5_excellent  \n",
       "9312 2018-09-17 00:00:00+00:00  multiple_roofs  \n",
       "9313 2018-10-30 00:00:00+00:00  multiple_roofs  \n",
       "\n",
       "[242786 rows x 4 columns]"
      ]
     },
     "execution_count": 47,
     "metadata": {},
     "output_type": "execute_result"
    }
   ],
   "source": [
    "df"
   ]
  },
  {
   "cell_type": "code",
   "execution_count": 48,
   "id": "7136318d-c589-4eac-b77e-3f5464ba8c21",
   "metadata": {},
   "outputs": [],
   "source": [
    "df.to_parquet(\"/cnvrg/rcr_df_for_chipping.parquet\")"
   ]
  },
  {
   "cell_type": "code",
   "execution_count": null,
   "id": "a3f09cb6-d654-436d-b208-9f4d6029b046",
   "metadata": {},
   "outputs": [],
   "source": [
    "#################### DO chipping #############################"
   ]
  },
  {
   "cell_type": "code",
   "execution_count": 50,
   "id": "01d6d1e9-2ba4-42eb-b9c1-082206070fa1",
   "metadata": {},
   "outputs": [],
   "source": [
    "df = pd.read_parquet(\"/data/rcr_for_dino_chips/chips/dataset.parquet\")"
   ]
  },
  {
   "cell_type": "code",
   "execution_count": 52,
   "id": "6a3079d4-8f56-446c-bdf0-3f9c9c987e5c",
   "metadata": {},
   "outputs": [
    {
     "data": {
      "text/plain": [
       "Index(['geometry', 'imagery_source', 'imagery_date', 'geometry_labels',\n",
       "       'filename', 'entry_hash'],\n",
       "      dtype='object')"
      ]
     },
     "execution_count": 52,
     "metadata": {},
     "output_type": "execute_result"
    }
   ],
   "source": [
    "df.columns"
   ]
  },
  {
   "cell_type": "code",
   "execution_count": 53,
   "id": "79f0768f-d76e-420b-b05b-0c133efbafe5",
   "metadata": {},
   "outputs": [],
   "source": [
    "val_fraction = 0.4\n",
    "\n",
    "# Split train, val, test (after grouping by datarow_id!)\n",
    "from sklearn.model_selection import GroupShuffleSplit \n",
    "\n",
    "splitter = GroupShuffleSplit(test_size=val_fraction, n_splits=1, random_state = 7)\n",
    "split = splitter.split(df, groups=df['geometry'])\n",
    "train_inds, val_inds = next(split)\n",
    "\n",
    "\n",
    "X_train = df.iloc[train_inds]\n",
    "X_val = df.iloc[val_inds]\n"
   ]
  },
  {
   "cell_type": "code",
   "execution_count": 54,
   "id": "c308a33c-be37-4771-863c-2136801e049a",
   "metadata": {},
   "outputs": [],
   "source": [
    "rcr_labels = list(X_train[\"geometry_labels\"].unique())"
   ]
  },
  {
   "cell_type": "code",
   "execution_count": 57,
   "id": "4324a6b9-866c-48c8-8675-dfb6f404dff2",
   "metadata": {},
   "outputs": [],
   "source": [
    "import os\n",
    "base_dir = \"/cnvrg/rcr_evaluation/train\"\n",
    "for label in rcr_labels:\n",
    "    os.makedirs(os.path.join(base_dir, label), exist_ok=True)\n",
    "\n",
    "base_dir = \"/cnvrg/rcr_evaluation/val\"\n",
    "for label in rcr_labels:\n",
    "    os.makedirs(os.path.join(base_dir, label), exist_ok=True)"
   ]
  },
  {
   "cell_type": "code",
   "execution_count": null,
   "id": "d7db2e3d-af6d-4338-a197-875366440f30",
   "metadata": {},
   "outputs": [],
   "source": [
    "X = X_val\n",
    "\n",
    "dataset_path = \"/cnvrg/rcr_evaluation/val\"\n",
    "chips_dir = \"/data/rcr_for_dino_chips/chips\"\n",
    "for single_file, pred in zip(X.filename, X.geometry_labels):\n",
    "    image_full_path = os.path.join(chips_dir, single_file)\n",
    "    filename = image_full_path.split(\"/\")[-1]   \n",
    "    os.symlink(image_full_path, os.path.join(dataset_path, pred, filename))"
   ]
  },
  {
   "cell_type": "code",
   "execution_count": null,
   "id": "94162c5a-4972-4338-be39-c290cfae14fc",
   "metadata": {},
   "outputs": [],
   "source": [
    "X = X_train\n",
    "\n",
    "dataset_path = \"/cnvrg/rcr_evaluation/train\"\n",
    "chips_dir = \"/data/rcr_for_dino_chips/chips\"\n",
    "for single_file, pred in zip(X.filename, X.geometry_labels):\n",
    "    image_full_path = os.path.join(chips_dir, single_file)\n",
    "    filename = image_full_path.split(\"/\")[-1]   \n",
    "    os.symlink(image_full_path, os.path.join(dataset_path, pred, filename))"
   ]
  }
 ],
 "metadata": {
  "kernelspec": {
   "display_name": "Python 3 (ipykernel)",
   "language": "python",
   "name": "python3"
  },
  "language_info": {
   "codemirror_mode": {
    "name": "ipython",
    "version": 3
   },
   "file_extension": ".py",
   "mimetype": "text/x-python",
   "name": "python",
   "nbconvert_exporter": "python",
   "pygments_lexer": "ipython3",
   "version": "3.10.11"
  }
 },
 "nbformat": 4,
 "nbformat_minor": 5
}
