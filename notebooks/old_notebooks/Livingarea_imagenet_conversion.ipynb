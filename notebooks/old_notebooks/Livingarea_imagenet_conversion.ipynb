{
 "cells": [
  {
   "cell_type": "markdown",
   "id": "c2701101-1640-4592-bd02-8a68d7e07d47",
   "metadata": {},
   "source": [
    "# Load garage datasets"
   ]
  },
  {
   "cell_type": "code",
   "execution_count": 1,
   "id": "89611d2a-a790-4ad0-9abe-f51cc452fc89",
   "metadata": {},
   "outputs": [],
   "source": [
    "import pandas as pd\n",
    "\n",
    "df_train_1 = pd.read_parquet(\"/cnvrg/oblique_cubicasa_train_chips_pj_living_area_dev_v4_chunks/chips/dataset.parquet\")\n",
    "df_train_1[\"chips_path\"] = \"/cnvrg/oblique_cubicasa_train_chips_pj_living_area_dev_v4_chunks/chips\"\n",
    "df_train_2 = pd.read_parquet(\"/cnvrg/oblique_cubicasa_val_chips_pj_living_area_dev_v4/chips/dataset.parquet\")\n",
    "df_train_2[\"chips_path\"] = \"/cnvrg/oblique_cubicasa_val_chips_pj_living_area_dev_v4/chips\"\n",
    "\n"
   ]
  },
  {
   "cell_type": "code",
   "execution_count": 2,
   "id": "de95605d-3b0c-4632-a8f2-f30cd80c013c",
   "metadata": {},
   "outputs": [],
   "source": [
    "df = pd.concat([df_train_2, df_train_1], axis=0)"
   ]
  },
  {
   "cell_type": "code",
   "execution_count": 3,
   "id": "c29a5cb5-913c-4d56-83f1-183ee07688ce",
   "metadata": {},
   "outputs": [
    {
     "data": {
      "text/plain": [
       "655528"
      ]
     },
     "execution_count": 3,
     "metadata": {},
     "output_type": "execute_result"
    }
   ],
   "source": [
    "len(df)"
   ]
  },
  {
   "cell_type": "code",
   "execution_count": 4,
   "id": "5e22bcb9-b241-4d3f-b1d9-a0799b37f8a1",
   "metadata": {},
   "outputs": [],
   "source": [
    "df = df.drop_duplicates(subset=[\"geometry\", 'imagery_source'])"
   ]
  },
  {
   "cell_type": "code",
   "execution_count": 5,
   "id": "c27cce8f-28e1-4a1d-bdad-bd2758bdba0c",
   "metadata": {},
   "outputs": [
    {
     "data": {
      "text/plain": [
       "655503"
      ]
     },
     "execution_count": 5,
     "metadata": {},
     "output_type": "execute_result"
    }
   ],
   "source": [
    "len(df)"
   ]
  },
  {
   "cell_type": "code",
   "execution_count": 6,
   "id": "13f71bdb-14c5-4441-a951-f952158f73ee",
   "metadata": {},
   "outputs": [],
   "source": [
    "val_fraction = 0.1\n",
    "# Split train, val, test (after grouping by datarow_id!)\n",
    "from sklearn.model_selection import GroupShuffleSplit \n",
    "\n",
    "splitter = GroupShuffleSplit(test_size=val_fraction, n_splits=1, random_state = 7)\n",
    "split = splitter.split(df, groups=df['cape_full_address'])\n",
    "train_inds, val_inds = next(split)\n",
    "\n",
    "\n",
    "X_train = df.iloc[train_inds]\n",
    "X_val = df.iloc[val_inds]\n"
   ]
  },
  {
   "cell_type": "code",
   "execution_count": 7,
   "id": "9416b810-a5f6-4ea9-9305-73a59a02ebec",
   "metadata": {},
   "outputs": [
    {
     "data": {
      "text/plain": [
       "589883"
      ]
     },
     "execution_count": 7,
     "metadata": {},
     "output_type": "execute_result"
    }
   ],
   "source": [
    "len(X_train)"
   ]
  },
  {
   "cell_type": "code",
   "execution_count": 8,
   "id": "7e00bc2c-452f-4564-b635-d5e777e99b60",
   "metadata": {},
   "outputs": [
    {
     "data": {
      "text/plain": [
       "65620"
      ]
     },
     "execution_count": 8,
     "metadata": {},
     "output_type": "execute_result"
    }
   ],
   "source": [
    "len(X_val)"
   ]
  },
  {
   "cell_type": "code",
   "execution_count": 9,
   "id": "8501bb0a-49aa-4903-a8de-9ac1f8ba04e7",
   "metadata": {},
   "outputs": [
    {
     "data": {
      "text/plain": [
       "'import shutil\\nbase_dir = \"/cnvrg/dinov2_mtmv_livarea_garages/train\"\\nfor label in garage_labels:\\n    shutil.rmtree(os.path.join(base_dir, label))\\n\\nbase_dir = \"/cnvrg/dinov2_mtmv_livarea_garages/val\"\\nfor label in garage_labels:\\n    shutil.rmtree(os.path.join(base_dir, \"garages\", label))\\n\\nbase_dir = \"/cnvrg/dinov2_mtmv_livarea_garages/test\"\\nfor label in garage_labels:\\n    shutil.rmtree(os.path.join(base_dir, \"garages\", label))\\n'"
      ]
     },
     "execution_count": 9,
     "metadata": {},
     "output_type": "execute_result"
    }
   ],
   "source": [
    "\"\"\"import shutil\n",
    "base_dir = \"/cnvrg/dinov2_mtmv_livarea_garages/train\"\n",
    "for label in garage_labels:\n",
    "    shutil.rmtree(os.path.join(base_dir, label))\n",
    "\n",
    "base_dir = \"/cnvrg/dinov2_mtmv_livarea_garages/val\"\n",
    "for label in garage_labels:\n",
    "    shutil.rmtree(os.path.join(base_dir, \"garages\", label))\n",
    "\n",
    "base_dir = \"/cnvrg/dinov2_mtmv_livarea_garages/test\"\n",
    "for label in garage_labels:\n",
    "    shutil.rmtree(os.path.join(base_dir, \"garages\", label))\n",
    "\"\"\""
   ]
  },
  {
   "cell_type": "code",
   "execution_count": 10,
   "id": "7587eb42-35c7-48ae-a9d5-1ac9e1bc0e3f",
   "metadata": {},
   "outputs": [],
   "source": [
    "import os\n",
    "base_dir = \"/cnvrg/mtmv_livarea_garages/train\"\n",
    "os.makedirs(os.path.join(base_dir, \"livingarea\"), exist_ok=True)\n",
    "\n",
    "base_dir = \"/cnvrg/mtmv_livarea_garages/val\"\n",
    "os.makedirs(os.path.join(base_dir, \"livingarea\"), exist_ok=True)\n",
    "\n"
   ]
  },
  {
   "cell_type": "code",
   "execution_count": 11,
   "id": "bf3d34e9-e3c8-48b4-bbb3-0636bad60671",
   "metadata": {},
   "outputs": [],
   "source": [
    "X = X_val\n",
    "\n",
    "dataset_path = \"/cnvrg/mtmv_livarea_garages/val\"\n",
    "\n",
    "for single_file, chips_dir in zip(X.filename, X.chips_path):\n",
    "    image_full_path = os.path.join(chips_dir, single_file)\n",
    "    filename = image_full_path.split(\"/\")[-1]   \n",
    "    os.symlink(image_full_path, os.path.join(dataset_path, \"livingarea\", filename))\n",
    "\n"
   ]
  },
  {
   "cell_type": "code",
   "execution_count": 12,
   "id": "f8f365ba-cfbe-4404-a50d-be7ef08ea50d",
   "metadata": {},
   "outputs": [],
   "source": [
    "X = X_train\n",
    "\n",
    "dataset_path = \"/cnvrg/mtmv_livarea_garages/train\"\n",
    "\n",
    "for single_file, chips_dir in zip(X.filename, X.chips_path):\n",
    "    image_full_path = os.path.join(chips_dir, single_file)\n",
    "    filename = image_full_path.split(\"/\")[-1]   \n",
    "    os.symlink(image_full_path, os.path.join(dataset_path, \"livingarea\", filename))\n"
   ]
  }
 ],
 "metadata": {
  "kernelspec": {
   "display_name": "Python 3 (ipykernel)",
   "language": "python",
   "name": "python3"
  },
  "language_info": {
   "codemirror_mode": {
    "name": "ipython",
    "version": 3
   },
   "file_extension": ".py",
   "mimetype": "text/x-python",
   "name": "python",
   "nbconvert_exporter": "python",
   "pygments_lexer": "ipython3",
   "version": "3.8.8"
  }
 },
 "nbformat": 4,
 "nbformat_minor": 5
}
