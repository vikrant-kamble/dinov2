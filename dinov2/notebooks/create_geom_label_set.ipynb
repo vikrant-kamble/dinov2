{
 "cells": [
  {
   "cell_type": "code",
   "execution_count": 1,
   "id": "1200c52e-543a-43f8-af58-b1b055ad4a9a",
   "metadata": {},
   "outputs": [],
   "source": [
    "#!pip install pandas -U\n",
    "from data_science_tools.datasets import GeomLabelSet\n",
    "from data_science_tools.datasets import MetaData\n",
    "from data_science_tools.datasets.origins import CustomOrigin\n",
    "from data_science_tools.geometry.wkb_utils import shapely_to_wkb, wkb_to_shapely\n",
    "from data_science_tools.tile_servers import ShowerV2\n",
    "import pandas as pd\n",
    "import numpy as np\n",
    "import geopandas as gpd\n",
    "import shapely.geometry\n",
    "import warnings"
   ]
  },
  {
   "cell_type": "code",
   "execution_count": 2,
   "id": "a589d62f-9a69-4746-9cdb-1f97619a60db",
   "metadata": {},
   "outputs": [],
   "source": [
    "gdf = gpd.read_file(\"raw_data.gpkg\")"
   ]
  },
  {
   "cell_type": "code",
   "execution_count": 3,
   "id": "17121ab9-222a-473c-a808-d5efab417f71",
   "metadata": {},
   "outputs": [
    {
     "data": {
      "text/plain": [
       "<Axes: >"
      ]
     },
     "execution_count": 3,
     "metadata": {},
     "output_type": "execute_result"
    },
    {
     "data": {
      "image/png": "[encoded data removed]",
      "text/plain": [
       "<Figure size 640x480 with 1 Axes>"
      ]
     },
     "metadata": {},
     "output_type": "display_data"
    }
   ],
   "source": [
    "gdf['rcr'].value_counts().loc[['-2', '-1', '0', '1', '2']].plot.bar()"
   ]
  },
  {
   "cell_type": "code",
   "execution_count": 4,
   "id": "3815e408-4896-4bec-97ec-521f592a10f0",
   "metadata": {},
   "outputs": [
    {
     "data": {
      "text/html": [
       "<div>\n",
       "<style scoped>\n",
       "    .dataframe tbody tr th:only-of-type {\n",
       "        vertical-align: middle;\n",
       "    }\n",
       "\n",
       "    .dataframe tbody tr th {\n",
       "        vertical-align: top;\n",
       "    }\n",
       "\n",
       "    .dataframe thead th {\n",
       "        text-align: right;\n",
       "    }\n",
       "</style>\n",
       "<table border=\"1\" class=\"dataframe\">\n",
       "  <thead>\n",
       "    <tr style=\"text-align: right;\">\n",
       "      <th></th>\n",
       "      <th>rcr</th>\n",
       "      <th>lon</th>\n",
       "      <th>lat</th>\n",
       "      <th>geometry</th>\n",
       "    </tr>\n",
       "  </thead>\n",
       "  <tbody>\n",
       "    <tr>\n",
       "      <th>0</th>\n",
       "      <td>-2</td>\n",
       "      <td>-116.907815</td>\n",
       "      <td>32.743351</td>\n",
       "      <td>POLYGON ((-116.90794 32.74339, -116.90794 32.7...</td>\n",
       "    </tr>\n",
       "  </tbody>\n",
       "</table>\n",
       "</div>"
      ],
      "text/plain": [
       "  rcr         lon        lat  \\\n",
       "0  -2 -116.907815  32.743351   \n",
       "\n",
       "                                            geometry  \n",
       "0  POLYGON ((-116.90794 32.74339, -116.90794 32.7...  "
      ]
     },
     "execution_count": 4,
     "metadata": {},
     "output_type": "execute_result"
    }
   ],
   "source": [
    "# Let's build the dataset\n",
    "gdf.head(1)"
   ]
  },
  {
   "cell_type": "code",
   "execution_count": 5,
   "id": "69e4e2fe-96b4-463a-8faf-5728b7f1753e",
   "metadata": {},
   "outputs": [],
   "source": [
    "sv2 = ShowerV2()\n",
    "imagery_layer = \"nearmap_20220801\"  # shower v2 layer"
   ]
  },
  {
   "cell_type": "code",
   "execution_count": 6,
   "id": "88816ec9-8553-4ef0-af69-26fe956d3575",
   "metadata": {},
   "outputs": [],
   "source": [
    "gdf['group'] = [1] * 500000 + [2] * 500000 + [3] * 500000 + [4] * (gdf.shape[0] - 1500000)"
   ]
  },
  {
   "cell_type": "code",
   "execution_count": 12,
   "id": "0dd3c4b0-4c77-446e-875c-b7e63049f81a",
   "metadata": {},
   "outputs": [
    {
     "data": {
      "text/plain": [
       "4    697945\n",
       "1    500000\n",
       "2    500000\n",
       "3    500000\n",
       "Name: group, dtype: int64"
      ]
     },
     "execution_count": 12,
     "metadata": {},
     "output_type": "execute_result"
    }
   ],
   "source": [
    "gdf['group'].value_counts()"
   ]
  },
  {
   "cell_type": "code",
   "execution_count": 18,
   "id": "454c7b63-605f-48ef-b3ef-df7ced063bbe",
   "metadata": {},
   "outputs": [
    {
     "name": "stdout",
     "output_type": "stream",
     "text": [
      "Getting surveys from Blanket :\n",
      "\n",
      "[*********100.0%*************]  100 / 100 metatile in 1.2 s (0:00:00 to go)\n"
     ]
    }
   ],
   "source": [
    "with warnings.catch_warnings():\n",
    "    warnings.simplefilter(\"ignore\")\n",
    "\n",
    "    for i, grp_df in gdf.groupby(\"group\"):\n",
    "        df_with_surveys = sv2.get_best_surveys_of_layer_geom(\n",
    "            imagery_layer, geom=grp_df[\"geometry\"].iloc[:100], zp=20, x_padding=1, y_padding=1\n",
    "        )\n",
    "\n",
    "        grp_df['geom_wkb'] = grp_df['geometry'].apply(shapely_to_wkb)\n",
    "        df_with_surveys['geom_wkb'] = df_with_surveys['geometry'].apply(shapely_to_wkb)\n",
    "\n",
    "        merged = grp_df.merge(df_with_surveys[['imagery_source', 'imagery_date', 'geometry', 'geom_id', 'geom_wkb']], on='geom_wkb')\n",
    "        merged.head(2)\n",
    "        \n",
    "        # grp_df.iloc[:100].to_file(f\"grp_{i}.gpkg\", driver='GPKG')\n",
    "        # df_with_surveys.to_hdf(f\"surveys_{i}.hdf\", \"surveys\")\n",
    "\n",
    "        break"
   ]
  },
  {
   "cell_type": "code",
   "execution_count": 4,
   "id": "88ac9c9e-675c-4795-8e54-b53c9dc8b3cc",
   "metadata": {},
   "outputs": [],
   "source": [
    "df_with_surveys = pd.concat([pd.read_hdf(f\"survey{i}.hdf\") for i in range(1, 5)]).reset_index(drop=True)"
   ]
  },
  {
   "cell_type": "code",
   "execution_count": 5,
   "id": "e46aad46-f9bc-4508-b3b3-a926a9188089",
   "metadata": {},
   "outputs": [
    {
     "data": {
      "text/plain": [
       "(2197943, 18)"
      ]
     },
     "execution_count": 5,
     "metadata": {},
     "output_type": "execute_result"
    }
   ],
   "source": [
    "df_with_surveys.shape"
   ]
  },
  {
   "cell_type": "code",
   "execution_count": 7,
   "id": "075f7da6-ab7e-4778-8e59-4104c55fa296",
   "metadata": {},
   "outputs": [
    {
     "data": {
      "text/html": [
       "<div>\n",
       "<style scoped>\n",
       "    .dataframe tbody tr th:only-of-type {\n",
       "        vertical-align: middle;\n",
       "    }\n",
       "\n",
       "    .dataframe tbody tr th {\n",
       "        vertical-align: top;\n",
       "    }\n",
       "\n",
       "    .dataframe thead th {\n",
       "        text-align: right;\n",
       "    }\n",
       "</style>\n",
       "<table border=\"1\" class=\"dataframe\">\n",
       "  <thead>\n",
       "    <tr style=\"text-align: right;\">\n",
       "      <th></th>\n",
       "      <th>id</th>\n",
       "      <th>provider_survey_id</th>\n",
       "      <th>capture_date</th>\n",
       "      <th>provider_online_date</th>\n",
       "      <th>cape_capture_date</th>\n",
       "      <th>cape_online_date</th>\n",
       "      <th>org_id</th>\n",
       "      <th>org_name</th>\n",
       "      <th>datatype_name</th>\n",
       "      <th>additional_datatype_names</th>\n",
       "      <th>provider_name</th>\n",
       "      <th>unique_survey_id</th>\n",
       "      <th>requested_datatype_name</th>\n",
       "      <th>imagery_source</th>\n",
       "      <th>imagery_date</th>\n",
       "      <th>geom_id</th>\n",
       "      <th>geometry</th>\n",
       "      <th>has_oblique</th>\n",
       "    </tr>\n",
       "  </thead>\n",
       "  <tbody>\n",
       "    <tr>\n",
       "      <th>0</th>\n",
       "      <td>1631037</td>\n",
       "      <td>62703536-c65d-11ec-872f-17927c70f651</td>\n",
       "      <td>2022-04-23 00:00:00+00:00</td>\n",
       "      <td>2022-04-27 19:08:12+00:00</td>\n",
       "      <td>2022-04-28 06:02:09.478305+00:00</td>\n",
       "      <td>2022-04-28 06:02:09.832110+00:00</td>\n",
       "      <td>None</td>\n",
       "      <td>None</td>\n",
       "      <td>nearmap_vertical_jpg</td>\n",
       "      <td>[]</td>\n",
       "      <td>nearmap</td>\n",
       "      <td>62703536-c65d-11ec-872f-17927c70f651</td>\n",
       "      <td>nearmap_vertical_jpg</td>\n",
       "      <td>sv2:nearmap_vertical_jpg:62703536-c65d-11ec-87...</td>\n",
       "      <td>2022-04-23 00:00:00+00:00</td>\n",
       "      <td>0</td>\n",
       "      <td>POLYGON ((-116.9079369306564 32.74339015941727...</td>\n",
       "      <td>False</td>\n",
       "    </tr>\n",
       "    <tr>\n",
       "      <th>1</th>\n",
       "      <td>1632268</td>\n",
       "      <td>f50fad96-f307-11ec-b419-775e2f160185</td>\n",
       "      <td>2022-06-17 00:00:00+00:00</td>\n",
       "      <td>2022-06-23 15:20:04+00:00</td>\n",
       "      <td>2022-06-24 06:03:21.100204+00:00</td>\n",
       "      <td>2022-06-24 06:03:21.449205+00:00</td>\n",
       "      <td>None</td>\n",
       "      <td>None</td>\n",
       "      <td>nearmap_vertical_jpg</td>\n",
       "      <td>[]</td>\n",
       "      <td>nearmap</td>\n",
       "      <td>f50fad96-f307-11ec-b419-775e2f160185</td>\n",
       "      <td>nearmap_vertical_jpg</td>\n",
       "      <td>sv2:nearmap_vertical_jpg:f50fad96-f307-11ec-b4...</td>\n",
       "      <td>2022-06-17 00:00:00+00:00</td>\n",
       "      <td>1</td>\n",
       "      <td>POLYGON ((-118.010234311223 33.75895535233063,...</td>\n",
       "      <td>False</td>\n",
       "    </tr>\n",
       "  </tbody>\n",
       "</table>\n",
       "</div>"
      ],
      "text/plain": [
       "        id                    provider_survey_id              capture_date  \\\n",
       "0  1631037  62703536-c65d-11ec-872f-17927c70f651 2022-04-23 00:00:00+00:00   \n",
       "1  1632268  f50fad96-f307-11ec-b419-775e2f160185 2022-06-17 00:00:00+00:00   \n",
       "\n",
       "       provider_online_date                cape_capture_date  \\\n",
       "0 2022-04-27 19:08:12+00:00 2022-04-28 06:02:09.478305+00:00   \n",
       "1 2022-06-23 15:20:04+00:00 2022-06-24 06:03:21.100204+00:00   \n",
       "\n",
       "                  cape_online_date org_id org_name         datatype_name  \\\n",
       "0 2022-04-28 06:02:09.832110+00:00   None     None  nearmap_vertical_jpg   \n",
       "1 2022-06-24 06:03:21.449205+00:00   None     None  nearmap_vertical_jpg   \n",
       "\n",
       "  additional_datatype_names provider_name  \\\n",
       "0                        []       nearmap   \n",
       "1                        []       nearmap   \n",
       "\n",
       "                       unique_survey_id requested_datatype_name  \\\n",
       "0  62703536-c65d-11ec-872f-17927c70f651    nearmap_vertical_jpg   \n",
       "1  f50fad96-f307-11ec-b419-775e2f160185    nearmap_vertical_jpg   \n",
       "\n",
       "                                      imagery_source  \\\n",
       "0  sv2:nearmap_vertical_jpg:62703536-c65d-11ec-87...   \n",
       "1  sv2:nearmap_vertical_jpg:f50fad96-f307-11ec-b4...   \n",
       "\n",
       "               imagery_date  geom_id  \\\n",
       "0 2022-04-23 00:00:00+00:00        0   \n",
       "1 2022-06-17 00:00:00+00:00        1   \n",
       "\n",
       "                                            geometry  has_oblique  \n",
       "0  POLYGON ((-116.9079369306564 32.74339015941727...        False  \n",
       "1  POLYGON ((-118.010234311223 33.75895535233063,...        False  "
      ]
     },
     "execution_count": 7,
     "metadata": {},
     "output_type": "execute_result"
    }
   ],
   "source": [
    "df_with_surveys.head(2)"
   ]
  },
  {
   "cell_type": "code",
   "execution_count": 8,
   "id": "e6f917aa-9f96-4b56-8bd5-b076f002c1cd",
   "metadata": {},
   "outputs": [
    {
     "name": "stderr",
     "output_type": "stream",
     "text": [
      "/opt/conda/lib/python3.8/site-packages/pandas/core/generic.py:2606: PerformanceWarning: \n",
      "your performance may suffer as PyTables will pickle object types that it cannot\n",
      "map directly to c-types [inferred_type->mixed,key->block7_values] [items->Index(['provider_survey_id', 'org_id', 'org_name', 'datatype_name',\n",
      "       'additional_datatype_names', 'provider_name', 'unique_survey_id',\n",
      "       'requested_datatype_name', 'imagery_source', 'geometry'],\n",
      "      dtype='object')]\n",
      "\n",
      "  pytables.to_hdf(\n"
     ]
    }
   ],
   "source": [
    "df_with_surveys.to_hdf(\"with_surveys.hdf\", key=\"surveys\")"
   ]
  },
  {
   "cell_type": "code",
   "execution_count": 19,
   "id": "4bdc8855-32a6-4c16-9dac-01d707d8c24c",
   "metadata": {},
   "outputs": [],
   "source": [
    "df_with_surveys = pd.read_hdf(\"with_surveys.hdf\")"
   ]
  },
  {
   "cell_type": "code",
   "execution_count": 27,
   "id": "0eccaf74-1a10-448d-a69f-bb3f3b92dadc",
   "metadata": {},
   "outputs": [
    {
     "data": {
      "text/html": [
       "<div>\n",
       "<style scoped>\n",
       "    .dataframe tbody tr th:only-of-type {\n",
       "        vertical-align: middle;\n",
       "    }\n",
       "\n",
       "    .dataframe tbody tr th {\n",
       "        vertical-align: top;\n",
       "    }\n",
       "\n",
       "    .dataframe thead th {\n",
       "        text-align: right;\n",
       "    }\n",
       "</style>\n",
       "<table border=\"1\" class=\"dataframe\">\n",
       "  <thead>\n",
       "    <tr style=\"text-align: right;\">\n",
       "      <th></th>\n",
       "      <th>rcr</th>\n",
       "      <th>lon</th>\n",
       "      <th>lat</th>\n",
       "      <th>geometry</th>\n",
       "      <th>group</th>\n",
       "    </tr>\n",
       "  </thead>\n",
       "  <tbody>\n",
       "    <tr>\n",
       "      <th>0</th>\n",
       "      <td>-2</td>\n",
       "      <td>-116.907815</td>\n",
       "      <td>32.743351</td>\n",
       "      <td>POLYGON ((-116.90794 32.74339, -116.90794 32.7...</td>\n",
       "      <td>1</td>\n",
       "    </tr>\n",
       "    <tr>\n",
       "      <th>1</th>\n",
       "      <td>-2</td>\n",
       "      <td>-118.010182</td>\n",
       "      <td>33.758540</td>\n",
       "      <td>POLYGON ((-118.01023 33.75896, -118.01029 33.7...</td>\n",
       "      <td>1</td>\n",
       "    </tr>\n",
       "  </tbody>\n",
       "</table>\n",
       "</div>"
      ],
      "text/plain": [
       "  rcr         lon        lat  \\\n",
       "0  -2 -116.907815  32.743351   \n",
       "1  -2 -118.010182  33.758540   \n",
       "\n",
       "                                            geometry  group  \n",
       "0  POLYGON ((-116.90794 32.74339, -116.90794 32.7...      1  \n",
       "1  POLYGON ((-118.01023 33.75896, -118.01029 33.7...      1  "
      ]
     },
     "execution_count": 27,
     "metadata": {},
     "output_type": "execute_result"
    }
   ],
   "source": [
    "gdf.head(2)"
   ]
  },
  {
   "cell_type": "code",
   "execution_count": 22,
   "id": "ff2d1b82-e76c-43f3-acaa-6b8670562038",
   "metadata": {},
   "outputs": [
    {
     "data": {
      "text/html": [
       "<div>\n",
       "<style scoped>\n",
       "    .dataframe tbody tr th:only-of-type {\n",
       "        vertical-align: middle;\n",
       "    }\n",
       "\n",
       "    .dataframe tbody tr th {\n",
       "        vertical-align: top;\n",
       "    }\n",
       "\n",
       "    .dataframe thead th {\n",
       "        text-align: right;\n",
       "    }\n",
       "</style>\n",
       "<table border=\"1\" class=\"dataframe\">\n",
       "  <thead>\n",
       "    <tr style=\"text-align: right;\">\n",
       "      <th></th>\n",
       "      <th>id</th>\n",
       "      <th>provider_survey_id</th>\n",
       "      <th>capture_date</th>\n",
       "      <th>provider_online_date</th>\n",
       "      <th>cape_capture_date</th>\n",
       "      <th>cape_online_date</th>\n",
       "      <th>org_id</th>\n",
       "      <th>org_name</th>\n",
       "      <th>datatype_name</th>\n",
       "      <th>additional_datatype_names</th>\n",
       "      <th>provider_name</th>\n",
       "      <th>unique_survey_id</th>\n",
       "      <th>requested_datatype_name</th>\n",
       "      <th>imagery_source</th>\n",
       "      <th>imagery_date</th>\n",
       "      <th>geom_id</th>\n",
       "      <th>geometry</th>\n",
       "      <th>has_oblique</th>\n",
       "    </tr>\n",
       "  </thead>\n",
       "  <tbody>\n",
       "    <tr>\n",
       "      <th>0</th>\n",
       "      <td>1631037</td>\n",
       "      <td>62703536-c65d-11ec-872f-17927c70f651</td>\n",
       "      <td>2022-04-23 00:00:00+00:00</td>\n",
       "      <td>2022-04-27 19:08:12+00:00</td>\n",
       "      <td>2022-04-28 06:02:09.478305+00:00</td>\n",
       "      <td>2022-04-28 06:02:09.832110+00:00</td>\n",
       "      <td>None</td>\n",
       "      <td>None</td>\n",
       "      <td>nearmap_vertical_jpg</td>\n",
       "      <td>[]</td>\n",
       "      <td>nearmap</td>\n",
       "      <td>62703536-c65d-11ec-872f-17927c70f651</td>\n",
       "      <td>nearmap_vertical_jpg</td>\n",
       "      <td>sv2:nearmap_vertical_jpg:62703536-c65d-11ec-87...</td>\n",
       "      <td>2022-04-23 00:00:00+00:00</td>\n",
       "      <td>0</td>\n",
       "      <td>POLYGON ((-116.9079369306564 32.74339015941727...</td>\n",
       "      <td>False</td>\n",
       "    </tr>\n",
       "    <tr>\n",
       "      <th>1</th>\n",
       "      <td>1632268</td>\n",
       "      <td>f50fad96-f307-11ec-b419-775e2f160185</td>\n",
       "      <td>2022-06-17 00:00:00+00:00</td>\n",
       "      <td>2022-06-23 15:20:04+00:00</td>\n",
       "      <td>2022-06-24 06:03:21.100204+00:00</td>\n",
       "      <td>2022-06-24 06:03:21.449205+00:00</td>\n",
       "      <td>None</td>\n",
       "      <td>None</td>\n",
       "      <td>nearmap_vertical_jpg</td>\n",
       "      <td>[]</td>\n",
       "      <td>nearmap</td>\n",
       "      <td>f50fad96-f307-11ec-b419-775e2f160185</td>\n",
       "      <td>nearmap_vertical_jpg</td>\n",
       "      <td>sv2:nearmap_vertical_jpg:f50fad96-f307-11ec-b4...</td>\n",
       "      <td>2022-06-17 00:00:00+00:00</td>\n",
       "      <td>1</td>\n",
       "      <td>POLYGON ((-118.010234311223 33.75895535233063,...</td>\n",
       "      <td>False</td>\n",
       "    </tr>\n",
       "  </tbody>\n",
       "</table>\n",
       "</div>"
      ],
      "text/plain": [
       "        id                    provider_survey_id              capture_date  \\\n",
       "0  1631037  62703536-c65d-11ec-872f-17927c70f651 2022-04-23 00:00:00+00:00   \n",
       "1  1632268  f50fad96-f307-11ec-b419-775e2f160185 2022-06-17 00:00:00+00:00   \n",
       "\n",
       "       provider_online_date                cape_capture_date  \\\n",
       "0 2022-04-27 19:08:12+00:00 2022-04-28 06:02:09.478305+00:00   \n",
       "1 2022-06-23 15:20:04+00:00 2022-06-24 06:03:21.100204+00:00   \n",
       "\n",
       "                  cape_online_date org_id org_name         datatype_name  \\\n",
       "0 2022-04-28 06:02:09.832110+00:00   None     None  nearmap_vertical_jpg   \n",
       "1 2022-06-24 06:03:21.449205+00:00   None     None  nearmap_vertical_jpg   \n",
       "\n",
       "  additional_datatype_names provider_name  \\\n",
       "0                        []       nearmap   \n",
       "1                        []       nearmap   \n",
       "\n",
       "                       unique_survey_id requested_datatype_name  \\\n",
       "0  62703536-c65d-11ec-872f-17927c70f651    nearmap_vertical_jpg   \n",
       "1  f50fad96-f307-11ec-b419-775e2f160185    nearmap_vertical_jpg   \n",
       "\n",
       "                                      imagery_source  \\\n",
       "0  sv2:nearmap_vertical_jpg:62703536-c65d-11ec-87...   \n",
       "1  sv2:nearmap_vertical_jpg:f50fad96-f307-11ec-b4...   \n",
       "\n",
       "               imagery_date  geom_id  \\\n",
       "0 2022-04-23 00:00:00+00:00        0   \n",
       "1 2022-06-17 00:00:00+00:00        1   \n",
       "\n",
       "                                            geometry  has_oblique  \n",
       "0  POLYGON ((-116.9079369306564 32.74339015941727...        False  \n",
       "1  POLYGON ((-118.010234311223 33.75895535233063,...        False  "
      ]
     },
     "execution_count": 22,
     "metadata": {},
     "output_type": "execute_result"
    }
   ],
   "source": [
    "df_with_surveys.head(2)"
   ]
  },
  {
   "cell_type": "code",
   "execution_count": 23,
   "id": "8bb8d0c5-1443-4ed3-8a5f-f7ab4d32ff18",
   "metadata": {},
   "outputs": [
    {
     "data": {
      "text/plain": [
       "(2197945, 3)"
      ]
     },
     "execution_count": 23,
     "metadata": {},
     "output_type": "execute_result"
    }
   ],
   "source": [
    "df.shape"
   ]
  },
  {
   "cell_type": "code",
   "execution_count": 29,
   "id": "b60b5ccb-8d53-42b8-b6d8-d52076618af9",
   "metadata": {},
   "outputs": [],
   "source": [
    "gdf['geom_wkb'] = gdf['geometry'].apply(shapely_to_wkb)"
   ]
  },
  {
   "cell_type": "code",
   "execution_count": 25,
   "id": "7e4235f4-5169-4d28-bc15-2b788e25a3e8",
   "metadata": {},
   "outputs": [],
   "source": [
    "df_with_surveys['geom_wkb'] = df_with_surveys['geometry'].apply(shapely_to_wkb)"
   ]
  },
  {
   "cell_type": "code",
   "execution_count": 30,
   "id": "5c1539c7-59cf-4e8d-9e6a-9e3540d0f85f",
   "metadata": {},
   "outputs": [
    {
     "data": {
      "text/html": [
       "<div>\n",
       "<style scoped>\n",
       "    .dataframe tbody tr th:only-of-type {\n",
       "        vertical-align: middle;\n",
       "    }\n",
       "\n",
       "    .dataframe tbody tr th {\n",
       "        vertical-align: top;\n",
       "    }\n",
       "\n",
       "    .dataframe thead th {\n",
       "        text-align: right;\n",
       "    }\n",
       "</style>\n",
       "<table border=\"1\" class=\"dataframe\">\n",
       "  <thead>\n",
       "    <tr style=\"text-align: right;\">\n",
       "      <th></th>\n",
       "      <th>rcr</th>\n",
       "      <th>lon</th>\n",
       "      <th>lat</th>\n",
       "      <th>geometry_x</th>\n",
       "      <th>group</th>\n",
       "      <th>geom_wkb</th>\n",
       "      <th>imagery_source</th>\n",
       "      <th>imagery_date</th>\n",
       "      <th>geometry_y</th>\n",
       "      <th>geom_id</th>\n",
       "    </tr>\n",
       "  </thead>\n",
       "  <tbody>\n",
       "    <tr>\n",
       "      <th>0</th>\n",
       "      <td>-2</td>\n",
       "      <td>-116.907815</td>\n",
       "      <td>32.743351</td>\n",
       "      <td>POLYGON ((-116.90794 32.74339, -116.90794 32.7...</td>\n",
       "      <td>1</td>\n",
       "      <td>b'\\x01\\x03\\x00\\x00\\x00\\x01\\x00\\x00\\x00%\\x00\\x0...</td>\n",
       "      <td>sv2:nearmap_vertical_jpg:62703536-c65d-11ec-87...</td>\n",
       "      <td>2022-04-23 00:00:00+00:00</td>\n",
       "      <td>POLYGON ((-116.9079369306564 32.74339015941727...</td>\n",
       "      <td>0</td>\n",
       "    </tr>\n",
       "    <tr>\n",
       "      <th>1</th>\n",
       "      <td>-2</td>\n",
       "      <td>-118.010182</td>\n",
       "      <td>33.758540</td>\n",
       "      <td>POLYGON ((-118.01023 33.75896, -118.01029 33.7...</td>\n",
       "      <td>1</td>\n",
       "      <td>b'\\x01\\x03\\x00\\x00\\x00\\x04\\x00\\x00\\x00\\xa0\\x00...</td>\n",
       "      <td>sv2:nearmap_vertical_jpg:f50fad96-f307-11ec-b4...</td>\n",
       "      <td>2022-06-17 00:00:00+00:00</td>\n",
       "      <td>POLYGON ((-118.010234311223 33.75895535233063,...</td>\n",
       "      <td>1</td>\n",
       "    </tr>\n",
       "  </tbody>\n",
       "</table>\n",
       "</div>"
      ],
      "text/plain": [
       "  rcr         lon        lat  \\\n",
       "0  -2 -116.907815  32.743351   \n",
       "1  -2 -118.010182  33.758540   \n",
       "\n",
       "                                          geometry_x  group  \\\n",
       "0  POLYGON ((-116.90794 32.74339, -116.90794 32.7...      1   \n",
       "1  POLYGON ((-118.01023 33.75896, -118.01029 33.7...      1   \n",
       "\n",
       "                                            geom_wkb  \\\n",
       "0  b'\\x01\\x03\\x00\\x00\\x00\\x01\\x00\\x00\\x00%\\x00\\x0...   \n",
       "1  b'\\x01\\x03\\x00\\x00\\x00\\x04\\x00\\x00\\x00\\xa0\\x00...   \n",
       "\n",
       "                                      imagery_source  \\\n",
       "0  sv2:nearmap_vertical_jpg:62703536-c65d-11ec-87...   \n",
       "1  sv2:nearmap_vertical_jpg:f50fad96-f307-11ec-b4...   \n",
       "\n",
       "               imagery_date  \\\n",
       "0 2022-04-23 00:00:00+00:00   \n",
       "1 2022-06-17 00:00:00+00:00   \n",
       "\n",
       "                                          geometry_y  geom_id  \n",
       "0  POLYGON ((-116.9079369306564 32.74339015941727...        0  \n",
       "1  POLYGON ((-118.010234311223 33.75895535233063,...        1  "
      ]
     },
     "execution_count": 30,
     "metadata": {},
     "output_type": "execute_result"
    }
   ],
   "source": [
    "merged = gdf.merge(df_with_surveys[['imagery_source', 'imagery_date', 'geometry', 'geom_id', 'geom_wkb']], on='geom_wkb')\n",
    "merged.head(2)"
   ]
  },
  {
   "cell_type": "code",
   "execution_count": 31,
   "id": "3c219529-1444-47c4-bf14-f08b0efd291f",
   "metadata": {},
   "outputs": [],
   "source": [
    "merged['geometry'] = merged['geom_wkb']"
   ]
  },
  {
   "cell_type": "code",
   "execution_count": 35,
   "id": "81900ab5-8eeb-4c04-9380-9664ea79c4d0",
   "metadata": {},
   "outputs": [
    {
     "data": {
      "text/plain": [
       "poor         787001\n",
       "severe       678294\n",
       "good         196194\n",
       "fair         194918\n",
       "excellent    190006\n",
       "unknown      151530\n",
       "Name: geometry_labels, dtype: int64"
      ]
     },
     "execution_count": 35,
     "metadata": {},
     "output_type": "execute_result"
    }
   ],
   "source": [
    "# Go from the Vinyasa/flow taxonomy -2, -1, 0, 1, 2, unknown to the\n",
    "# product taxonomy severe, poor, fair, good, excellent, unknown\n",
    "merged['geometry_labels'] = merged['rcr'].replace(\n",
    "    {\n",
    "        '-2': 'severe',\n",
    "        '-1': 'poor',\n",
    "        '0': 'fair',\n",
    "        '1': 'good',\n",
    "        '2': 'excellent',\n",
    "        'unknown': 'unknown'\n",
    "    }\n",
    ")\n",
    "merged['geometry_labels'].value_counts()"
   ]
  },
  {
   "cell_type": "code",
   "execution_count": 36,
   "id": "fda8f4e7-d809-415a-bed6-73c2f988c036",
   "metadata": {},
   "outputs": [],
   "source": [
    "merged['geometry_id'] = merged['geom_id']"
   ]
  },
  {
   "cell_type": "code",
   "execution_count": 37,
   "id": "79eac1f5-c95c-41c5-bdf5-827a69600fc8",
   "metadata": {},
   "outputs": [],
   "source": [
    "col_to_keep = [\n",
    "    'geometry_labels',\n",
    "    'imagery_source',\n",
    "    'imagery_date',\n",
    "    'geometry_id',\n",
    "    'geometry'\n",
    "]\n",
    "\n",
    "merged = merged[col_to_keep]"
   ]
  },
  {
   "cell_type": "code",
   "execution_count": 38,
   "id": "1fff257b-71d3-4ba2-9e1b-04f78ca59c3b",
   "metadata": {},
   "outputs": [
    {
     "data": {
      "text/plain": [
       "(2197943, 5)"
      ]
     },
     "execution_count": 38,
     "metadata": {},
     "output_type": "execute_result"
    }
   ],
   "source": [
    "merged.shape"
   ]
  },
  {
   "cell_type": "code",
   "execution_count": 39,
   "id": "b2b7e011-fbb7-4257-beb7-f3eb1c05d68e",
   "metadata": {},
   "outputs": [],
   "source": [
    "del df\n",
    "del df_with_surveys"
   ]
  },
  {
   "cell_type": "code",
   "execution_count": 40,
   "id": "eec78f20-1ec3-45aa-af03-8518079d3390",
   "metadata": {},
   "outputs": [
    {
     "data": {
      "text/plain": [
       "5120"
      ]
     },
     "execution_count": 40,
     "metadata": {},
     "output_type": "execute_result"
    }
   ],
   "source": [
    "import gc\n",
    "gc.collect()"
   ]
  },
  {
   "cell_type": "code",
   "execution_count": 41,
   "id": "c32286a1-148d-4630-9a0f-8f6706be97f0",
   "metadata": {},
   "outputs": [
    {
     "data": {
      "text/plain": [
       "(2197943, 5)"
      ]
     },
     "execution_count": 41,
     "metadata": {},
     "output_type": "execute_result"
    }
   ],
   "source": [
    "merged.drop_duplicates().shape"
   ]
  },
  {
   "cell_type": "code",
   "execution_count": 42,
   "id": "10c844a4-8def-4123-a9cd-52be75d4cf7d",
   "metadata": {},
   "outputs": [],
   "source": [
    "md = MetaData(\n",
    "    author=\"Giacomo Vianello\",\n",
    "    project=\"dinov2\",\n",
    "    description=\"A lot of roofs stratified by RCR value (with -2 being twice as prevalent). Pseudo labels from RCRv4 from project explorer v3\",\n",
    "    ticket_number=\"ML-000\",\n",
    "    scope=\"train\",\n",
    "    geometry_taxonomy=\"roof @ 1.0: ground_truth\",\n",
    "    label_taxonomy=\"roof_condition_rating @ 4.0: product # roof_condition_rating\",\n",
    "    origin=CustomOrigin(\"https://capeanalytics.atlassian.net/wiki/spaces/CVML/pages/3035595064/Stratified+RCR+dataset\")\n",
    ")"
   ]
  },
  {
   "cell_type": "code",
   "execution_count": 43,
   "id": "7d517db0-366e-4e57-8aea-e154b78e28c7",
   "metadata": {},
   "outputs": [],
   "source": [
    "gls = GeomLabelSet.from_pandas(md, merged[col_to_keep])"
   ]
  },
  {
   "cell_type": "code",
   "execution_count": 44,
   "id": "0bb69c5e-daef-4138-8954-24820622d8f6",
   "metadata": {},
   "outputs": [
    {
     "name": "stdout",
     "output_type": "stream",
     "text": [
      "20/09/2023 07:25:35 INFO data_science_tools.data_sources.cloud_storage: Cloud file gs://cape-ml-mnemonics/v3/ground_truth/dinov2/rcr_lots_of_severe_2M.json has been deleted.\n",
      "20/09/2023 07:25:35 INFO data_science_tools.data_sources.cloud_storage: Cloud file gs://cape-ml-mnemonics/v3/ground_truth/dinov2/rcr_lots_of_severe_2M.parquet has been deleted.\n",
      "20/09/2023 07:25:43 INFO data_science_tools.data_sources.cloud_storage: Local file /tmp/tmpkmuvnq3r/rcr_lots_of_severe_2M.json has been uploaded into gs://cape-ml-mnemonics/v3/ground_truth/dinov2/rcr_lots_of_severe_2M.json.\n",
      "20/09/2023 07:25:52 INFO data_science_tools.data_sources.cloud_storage: Local file /tmp/tmpkmuvnq3r/rcr_lots_of_severe_2M.parquet has been uploaded into gs://cape-ml-mnemonics/v3/ground_truth/dinov2/rcr_lots_of_severe_2M.parquet.\n"
     ]
    },
    {
     "data": {
      "text/plain": [
       "('gs://cape-ml-mnemonics/v3/ground_truth/dinov2/rcr_lots_of_severe_2M.json',\n",
       " 'gs://cape-ml-mnemonics/v3/ground_truth/dinov2/rcr_lots_of_severe_2M.parquet')"
      ]
     },
     "execution_count": 44,
     "metadata": {},
     "output_type": "execute_result"
    }
   ],
   "source": [
    "gls.upload_to_data_repo(\"dinov2/rcr_lots_of_severe_2M\", overwrite=True)"
   ]
  },
  {
   "cell_type": "code",
   "execution_count": null,
   "id": "e5dab531-dc93-4c57-a452-6eae8d82e9ef",
   "metadata": {},
   "outputs": [],
   "source": []
  }
 ],
 "metadata": {
  "kernelspec": {
   "display_name": "Python 3 (ipykernel)",
   "language": "python",
   "name": "python3"
  },
  "language_info": {
   "codemirror_mode": {
    "name": "ipython",
    "version": 3
   },
   "file_extension": ".py",
   "mimetype": "text/x-python",
   "name": "python",
   "nbconvert_exporter": "python",
   "pygments_lexer": "ipython3",
   "version": "3.8.17"
  }
 },
 "nbformat": 4,
 "nbformat_minor": 5
}
