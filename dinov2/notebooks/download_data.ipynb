{
 "cells": [
  {
   "cell_type": "code",
   "execution_count": 1,
   "id": "f310d5cd",
   "metadata": {},
   "outputs": [],
   "source": [
    "# !wget https://github.com/peak/s5cmd/releases/download/v2.1.0/s5cmd_2.1.0_Linux-64bit.tar.gz"
   ]
  },
  {
   "cell_type": "code",
   "execution_count": 2,
   "id": "72e97ae5",
   "metadata": {},
   "outputs": [
    {
     "name": "stdout",
     "output_type": "stream",
     "text": [
      "CHANGELOG.md\n",
      "LICENSE\n",
      "README.md\n",
      "s5cmd\n"
     ]
    }
   ],
   "source": [
    "!tar zxvf s5cmd_2.1.0_Linux-64bit.tar.gz"
   ]
  },
  {
   "cell_type": "code",
   "execution_count": 3,
   "id": "91d79766",
   "metadata": {},
   "outputs": [
    {
     "name": "stdout",
     "output_type": "stream",
     "text": [
      "/cnvrg/dinov2/notebooks:/usr/local/lib/python3.10/dist-packages/torch_tensorrt/bin:/usr/local/mpi/bin:/usr/local/nvidia/bin:/usr/local/cuda/bin:/usr/local/sbin:/usr/local/bin:/usr/sbin:/usr/bin:/sbin:/bin:/usr/local/ucx/bin:/opt/tensorrt/bin\n"
     ]
    }
   ],
   "source": [
    "import os\n",
    "os.environ['PATH'] = f\"{os.getcwd()}:{os.environ.get('PATH', '')}\"\n",
    "print(os.environ['PATH'])"
   ]
  },
  {
   "cell_type": "code",
   "execution_count": 5,
   "id": "6faea8e9",
   "metadata": {},
   "outputs": [
    {
     "name": "stdout",
     "output_type": "stream",
     "text": [
      "Cloning into 'tldr'...\n",
      "remote: Enumerating objects: 429, done.\u001b[K\n",
      "remote: Counting objects: 100% (429/429), done.\u001b[K\n",
      "remote: Compressing objects: 100% (269/269), done.\u001b[K\n",
      "remote: Total 429 (delta 230), reused 323 (delta 133), pack-reused 0\u001b[K\n",
      "Receiving objects: 100% (429/429), 124.98 KiB | 8.33 MiB/s, done.\n",
      "Resolving deltas: 100% (230/230), done.\n"
     ]
    }
   ],
   "source": [
    "!git clone https://github.com/giacomov/tldr.git"
   ]
  },
  {
   "cell_type": "code",
   "execution_count": 6,
   "id": "e0c3506c",
   "metadata": {},
   "outputs": [
    {
     "name": "stdout",
     "output_type": "stream",
     "text": [
      "Looking in indexes: https://pypi.org/simple, https://pypi.ngc.nvidia.com\n",
      "Processing ./tldr\n",
      "\u001b[33m  DEPRECATION: A future pip version will change local packages to be built in-place without first copying to a temporary directory. We recommend you use --use-feature=in-tree-build to test your packages with this new behavior before it becomes the default.\n",
      "   pip 21.3 will remove support for this functionality. You can find discussion regarding this at https://github.com/pypa/pip/issues/7555.\u001b[0m\n",
      "Requirement already satisfied: typer in /usr/local/lib/python3.10/dist-packages (from tldr==0.0.1) (0.7.0)\n",
      "Collecting docstring_parser\n",
      "  Downloading docstring_parser-0.15-py3-none-any.whl (36 kB)\n",
      "Collecting dynaconf\n",
      "  Downloading dynaconf-3.2.0-py2.py3-none-any.whl (224 kB)\n",
      "\u001b[K     |████████████████████████████████| 224 kB 7.7 MB/s eta 0:00:01\n",
      "\u001b[?25hRequirement already satisfied: jinja2 in /usr/local/lib/python3.10/dist-packages (from tldr==0.0.1) (3.1.2)\n",
      "Collecting GitPython\n",
      "  Downloading GitPython-3.1.32-py3-none-any.whl (188 kB)\n",
      "\u001b[K     |████████████████████████████████| 188 kB 14.3 MB/s eta 0:00:01\n",
      "\u001b[?25hCollecting kubernetes\n",
      "  Downloading kubernetes-27.2.0-py2.py3-none-any.whl (1.5 MB)\n",
      "\u001b[K     |████████████████████████████████| 1.5 MB 16.2 MB/s eta 0:00:01\n",
      "\u001b[?25hRequirement already satisfied: pyyaml in /usr/local/lib/python3.10/dist-packages (from tldr==0.0.1) (6.0)\n",
      "Collecting art\n",
      "  Downloading art-6.0-py3-none-any.whl (599 kB)\n",
      "\u001b[K     |████████████████████████████████| 599 kB 46.2 MB/s eta 0:00:01\n",
      "\u001b[?25hRequirement already satisfied: tabulate in /usr/local/lib/python3.10/dist-packages (from tldr==0.0.1) (0.9.0)\n",
      "Requirement already satisfied: argon2-cffi in /usr/local/lib/python3.10/dist-packages (from tldr==0.0.1) (21.3.0)\n",
      "Requirement already satisfied: toml in /usr/local/lib/python3.10/dist-packages (from tldr==0.0.1) (0.10.2)\n",
      "Requirement already satisfied: argon2-cffi-bindings in /usr/local/lib/python3.10/dist-packages (from argon2-cffi->tldr==0.0.1) (21.2.0)\n",
      "Requirement already satisfied: cffi>=1.0.1 in /usr/local/lib/python3.10/dist-packages (from argon2-cffi-bindings->argon2-cffi->tldr==0.0.1) (1.15.1)\n",
      "Requirement already satisfied: pycparser in /usr/local/lib/python3.10/dist-packages (from cffi>=1.0.1->argon2-cffi-bindings->argon2-cffi->tldr==0.0.1) (2.21)\n",
      "Collecting gitdb<5,>=4.0.1\n",
      "  Downloading gitdb-4.0.10-py3-none-any.whl (62 kB)\n",
      "\u001b[K     |████████████████████████████████| 62 kB 72.5 MB/s eta 0:00:011\n",
      "\u001b[?25hCollecting smmap<6,>=3.0.1\n",
      "  Downloading smmap-5.0.0-py3-none-any.whl (24 kB)\n",
      "Requirement already satisfied: MarkupSafe>=2.0 in /usr/local/lib/python3.10/dist-packages (from jinja2->tldr==0.0.1) (2.1.3)\n",
      "Requirement already satisfied: six>=1.9.0 in /usr/local/lib/python3.10/dist-packages (from kubernetes->tldr==0.0.1) (1.16.0)\n",
      "Collecting websocket-client!=0.40.0,!=0.41.*,!=0.42.*,>=0.32.0\n",
      "  Downloading websocket_client-1.6.1-py3-none-any.whl (56 kB)\n",
      "\u001b[K     |████████████████████████████████| 56 kB 105.9 MB/s ta 0:00:011\n",
      "\u001b[?25hRequirement already satisfied: google-auth>=1.0.1 in /usr/local/lib/python3.10/dist-packages (from kubernetes->tldr==0.0.1) (2.20.0)\n",
      "Requirement already satisfied: urllib3>=1.24.2 in /usr/local/lib/python3.10/dist-packages (from kubernetes->tldr==0.0.1) (1.25.11)\n",
      "Requirement already satisfied: python-dateutil>=2.5.3 in /usr/local/lib/python3.10/dist-packages (from kubernetes->tldr==0.0.1) (2.8.2)\n",
      "Requirement already satisfied: requests-oauthlib in /usr/local/lib/python3.10/dist-packages (from kubernetes->tldr==0.0.1) (1.3.1)\n",
      "Requirement already satisfied: requests in /usr/local/lib/python3.10/dist-packages (from kubernetes->tldr==0.0.1) (2.23.0)\n",
      "Requirement already satisfied: oauthlib>=3.2.2 in /usr/local/lib/python3.10/dist-packages (from kubernetes->tldr==0.0.1) (3.2.2)\n",
      "Requirement already satisfied: certifi>=14.05.14 in /usr/local/lib/python3.10/dist-packages (from kubernetes->tldr==0.0.1) (2023.5.7)\n",
      "Requirement already satisfied: rsa<5,>=3.1.4 in /usr/local/lib/python3.10/dist-packages (from google-auth>=1.0.1->kubernetes->tldr==0.0.1) (4.9)\n",
      "Requirement already satisfied: pyasn1-modules>=0.2.1 in /usr/local/lib/python3.10/dist-packages (from google-auth>=1.0.1->kubernetes->tldr==0.0.1) (0.3.0)\n",
      "Requirement already satisfied: cachetools<6.0,>=2.0.0 in /usr/local/lib/python3.10/dist-packages (from google-auth>=1.0.1->kubernetes->tldr==0.0.1) (5.3.1)\n",
      "Requirement already satisfied: pyasn1<0.6.0,>=0.4.6 in /usr/local/lib/python3.10/dist-packages (from pyasn1-modules>=0.2.1->google-auth>=1.0.1->kubernetes->tldr==0.0.1) (0.5.0)\n",
      "Requirement already satisfied: idna<3,>=2.5 in /usr/local/lib/python3.10/dist-packages (from requests->kubernetes->tldr==0.0.1) (2.10)\n",
      "Requirement already satisfied: chardet<4,>=3.0.2 in /usr/local/lib/python3.10/dist-packages (from requests->kubernetes->tldr==0.0.1) (3.0.4)\n",
      "Requirement already satisfied: click<9.0.0,>=7.1.1 in /usr/local/lib/python3.10/dist-packages (from typer->tldr==0.0.1) (8.1.3)\n",
      "Building wheels for collected packages: tldr\n",
      "  Building wheel for tldr (setup.py) ... \u001b[?25ldone\n",
      "\u001b[?25h  Created wheel for tldr: filename=tldr-0.0.1-py3-none-any.whl size=52018 sha256=79ee5dac6d27babc9f11c9ac175498ef16892deba438aa5e43b22f3a0f759666\n",
      "  Stored in directory: /tmp/pip-ephem-wheel-cache-0361j1rc/wheels/43/5a/6c/2ff3753179aa589861b2fa021253380d0bc824dc8c14592e63\n",
      "Successfully built tldr\n",
      "Installing collected packages: smmap, websocket-client, gitdb, kubernetes, GitPython, dynaconf, docstring-parser, art, tldr\n",
      "Successfully installed GitPython-3.1.32 art-6.0 docstring-parser-0.15 dynaconf-3.2.0 gitdb-4.0.10 kubernetes-27.2.0 smmap-5.0.0 tldr-0.0.1 websocket-client-1.6.1\n",
      "\u001b[33mWARNING: Running pip as the 'root' user can result in broken permissions and conflicting behaviour with the system package manager. It is recommended to use a virtual environment instead: https://pip.pypa.io/warnings/venv\u001b[0m\n",
      "\u001b[33mWARNING: You are using pip version 21.2.4; however, version 23.2.1 is available.\n",
      "You should consider upgrading via the '/usr/bin/python -m pip install --upgrade pip' command.\u001b[0m\n",
      "Note: you may need to restart the kernel to use updated packages.\n"
     ]
    }
   ],
   "source": [
    "pip install tldr/"
   ]
  },
  {
   "cell_type": "code",
   "execution_count": 7,
   "id": "a2e21aff",
   "metadata": {},
   "outputs": [],
   "source": [
    "# Make sure you create /root/.aws/credentials\n",
    "# with the following content:\n",
    "# [default]\n",
    "# aws_access_key_id = [your key]\n",
    "# aws_secret_access_key = [your secret]"
   ]
  },
  {
   "cell_type": "code",
   "execution_count": 8,
   "id": "eed88b0f",
   "metadata": {},
   "outputs": [
    {
     "name": "stderr",
     "output_type": "stream",
     "text": [
      "2023-08-02 19:23:45,402 Listing existing versions\n",
      "2023-08-02 19:23:46,082 done\n",
      "2023-08-02 19:23:46,083 Current version is v2\n",
      "2023-08-02 19:23:46,083 Reading remote version file\n",
      "2023-08-02 19:23:50,034 done\n",
      "2023-08-02 19:23:50,689 Downloading 105220 files\n",
      "2023-08-02 19:24:05,691 Processed 13867 files in 15.00 s\n",
      "2023-08-02 19:24:20,693 Processed 29889 files in 30.00 s\n",
      "2023-08-02 19:24:35,696 Processed 44839 files in 45.01 s\n",
      "2023-08-02 19:24:50,696 Processed 60851 files in 60.01 s\n",
      "2023-08-02 19:25:05,697 Processed 76308 files in 75.01 s\n",
      "2023-08-02 19:25:20,699 Processed 92325 files in 90.01 s\n",
      "2023-08-02 19:25:32,636 Completed 105221 files in 101.95 s\n"
     ]
    }
   ],
   "source": [
    "import os\n",
    "import sys\n",
    "\n",
    "os.environ['TLDR_DATA_STORAGE_URL'] = 's3://cape-data-east/datascience_storage/tldr-datasets'\n",
    "os.environ['TLDR_SECRET_NAME'] = 'useless'\n",
    "os.environ['NEPTUNE_API_TOKEN'] = 'useless'\n",
    "os.environ['TLDR_LOG_LEVEL'] = 'debug'\n",
    "\n",
    "from tldr.dvc.dataset import Dataset\n",
    "\n",
    "ds = Dataset(\"rg_evaluation_imagenet\")\n",
    "ds.clone(path=\"/data\")"
   ]
  },
  {
   "cell_type": "code",
   "execution_count": 9,
   "id": "65915ec2",
   "metadata": {},
   "outputs": [
    {
     "name": "stderr",
     "output_type": "stream",
     "text": [
      "2023-08-02 19:26:01,220 Listing existing versions\n",
      "2023-08-02 19:26:01,662 done\n",
      "2023-08-02 19:26:01,662 Current version is v1\n",
      "2023-08-02 19:26:01,663 Reading remote version file\n",
      "2023-08-02 19:26:08,172 done\n",
      "2023-08-02 19:26:08,713 Downloading 90007 files\n",
      "2023-08-02 19:26:23,715 Processed 13868 files in 15.00 s\n",
      "2023-08-02 19:26:38,716 Processed 29262 files in 30.00 s\n",
      "2023-08-02 19:26:53,719 Processed 44134 files in 45.00 s\n",
      "2023-08-02 19:27:08,720 Processed 59220 files in 60.01 s\n",
      "2023-08-02 19:27:23,720 Processed 74357 files in 75.01 s\n",
      "2023-08-02 19:27:38,721 Processed 89674 files in 90.01 s\n",
      "2023-08-02 19:27:39,738 Completed 90008 files in 91.02 s\n"
     ]
    }
   ],
   "source": [
    "ds = Dataset(\"rcr_evaluation_imagenet\")\n",
    "ds.clone(path=\"/data\")"
   ]
  },
  {
   "cell_type": "code",
   "execution_count": null,
   "id": "978ec37b",
   "metadata": {},
   "outputs": [],
   "source": []
  }
 ],
 "metadata": {
  "kernelspec": {
   "display_name": "Python 3 (ipykernel)",
   "language": "python",
   "name": "python3"
  },
  "language_info": {
   "codemirror_mode": {
    "name": "ipython",
    "version": 3
   },
   "file_extension": ".py",
   "mimetype": "text/x-python",
   "name": "python",
   "nbconvert_exporter": "python",
   "pygments_lexer": "ipython3",
   "version": "3.10.6"
  }
 },
 "nbformat": 4,
 "nbformat_minor": 5
}
