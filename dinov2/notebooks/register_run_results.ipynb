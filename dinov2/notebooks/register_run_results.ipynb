{
 "cells": [
  {
   "cell_type": "code",
   "execution_count": 16,
   "id": "39ea1914",
   "metadata": {},
   "outputs": [],
   "source": [
    "from data_store import DataStore\n",
    "from data_store.data_containers import Experiments, Dataset\n",
    "from data_store.storage import GCSStorage\n",
    "import glob\n",
    "import os\n",
    "import yaml\n",
    "import pandas as pd\n",
    "import glob\n",
    "\n",
    "import nest_asyncio\n",
    "nest_asyncio.apply()"
   ]
  },
  {
   "cell_type": "code",
   "execution_count": 3,
   "id": "e5f44752",
   "metadata": {},
   "outputs": [
    {
     "name": "stdout",
     "output_type": "stream",
     "text": [
      "Populating queue...\n",
      "Download started...\n",
      "queue fully populated. Found 1 files to download\n",
      "Processed 0 files in 5.3 s. In queue: 225\n",
      "Processed 1 files in 10.4 s. In queue: 215\n",
      "Downloaded 1 files in 15.0 s\n"
     ]
    }
   ],
   "source": [
    "# %%\n",
    "\n",
    "\n",
    "gs = GCSStorage(\n",
    "    # endpoint=\"http://0.0.0.0:4443\", \n",
    "    path=f\"gs://cape-ml-projects-data/data_stores\"\n",
    ")\n",
    "ds = DataStore(name=\"dinov2\", storage=gs)"
   ]
  },
  {
   "cell_type": "code",
   "execution_count": 4,
   "id": "5c626a2d",
   "metadata": {},
   "outputs": [
    {
     "name": "stdout",
     "output_type": "stream",
     "text": [
      "Starting upload of 1 files\n",
      "Finished 1 uploads in 15.0 s\n"
     ]
    }
   ],
   "source": [
    "ds['experiments/a100x4'] = Experiments(description=\"Experiments run on a single A100x4 machine\")"
   ]
  },
  {
   "cell_type": "code",
   "execution_count": 5,
   "id": "bcbfd6da",
   "metadata": {},
   "outputs": [],
   "source": [
    "exp = ds['experiments/a100x4']"
   ]
  },
  {
   "cell_type": "code",
   "execution_count": 7,
   "id": "e913463d",
   "metadata": {},
   "outputs": [],
   "source": [
    "with open(\"/data/output/config.yaml\") as fp:\n",
    "    config = yaml.safe_load(fp)"
   ]
  },
  {
   "cell_type": "code",
   "execution_count": 12,
   "id": "cc715825",
   "metadata": {},
   "outputs": [],
   "source": [
    "meta = pd.json_normalize(config).iloc[0].to_dict()"
   ]
  },
  {
   "cell_type": "code",
   "execution_count": 13,
   "id": "4cdc0f14",
   "metadata": {},
   "outputs": [],
   "source": [
    "e = exp.create(experiment_id=\"DIN-121\", description=\"Run on the 2m dataset\", **meta)"
   ]
  },
  {
   "cell_type": "code",
   "execution_count": 21,
   "id": "284155b4",
   "metadata": {},
   "outputs": [
    {
     "name": "stdout",
     "output_type": "stream",
     "text": [
      "Starting upload of 2 files\n",
      "Finished 2 uploads in 15.0 s\n"
     ]
    }
   ],
   "source": [
    "e.upload([\"/data/output/config.yaml\", \"/data/output/training_metrics.json\"], root_path=\"/data/output/\")"
   ]
  },
  {
   "cell_type": "code",
   "execution_count": 15,
   "id": "5ac9a6e5",
   "metadata": {},
   "outputs": [
    {
     "name": "stdout",
     "output_type": "stream",
     "text": [
      "data_stores/dinov2/experiments/a100x4/DIN-121/\n",
      "└── config.yaml\n"
     ]
    }
   ],
   "source": [
    "e.tree()"
   ]
  },
  {
   "cell_type": "code",
   "execution_count": 18,
   "id": "e18d919c",
   "metadata": {},
   "outputs": [
    {
     "name": "stdout",
     "output_type": "stream",
     "text": [
      "Starting upload of 10 files\n",
      "Completed 0/10 uploads in 15.0 s\n",
      "Finished 10 uploads in 30.1 s\n"
     ]
    }
   ],
   "source": [
    "files = [x for x in glob.glob(\"/data/output/eval/**/*\", recursive=True) if os.path.isfile(x)]\n",
    "e.upload(files, root_path=\"/data/output\")"
   ]
  },
  {
   "cell_type": "code",
   "execution_count": 22,
   "id": "9fc6bbd2",
   "metadata": {},
   "outputs": [
    {
     "name": "stdout",
     "output_type": "stream",
     "text": [
      "data_stores/dinov2/experiments/a100x4/DIN-121/\n",
      "├── config.yaml\n",
      "├── training_metrics.json\n",
      "└── eval/\n",
      "    ├── training_112499/\n",
      "    │   └── teacher_checkpoint.pth\n",
      "    ├── training_12499/\n",
      "    │   └── teacher_checkpoint.pth\n",
      "    ├── training_124999/\n",
      "    │   └── teacher_checkpoint.pth\n",
      "    ├── training_24999/\n",
      "    │   └── teacher_checkpoint.pth\n",
      "    ├── training_37499/\n",
      "    │   └── teacher_checkpoint.pth\n",
      "    ├── training_49999/\n",
      "    │   └── teacher_checkpoint.pth\n",
      "    ├── training_62499/\n",
      "    │   └── teacher_checkpoint.pth\n",
      "    ├── training_74999/\n",
      "    │   └── teacher_checkpoint.pth\n",
      "    ├── training_87499/\n",
      "    │   └── teacher_checkpoint.pth\n",
      "    └── training_99999/\n",
      "        └── teacher_checkpoint.pth\n"
     ]
    }
   ],
   "source": [
    "e.tree()"
   ]
  },
  {
   "cell_type": "code",
   "execution_count": null,
   "id": "ee20a050",
   "metadata": {},
   "outputs": [],
   "source": []
  }
 ],
 "metadata": {
  "kernelspec": {
   "display_name": "Python 3 (ipykernel)",
   "language": "python",
   "name": "python3"
  },
  "language_info": {
   "codemirror_mode": {
    "name": "ipython",
    "version": 3
   },
   "file_extension": ".py",
   "mimetype": "text/x-python",
   "name": "python",
   "nbconvert_exporter": "python",
   "pygments_lexer": "ipython3",
   "version": "3.10.6"
  }
 },
 "nbformat": 4,
 "nbformat_minor": 5
}
