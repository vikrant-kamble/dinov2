{
 "cells": [
  {
   "cell_type": "code",
   "execution_count": 2,
   "id": "7ab93e09",
   "metadata": {},
   "outputs": [
    {
     "name": "stdout",
     "output_type": "stream",
     "text": [
      "  Running command git clone -q https://github.com/capeanalytics/data_store /tmp/pip-req-build-nr7j_1_g\n",
      "\u001b[33m  WARNING: Value for prefixed-purelib does not match. Please report this to <https://github.com/pypa/pip/issues/10151>\n",
      "  distutils: /tmp/pip-build-env-rw1yxvbr/normal/lib/python3.10/site-packages\n",
      "  sysconfig: /tmp/pip-build-env-rw1yxvbr/normal/local/lib/python3.10/dist-packages\u001b[0m\n",
      "\u001b[33m  WARNING: Value for prefixed-platlib does not match. Please report this to <https://github.com/pypa/pip/issues/10151>\n",
      "  distutils: /tmp/pip-build-env-rw1yxvbr/normal/lib/python3.10/site-packages\n",
      "  sysconfig: /tmp/pip-build-env-rw1yxvbr/normal/local/lib/python3.10/dist-packages\u001b[0m\n",
      "\u001b[33m  WARNING: Additional context:\n",
      "  user = False\n",
      "  home = None\n",
      "  root = None\n",
      "  prefix = '/tmp/pip-build-env-rw1yxvbr/normal'\u001b[0m\n",
      "\u001b[33m  WARNING: Value for prefixed-purelib does not match. Please report this to <https://github.com/pypa/pip/issues/10151>\n",
      "  distutils: /tmp/pip-build-env-rw1yxvbr/overlay/lib/python3.10/site-packages\n",
      "  sysconfig: /tmp/pip-build-env-rw1yxvbr/overlay/local/lib/python3.10/dist-packages\u001b[0m\n",
      "\u001b[33m  WARNING: Value for prefixed-platlib does not match. Please report this to <https://github.com/pypa/pip/issues/10151>\n",
      "  distutils: /tmp/pip-build-env-rw1yxvbr/overlay/lib/python3.10/site-packages\n",
      "  sysconfig: /tmp/pip-build-env-rw1yxvbr/overlay/local/lib/python3.10/dist-packages\u001b[0m\n",
      "\u001b[33m  WARNING: Additional context:\n",
      "  user = False\n",
      "  home = None\n",
      "  root = None\n",
      "  prefix = '/tmp/pip-build-env-rw1yxvbr/overlay'\u001b[0m\n",
      "\u001b[33mWARNING: Running pip as the 'root' user can result in broken permissions and conflicting behaviour with the system package manager. It is recommended to use a virtual environment instead: https://pip.pypa.io/warnings/venv\u001b[0m\n",
      "\u001b[33mWARNING: You are using pip version 21.2.4; however, version 23.2.1 is available.\n",
      "You should consider upgrading via the '/usr/bin/python -m pip install --upgrade pip' command.\u001b[0m\n"
     ]
    }
   ],
   "source": [
    "!pip install git+https://github.com/capeanalytics/data_store > /dev/null"
   ]
  },
  {
   "cell_type": "code",
   "execution_count": 3,
   "id": "00a05838",
   "metadata": {},
   "outputs": [
    {
     "name": "stderr",
     "output_type": "stream",
     "text": [
      "/usr/local/lib/python3.10/dist-packages/data_store/storage/gcs_utils/bulk_download.py:12: UserWarning: Running in jupyter notebook. Using threads instead of asyncio.If you need to download a large number of files consider running the download in a script.\n",
      "  warnings.warn(\n"
     ]
    }
   ],
   "source": [
    "from data_store import DataStore\n",
    "from data_store.data_containers import Experiments, Dataset\n",
    "from data_store.storage import GCSStorage\n",
    "import glob\n",
    "import os\n",
    "import yaml\n",
    "import pandas as pd\n",
    "import glob\n",
    "\n",
    "import nest_asyncio\n",
    "nest_asyncio.apply()"
   ]
  },
  {
   "cell_type": "code",
   "execution_count": 4,
   "id": "8032841d",
   "metadata": {},
   "outputs": [
    {
     "name": "stdout",
     "output_type": "stream",
     "text": [
      "Populating queue...\n",
      "Download started...\n",
      "Queue fully populated. Found 1 files to download\n",
      "Processed 0 files in 5.2 s. In queue: 225\n",
      "Processed 1 files in 10.2 s. In queue: 186\n",
      "Downloaded 1 files in 13.9 s\n"
     ]
    }
   ],
   "source": [
    "# %%\n",
    "\n",
    "\n",
    "gs = GCSStorage(\n",
    "    # endpoint=\"http://0.0.0.0:4443\", \n",
    "    path=f\"gs://cape-ml-projects-data/data_stores\"\n",
    ")\n",
    "ds = DataStore(name=\"dinov2\", storage=gs)"
   ]
  },
  {
   "cell_type": "code",
   "execution_count": 5,
   "id": "9d044c62",
   "metadata": {},
   "outputs": [
    {
     "name": "stdout",
     "output_type": "stream",
     "text": [
      "Starting upload of 1 files\n",
      "Finished 1 uploads in 15.0 s\n"
     ]
    }
   ],
   "source": [
    "ds['experiments/lightly'] = Experiments(description=\"Experiments using the lightly library\")"
   ]
  },
  {
   "cell_type": "code",
   "execution_count": 6,
   "id": "89aee817",
   "metadata": {},
   "outputs": [],
   "source": [
    "exp = ds['experiments/lightly']"
   ]
  },
  {
   "cell_type": "code",
   "execution_count": 9,
   "id": "88fa5575",
   "metadata": {},
   "outputs": [],
   "source": [
    "meta = dict(\n",
    "    description = \"VicRegL on the RCR 2M dataset\",\n",
    "    max_epochs = 50,\n",
    "    warmup = 10,  # use 20 if epochs is 800 or 10 if epochs is 200\n",
    "    knn_k = 200,\n",
    "    knn_t = 0.1,\n",
    "    classes = 6,\n",
    "    input_size = 224,\n",
    "\n",
    "    # Set to True to enable Distributed Data Parallel training.\n",
    "    distributed = True,\n",
    "\n",
    "    # Set to True to enable Synchronized Batch Norm (requires distributed=True).\n",
    "    # If enabled the batch norm is calculated over all gpus, otherwise the batch\n",
    "    # norm is only calculated from samples on the same gpu.\n",
    "    sync_batchnorm = True,\n",
    "\n",
    "    # Set to True to gather features from all gpus before calculating\n",
    "    # the loss (requires distributed=True).\n",
    "    # If enabled then the loss on every gpu is calculated with features from all\n",
    "    # gpus, otherwise only features from the same gpu are used.\n",
    "    gather_distributed = True,\n",
    "\n",
    "    # benchmark\n",
    "    n_runs = 1,  # optional, increase to create multiple runs and report mean + std\n",
    "    batch_size = 256 * 4,\n",
    "    lr_factor = 256 * 4 / 256  # scales the learning rate linearly with batch size\n",
    ")"
   ]
  },
  {
   "cell_type": "code",
   "execution_count": 10,
   "id": "5f820c2c",
   "metadata": {},
   "outputs": [],
   "source": [
    "e = exp.create(experiment_id=\"NO-ID-1\", **meta)"
   ]
  },
  {
   "cell_type": "code",
   "execution_count": 11,
   "id": "0df24f85",
   "metadata": {},
   "outputs": [
    {
     "name": "stdout",
     "output_type": "stream",
     "text": [
      "Starting upload of 1 files\n",
      "Finished 1 uploads in 15.0 s\n"
     ]
    }
   ],
   "source": [
    "e.upload(\"benchmark.py\")"
   ]
  },
  {
   "cell_type": "code",
   "execution_count": 13,
   "id": "78c03472",
   "metadata": {},
   "outputs": [
    {
     "name": "stdout",
     "output_type": "stream",
     "text": [
      "Starting upload of 2 files\n",
      "Finished 2 uploads in 15.0 s\n"
     ]
    }
   ],
   "source": [
    "e.upload(glob.glob(\"*.ckpt\"), root_path=os.getcwd())"
   ]
  },
  {
   "cell_type": "code",
   "execution_count": 15,
   "id": "b5d4ea18",
   "metadata": {},
   "outputs": [
    {
     "name": "stdout",
     "output_type": "stream",
     "text": [
      "Starting upload of 1 files\n",
      "Finished 1 uploads in 15.0 s\n"
     ]
    }
   ],
   "source": [
    "ds['rcr_2M_imagenet'] = Dataset(description=\"RCR 2M dataset in Imagenet format\")"
   ]
  },
  {
   "cell_type": "code",
   "execution_count": 18,
   "id": "bda95626",
   "metadata": {},
   "outputs": [],
   "source": [
    "files = [x for x in glob.glob(\"/data/2m/**/*\", recursive=True) if os.path.isfile(x)]"
   ]
  },
  {
   "cell_type": "code",
   "execution_count": 19,
   "id": "8cae4cf4",
   "metadata": {},
   "outputs": [
    {
     "data": {
      "text/plain": [
       "2197171"
      ]
     },
     "execution_count": 19,
     "metadata": {},
     "output_type": "execute_result"
    }
   ],
   "source": [
    "len(files)"
   ]
  },
  {
   "cell_type": "code",
   "execution_count": null,
   "id": "f64b8e9d",
   "metadata": {},
   "outputs": [
    {
     "name": "stdout",
     "output_type": "stream",
     "text": [
      "Starting upload of 2197171 files\n",
      "Completed 0/2197171 uploads in 25.2 s\n",
      "Completed 4586/2197171 uploads in 40.2 s\n",
      "Completed 9450/2197171 uploads in 55.2 s\n",
      "Completed 14635/2197171 uploads in 70.2 s\n",
      "Completed 19677/2197171 uploads in 85.2 s\n",
      "Upload failed with: 503, message='Service Unavailable: {\\n  \"error\": {\\n    \"code\": 503,\\n    \"message\": \"We encountered an internal error. Please try again.\",\\n    \"errors\": [\\n      {\\n        \"message\": \"We encountered an internal error. Please try again.\",\\n        \"domain\": \"global\",\\n        \"reason\": \"backendError\"\\n      }\\n    ]\\n  }\\n}\\n', url=URL('https://www.googleapis.com/upload/storage/v1/b/cape-ml-projects-data/o?name=data_stores/dinov2/rcr_2M_imagenet/train/n00000002/n00000002_945180.png&uploadType=media'), stopping upload.\n",
      "Upload failed with exception <class 'aiohttp.client_exceptions.ClientResponseError'>: 503, message='Service Unavailable: {\\n  \"error\": {\\n    \"code\": 503,\\n    \"message\": \"We encountered an internal error. Please try again.\",\\n    \"errors\": [\\n      {\\n        \"message\": \"We encountered an internal error. Please try again.\",\\n        \"domain\": \"global\",\\n        \"reason\": \"backendError\"\\n      }\\n    ]\\n  }\\n}\\n', url=URL('https://www.googleapis.com/upload/storage/v1/b/cape-ml-projects-data/o?name=data_stores/dinov2/rcr_2M_imagenet/train/n00000002/n00000002_945180.png&uploadType=media'), retrying...\n",
      "Starting upload of 2175995 files\n",
      "Completed 21176/2197171 uploads in 26.6 s\n",
      "Completed 25780/2197171 uploads in 41.6 s\n",
      "Completed 30768/2197171 uploads in 56.6 s\n",
      "Completed 35865/2197171 uploads in 71.7 s\n",
      "Completed 40878/2197171 uploads in 86.7 s\n",
      "Completed 45972/2197171 uploads in 101.7 s\n",
      "Completed 51196/2197171 uploads in 116.7 s\n",
      "Completed 56402/2197171 uploads in 131.7 s\n",
      "Completed 61662/2197171 uploads in 146.7 s\n",
      "Completed 66797/2197171 uploads in 161.7 s\n",
      "Completed 71777/2197171 uploads in 176.7 s\n",
      "Completed 77067/2197171 uploads in 191.7 s\n",
      "Completed 82316/2197171 uploads in 206.7 s\n",
      "Completed 87628/2197171 uploads in 221.7 s\n",
      "Completed 92873/2197171 uploads in 236.7 s\n",
      "Completed 98163/2197171 uploads in 251.7 s\n",
      "Completed 103382/2197171 uploads in 266.7 s\n",
      "Completed 108531/2197171 uploads in 281.8 s\n",
      "Completed 113712/2197171 uploads in 296.8 s\n",
      "Completed 118950/2197171 uploads in 311.8 s\n",
      "Completed 124221/2197171 uploads in 326.8 s\n",
      "Completed 129400/2197171 uploads in 341.8 s\n",
      "Completed 134645/2197171 uploads in 356.8 s\n",
      "Completed 139937/2197171 uploads in 371.8 s\n",
      "Completed 145238/2197171 uploads in 386.8 s\n",
      "Completed 150506/2197171 uploads in 401.8 s\n",
      "Completed 155819/2197171 uploads in 416.8 s\n",
      "Completed 161080/2197171 uploads in 431.8 s\n",
      "Completed 166401/2197171 uploads in 446.8 s\n",
      "Completed 171730/2197171 uploads in 461.9 s\n",
      "Completed 177183/2197171 uploads in 476.9 s\n",
      "Completed 182647/2197171 uploads in 491.9 s\n",
      "Completed 187962/2197171 uploads in 506.9 s\n",
      "Completed 193344/2197171 uploads in 521.9 s\n",
      "Completed 198734/2197171 uploads in 536.9 s\n",
      "Completed 204103/2197171 uploads in 551.9 s\n",
      "Completed 209450/2197171 uploads in 566.9 s\n",
      "Completed 214775/2197171 uploads in 581.9 s\n",
      "Completed 219687/2197171 uploads in 596.9 s\n",
      "Completed 225061/2197171 uploads in 611.9 s\n",
      "Completed 230457/2197171 uploads in 627.0 s\n",
      "Completed 235901/2197171 uploads in 642.0 s\n",
      "Completed 241329/2197171 uploads in 657.0 s\n",
      "Completed 246751/2197171 uploads in 672.1 s\n",
      "Completed 252225/2197171 uploads in 687.1 s\n",
      "Completed 257598/2197171 uploads in 702.1 s\n",
      "Completed 262534/2197171 uploads in 717.1 s\n",
      "Completed 267427/2197171 uploads in 732.2 s\n",
      "Completed 272348/2197171 uploads in 747.2 s\n",
      "Completed 276621/2197171 uploads in 762.2 s\n",
      "Completed 281240/2197171 uploads in 777.2 s\n",
      "Completed 286430/2197171 uploads in 792.2 s\n",
      "Completed 291660/2197171 uploads in 807.3 s\n",
      "Completed 296990/2197171 uploads in 822.3 s\n",
      "Completed 302330/2197171 uploads in 837.3 s\n",
      "Completed 307697/2197171 uploads in 852.3 s\n",
      "Completed 313116/2197171 uploads in 867.4 s\n",
      "Completed 318500/2197171 uploads in 882.4 s\n",
      "Completed 323944/2197171 uploads in 897.4 s\n",
      "Completed 329387/2197171 uploads in 912.4 s\n",
      "Completed 334709/2197171 uploads in 927.4 s\n",
      "Completed 340128/2197171 uploads in 942.5 s\n",
      "Completed 345543/2197171 uploads in 957.5 s\n",
      "Completed 350924/2197171 uploads in 972.5 s\n",
      "Completed 356349/2197171 uploads in 987.5 s\n",
      "Completed 361704/2197171 uploads in 1002.5 s\n",
      "Completed 367017/2197171 uploads in 1017.5 s\n",
      "Completed 372332/2197171 uploads in 1032.6 s\n",
      "Completed 377650/2197171 uploads in 1047.6 s\n",
      "Completed 383031/2197171 uploads in 1062.6 s\n",
      "Completed 388323/2197171 uploads in 1077.6 s\n",
      "Completed 393634/2197171 uploads in 1092.6 s\n",
      "Completed 399022/2197171 uploads in 1107.7 s\n",
      "Completed 404355/2197171 uploads in 1122.7 s\n",
      "Completed 409561/2197171 uploads in 1137.7 s\n",
      "Completed 414521/2197171 uploads in 1152.7 s\n",
      "Completed 419671/2197171 uploads in 1167.7 s\n",
      "Completed 424858/2197171 uploads in 1182.8 s\n",
      "Completed 430129/2197171 uploads in 1197.8 s\n",
      "Completed 435377/2197171 uploads in 1212.8 s\n",
      "Completed 440610/2197171 uploads in 1227.8 s\n",
      "Completed 445874/2197171 uploads in 1242.9 s\n",
      "Completed 451224/2197171 uploads in 1257.9 s\n",
      "Completed 456634/2197171 uploads in 1272.9 s\n",
      "Completed 462015/2197171 uploads in 1287.9 s\n",
      "Completed 467351/2197171 uploads in 1303.0 s\n",
      "Completed 472723/2197171 uploads in 1318.0 s\n",
      "Completed 478141/2197171 uploads in 1333.0 s\n",
      "Completed 483551/2197171 uploads in 1348.0 s\n",
      "Completed 488896/2197171 uploads in 1363.1 s\n",
      "Completed 494248/2197171 uploads in 1378.1 s\n",
      "Completed 499610/2197171 uploads in 1393.1 s\n",
      "Completed 504854/2197171 uploads in 1408.1 s\n",
      "Completed 510063/2197171 uploads in 1423.1 s\n",
      "Completed 515128/2197171 uploads in 1438.2 s\n",
      "Completed 520279/2197171 uploads in 1453.2 s\n",
      "Completed 525542/2197171 uploads in 1468.2 s\n",
      "Completed 530783/2197171 uploads in 1483.2 s\n",
      "Completed 536070/2197171 uploads in 1498.2 s\n",
      "Completed 541260/2197171 uploads in 1513.3 s\n",
      "Completed 546546/2197171 uploads in 1528.3 s\n",
      "Completed 551771/2197171 uploads in 1543.3 s\n",
      "Completed 556969/2197171 uploads in 1558.3 s\n",
      "Completed 562155/2197171 uploads in 1573.3 s\n",
      "Completed 567361/2197171 uploads in 1588.4 s\n",
      "Upload failed with: , stopping upload.\n",
      "Upload failed with exception <class 'asyncio.exceptions.TimeoutError'>: , retrying...\n",
      "Starting upload of 1625967 files\n",
      "Completed 571204/2197171 uploads in 18.2 s\n",
      "Completed 575890/2197171 uploads in 33.2 s\n",
      "Completed 580966/2197171 uploads in 48.2 s\n",
      "Completed 586158/2197171 uploads in 63.2 s\n",
      "Completed 591404/2197171 uploads in 78.2 s\n",
      "Completed 596664/2197171 uploads in 93.2 s\n",
      "Completed 601903/2197171 uploads in 108.3 s\n",
      "Completed 607186/2197171 uploads in 123.3 s\n",
      "Completed 612548/2197171 uploads in 138.3 s\n",
      "Completed 617871/2197171 uploads in 153.3 s\n",
      "Completed 623277/2197171 uploads in 168.3 s\n",
      "Completed 628604/2197171 uploads in 183.3 s\n",
      "Completed 633889/2197171 uploads in 198.3 s\n",
      "Completed 639141/2197171 uploads in 213.3 s\n",
      "Completed 644443/2197171 uploads in 228.3 s\n",
      "Completed 649790/2197171 uploads in 243.3 s\n",
      "Completed 655172/2197171 uploads in 258.3 s\n",
      "Completed 660491/2197171 uploads in 273.3 s\n",
      "Completed 665860/2197171 uploads in 288.3 s\n",
      "Completed 671213/2197171 uploads in 303.3 s\n",
      "Completed 676588/2197171 uploads in 318.4 s\n",
      "Completed 681895/2197171 uploads in 333.4 s\n",
      "Completed 687215/2197171 uploads in 348.4 s\n",
      "Completed 692485/2197171 uploads in 363.4 s\n",
      "Completed 697453/2197171 uploads in 378.4 s\n",
      "Completed 702725/2197171 uploads in 393.4 s\n",
      "Completed 708044/2197171 uploads in 408.4 s\n",
      "Completed 713357/2197171 uploads in 423.4 s\n",
      "Completed 718698/2197171 uploads in 438.4 s\n",
      "Completed 724054/2197171 uploads in 453.4 s\n",
      "Completed 729444/2197171 uploads in 468.4 s\n",
      "Completed 734779/2197171 uploads in 483.4 s\n",
      "Completed 740170/2197171 uploads in 498.4 s\n",
      "Completed 745568/2197171 uploads in 513.4 s\n",
      "Completed 750991/2197171 uploads in 528.5 s\n",
      "Completed 756393/2197171 uploads in 543.5 s\n",
      "Completed 761761/2197171 uploads in 558.5 s\n",
      "Completed 767041/2197171 uploads in 573.5 s\n",
      "Completed 772388/2197171 uploads in 588.5 s\n",
      "Completed 777772/2197171 uploads in 603.5 s\n",
      "Completed 783212/2197171 uploads in 618.5 s\n",
      "Completed 788651/2197171 uploads in 633.6 s\n",
      "Completed 794079/2197171 uploads in 648.6 s\n",
      "Completed 799527/2197171 uploads in 663.6 s\n",
      "Completed 805044/2197171 uploads in 678.6 s\n",
      "Completed 810530/2197171 uploads in 693.7 s\n",
      "Completed 816007/2197171 uploads in 708.7 s\n",
      "Completed 821529/2197171 uploads in 723.7 s\n",
      "Completed 826672/2197171 uploads in 738.7 s\n",
      "Completed 831524/2197171 uploads in 753.8 s\n",
      "Completed 836850/2197171 uploads in 768.8 s\n",
      "Completed 842173/2197171 uploads in 783.8 s\n",
      "Completed 847594/2197171 uploads in 798.8 s\n",
      "Completed 853028/2197171 uploads in 813.8 s\n",
      "Completed 858521/2197171 uploads in 828.9 s\n",
      "Completed 863984/2197171 uploads in 843.9 s\n",
      "Completed 869401/2197171 uploads in 858.9 s\n",
      "Completed 874859/2197171 uploads in 873.9 s\n",
      "Completed 880309/2197171 uploads in 889.0 s\n",
      "Completed 885743/2197171 uploads in 904.0 s\n",
      "Completed 891224/2197171 uploads in 919.0 s\n",
      "Completed 896681/2197171 uploads in 934.0 s\n",
      "Completed 902126/2197171 uploads in 949.0 s\n",
      "Completed 907583/2197171 uploads in 964.1 s\n",
      "Completed 913069/2197171 uploads in 979.1 s\n",
      "Completed 918580/2197171 uploads in 994.1 s\n",
      "Completed 924070/2197171 uploads in 1009.1 s\n",
      "Completed 929568/2197171 uploads in 1024.1 s\n",
      "Completed 935088/2197171 uploads in 1039.2 s\n",
      "Completed 940551/2197171 uploads in 1054.2 s\n",
      "Completed 945933/2197171 uploads in 1069.2 s\n",
      "Completed 951318/2197171 uploads in 1084.2 s\n",
      "Completed 956671/2197171 uploads in 1099.6 s\n",
      "Completed 961867/2197171 uploads in 1114.6 s\n",
      "Completed 967182/2197171 uploads in 1129.6 s\n",
      "Completed 972536/2197171 uploads in 1144.7 s\n",
      "Completed 977816/2197171 uploads in 1159.7 s\n",
      "Completed 983153/2197171 uploads in 1174.7 s\n",
      "Completed 988544/2197171 uploads in 1189.7 s\n",
      "Completed 993975/2197171 uploads in 1204.7 s\n",
      "Completed 999385/2197171 uploads in 1219.7 s\n",
      "Completed 1004804/2197171 uploads in 1234.7 s\n",
      "Completed 1010242/2197171 uploads in 1249.7 s\n",
      "Completed 1015761/2197171 uploads in 1264.7 s\n",
      "Completed 1021282/2197171 uploads in 1279.7 s\n",
      "Completed 1026716/2197171 uploads in 1294.7 s\n",
      "Completed 1032107/2197171 uploads in 1309.7 s\n",
      "Completed 1037591/2197171 uploads in 1324.7 s\n",
      "Upload failed with: Server disconnected, stopping upload.\n",
      "Upload failed with exception <class 'aiohttp.client_exceptions.ServerDisconnectedError'>: Server disconnected, retrying...\n",
      "Starting upload of 1156060 files\n",
      "Completed 1041111/2197171 uploads in 18.7 s\n",
      "Completed 1045705/2197171 uploads in 33.7 s\n",
      "Completed 1050689/2197171 uploads in 48.7 s\n",
      "Completed 1055911/2197171 uploads in 63.7 s\n",
      "Completed 1061115/2197171 uploads in 78.7 s\n",
      "Completed 1066226/2197171 uploads in 93.7 s\n",
      "Completed 1071252/2197171 uploads in 108.8 s\n",
      "Completed 1076391/2197171 uploads in 123.8 s\n",
      "Completed 1081465/2197171 uploads in 138.8 s\n",
      "Completed 1086410/2197171 uploads in 153.8 s\n",
      "Completed 1091149/2197171 uploads in 168.8 s\n",
      "Completed 1096073/2197171 uploads in 183.8 s\n",
      "Completed 1101085/2197171 uploads in 198.8 s\n",
      "Completed 1106205/2197171 uploads in 213.8 s\n",
      "Completed 1111390/2197171 uploads in 228.8 s\n",
      "Completed 1116476/2197171 uploads in 243.8 s\n",
      "Completed 1121416/2197171 uploads in 258.8 s\n",
      "Completed 1126498/2197171 uploads in 273.8 s\n",
      "Completed 1131714/2197171 uploads in 288.8 s\n",
      "Completed 1136957/2197171 uploads in 303.8 s\n",
      "Completed 1142185/2197171 uploads in 318.9 s\n",
      "Completed 1147569/2197171 uploads in 333.9 s\n",
      "Completed 1152975/2197171 uploads in 348.9 s\n",
      "Completed 1158407/2197171 uploads in 363.9 s\n",
      "Completed 1163848/2197171 uploads in 378.9 s\n",
      "Completed 1169251/2197171 uploads in 393.9 s\n",
      "Completed 1174718/2197171 uploads in 408.9 s\n",
      "Completed 1180087/2197171 uploads in 423.9 s\n",
      "Completed 1185450/2197171 uploads in 438.9 s\n",
      "Completed 1190863/2197171 uploads in 453.9 s\n",
      "Completed 1196272/2197171 uploads in 468.9 s\n",
      "Completed 1201678/2197171 uploads in 483.9 s\n",
      "Completed 1207095/2197171 uploads in 498.9 s\n",
      "Completed 1212513/2197171 uploads in 513.9 s\n",
      "Completed 1217941/2197171 uploads in 529.0 s\n",
      "Completed 1223158/2197171 uploads in 544.0 s\n",
      "Completed 1228454/2197171 uploads in 559.0 s\n",
      "Completed 1233762/2197171 uploads in 574.0 s\n",
      "Completed 1239096/2197171 uploads in 589.0 s\n",
      "Completed 1244419/2197171 uploads in 604.0 s\n",
      "Completed 1249753/2197171 uploads in 619.0 s\n",
      "Completed 1255106/2197171 uploads in 634.0 s\n",
      "Completed 1260494/2197171 uploads in 649.1 s\n",
      "Completed 1265867/2197171 uploads in 664.1 s\n",
      "Completed 1271155/2197171 uploads in 679.1 s\n",
      "Completed 1276436/2197171 uploads in 694.2 s\n",
      "Completed 1281771/2197171 uploads in 709.2 s\n",
      "Completed 1287016/2197171 uploads in 724.2 s\n",
      "Completed 1292284/2197171 uploads in 739.2 s\n",
      "Completed 1297645/2197171 uploads in 754.3 s\n",
      "Completed 1302980/2197171 uploads in 769.3 s\n",
      "Completed 1308269/2197171 uploads in 784.3 s\n",
      "Completed 1313607/2197171 uploads in 799.3 s\n",
      "Completed 1318933/2197171 uploads in 814.3 s\n",
      "Completed 1324212/2197171 uploads in 829.3 s\n",
      "Completed 1329448/2197171 uploads in 844.4 s\n",
      "Completed 1334712/2197171 uploads in 859.4 s\n",
      "Completed 1339954/2197171 uploads in 874.4 s\n",
      "Completed 1345161/2197171 uploads in 889.4 s\n",
      "Completed 1350349/2197171 uploads in 904.4 s\n",
      "Completed 1355550/2197171 uploads in 919.5 s\n",
      "Completed 1360753/2197171 uploads in 934.5 s\n",
      "Completed 1365915/2197171 uploads in 949.5 s\n",
      "Completed 1371116/2197171 uploads in 964.5 s\n",
      "Completed 1376204/2197171 uploads in 979.5 s\n",
      "Completed 1381392/2197171 uploads in 994.5 s\n",
      "Completed 1386629/2197171 uploads in 1009.5 s\n",
      "Completed 1391861/2197171 uploads in 1024.6 s\n",
      "Completed 1397182/2197171 uploads in 1039.6 s\n",
      "Completed 1402493/2197171 uploads in 1054.6 s\n",
      "Completed 1407821/2197171 uploads in 1069.6 s\n",
      "Completed 1413112/2197171 uploads in 1084.6 s\n",
      "Completed 1418441/2197171 uploads in 1099.7 s\n",
      "Completed 1423694/2197171 uploads in 1114.7 s\n",
      "Upload failed with: , stopping upload.\n",
      "Upload failed with exception <class 'asyncio.exceptions.TimeoutError'>: , retrying...\n",
      "Starting upload of 768777 files\n",
      "Completed 1430200/2197171 uploads in 15.9 s\n",
      "Completed 1435231/2197171 uploads in 30.9 s\n",
      "Completed 1440474/2197171 uploads in 45.9 s\n",
      "Completed 1445504/2197171 uploads in 60.9 s\n",
      "Completed 1450616/2197171 uploads in 75.9 s\n",
      "Completed 1455980/2197171 uploads in 90.9 s\n",
      "Completed 1461358/2197171 uploads in 105.9 s\n",
      "Completed 1466716/2197171 uploads in 120.9 s\n",
      "Completed 1472077/2197171 uploads in 135.9 s\n",
      "Completed 1477400/2197171 uploads in 150.9 s\n",
      "Completed 1482722/2197171 uploads in 165.9 s\n",
      "Completed 1487945/2197171 uploads in 180.9 s\n",
      "Completed 1493251/2197171 uploads in 196.0 s\n",
      "Completed 1498701/2197171 uploads in 211.0 s\n",
      "Completed 1504152/2197171 uploads in 226.0 s\n",
      "Completed 1509641/2197171 uploads in 241.0 s\n",
      "Completed 1515058/2197171 uploads in 256.0 s\n",
      "Completed 1520574/2197171 uploads in 271.0 s\n",
      "Completed 1526011/2197171 uploads in 286.0 s\n",
      "Completed 1531320/2197171 uploads in 301.0 s\n",
      "Completed 1536658/2197171 uploads in 316.0 s\n",
      "Completed 1541943/2197171 uploads in 331.0 s\n",
      "Completed 1547234/2197171 uploads in 346.0 s\n",
      "Completed 1549818/2197171 uploads in 361.8 s\n",
      "Completed 1554973/2197171 uploads in 376.8 s\n",
      "Completed 1560284/2197171 uploads in 391.8 s\n",
      "Completed 1562913/2197171 uploads in 407.9 s\n",
      "Completed 1564172/2197171 uploads in 423.5 s\n",
      "Completed 1565279/2197171 uploads in 438.9 s\n",
      "Completed 1566393/2197171 uploads in 454.5 s\n",
      "Completed 1567088/2197171 uploads in 494.2 s\n",
      "Completed 1568277/2197171 uploads in 509.6 s\n",
      "Completed 1569461/2197171 uploads in 525.0 s\n",
      "Completed 1570680/2197171 uploads in 540.5 s\n",
      "Completed 1571870/2197171 uploads in 555.9 s\n",
      "Completed 1573005/2197171 uploads in 571.3 s\n",
      "Completed 1574212/2197171 uploads in 586.7 s\n",
      "Completed 1575436/2197171 uploads in 602.1 s\n",
      "Completed 1576603/2197171 uploads in 617.6 s\n",
      "Completed 1577794/2197171 uploads in 633.2 s\n",
      "Completed 1578987/2197171 uploads in 648.7 s\n",
      "Completed 1580170/2197171 uploads in 664.2 s\n",
      "Completed 1581413/2197171 uploads in 679.8 s\n",
      "Completed 1582590/2197171 uploads in 695.3 s\n",
      "Completed 1583754/2197171 uploads in 711.0 s\n",
      "Completed 1584990/2197171 uploads in 726.3 s\n",
      "Completed 1586149/2197171 uploads in 741.8 s\n",
      "Completed 1587368/2197171 uploads in 757.3 s\n",
      "Completed 1588582/2197171 uploads in 772.7 s\n",
      "Completed 1589841/2197171 uploads in 788.1 s\n",
      "Completed 1591078/2197171 uploads in 803.6 s\n",
      "Completed 1592287/2197171 uploads in 819.0 s\n",
      "Completed 1593524/2197171 uploads in 834.5 s\n",
      "Completed 1594792/2197171 uploads in 849.9 s\n",
      "Completed 1596106/2197171 uploads in 865.2 s\n",
      "Upload failed with: , stopping upload.\n",
      "Upload failed with exception <class 'asyncio.exceptions.TimeoutError'>: , retrying...\n"
     ]
    }
   ],
   "source": [
    "ds['rcr_2M_imagenet'].upload(files, root_path=\"/data/2m\")"
   ]
  },
  {
   "cell_type": "code",
   "execution_count": 4,
   "id": "4550f4db",
   "metadata": {},
   "outputs": [
    {
     "name": "stdout",
     "output_type": "stream",
     "text": [
      "Starting upload of 1 files\n",
      "Finished 1 uploads in 15.0 s\n"
     ]
    }
   ],
   "source": [
    "ds['experiments/a100x4'] = Experiments(description=\"Experiments run on a single A100x4 machine\")"
   ]
  },
  {
   "cell_type": "code",
   "execution_count": 5,
   "id": "4311f91b",
   "metadata": {},
   "outputs": [],
   "source": [
    "exp = ds['experiments/a100x4']"
   ]
  },
  {
   "cell_type": "code",
   "execution_count": 7,
   "id": "fabf65e6",
   "metadata": {},
   "outputs": [],
   "source": [
    "with open(\"/data/output/config.yaml\") as fp:\n",
    "    config = yaml.safe_load(fp)"
   ]
  },
  {
   "cell_type": "code",
   "execution_count": 12,
   "id": "dccb2795",
   "metadata": {},
   "outputs": [],
   "source": [
    "meta = pd.json_normalize(config).iloc[0].to_dict()"
   ]
  },
  {
   "cell_type": "code",
   "execution_count": 13,
   "id": "6d21c69d",
   "metadata": {},
   "outputs": [],
   "source": [
    "e = exp.create(experiment_id=\"DIN-121\", description=\"Run on the 2m dataset\", **meta)"
   ]
  },
  {
   "cell_type": "code",
   "execution_count": 21,
   "id": "0f7d3451",
   "metadata": {},
   "outputs": [
    {
     "name": "stdout",
     "output_type": "stream",
     "text": [
      "Starting upload of 2 files\n",
      "Finished 2 uploads in 15.0 s\n"
     ]
    }
   ],
   "source": [
    "e.upload([\"/data/output/config.yaml\", \"/data/output/training_metrics.json\"], root_path=\"/data/output/\")"
   ]
  },
  {
   "cell_type": "code",
   "execution_count": 15,
   "id": "74d2001d",
   "metadata": {},
   "outputs": [
    {
     "name": "stdout",
     "output_type": "stream",
     "text": [
      "data_stores/dinov2/experiments/a100x4/DIN-121/\n",
      "└── config.yaml\n"
     ]
    }
   ],
   "source": [
    "e.tree()"
   ]
  },
  {
   "cell_type": "code",
   "execution_count": 18,
   "id": "c93dab4d",
   "metadata": {},
   "outputs": [
    {
     "name": "stdout",
     "output_type": "stream",
     "text": [
      "Starting upload of 10 files\n",
      "Completed 0/10 uploads in 15.0 s\n",
      "Finished 10 uploads in 30.1 s\n"
     ]
    }
   ],
   "source": [
    "files = [x for x in glob.glob(\"/data/output/eval/**/*\", recursive=True) if os.path.isfile(x)]\n",
    "e.upload(files, root_path=\"/data/output\")"
   ]
  },
  {
   "cell_type": "code",
   "execution_count": 22,
   "id": "380613e0",
   "metadata": {},
   "outputs": [
    {
     "name": "stdout",
     "output_type": "stream",
     "text": [
      "data_stores/dinov2/experiments/a100x4/DIN-121/\n",
      "├── config.yaml\n",
      "├── training_metrics.json\n",
      "└── eval/\n",
      "    ├── training_112499/\n",
      "    │   └── teacher_checkpoint.pth\n",
      "    ├── training_12499/\n",
      "    │   └── teacher_checkpoint.pth\n",
      "    ├── training_124999/\n",
      "    │   └── teacher_checkpoint.pth\n",
      "    ├── training_24999/\n",
      "    │   └── teacher_checkpoint.pth\n",
      "    ├── training_37499/\n",
      "    │   └── teacher_checkpoint.pth\n",
      "    ├── training_49999/\n",
      "    │   └── teacher_checkpoint.pth\n",
      "    ├── training_62499/\n",
      "    │   └── teacher_checkpoint.pth\n",
      "    ├── training_74999/\n",
      "    │   └── teacher_checkpoint.pth\n",
      "    ├── training_87499/\n",
      "    │   └── teacher_checkpoint.pth\n",
      "    └── training_99999/\n",
      "        └── teacher_checkpoint.pth\n"
     ]
    }
   ],
   "source": [
    "e.tree()"
   ]
  },
  {
   "cell_type": "code",
   "execution_count": null,
   "id": "7d793053",
   "metadata": {},
   "outputs": [],
   "source": []
  }
 ],
 "metadata": {
  "kernelspec": {
   "display_name": "Python 3 (ipykernel)",
   "language": "python",
   "name": "python3"
  },
  "language_info": {
   "codemirror_mode": {
    "name": "ipython",
    "version": 3
   },
   "file_extension": ".py",
   "mimetype": "text/x-python",
   "name": "python",
   "nbconvert_exporter": "python",
   "pygments_lexer": "ipython3",
   "version": "3.10.6"
  }
 },
 "nbformat": 4,
 "nbformat_minor": 5
}
