{
 "cells": [
  {
   "cell_type": "code",
   "execution_count": 1,
   "id": "6eb617dc",
   "metadata": {},
   "outputs": [],
   "source": [
    "# Run first the download_from_data_store.py script, \n",
    "# which requires:\n",
    "# > bash /cnvrg/install_gcloud.sh\n",
    "# > pip install git+https://github.com/capeanalytics/data_store\n",
    "import glob\n",
    "import os\n",
    "import pandas as pd\n",
    "from tqdm import tqdm\n",
    "import shutil"
   ]
  },
  {
   "cell_type": "code",
   "execution_count": 2,
   "id": "94aaed9f",
   "metadata": {},
   "outputs": [],
   "source": [
    "df = pd.read_parquet(\"/data/chips/chips/dataset.parquet\").sample(frac=1, random_state=42)"
   ]
  },
  {
   "cell_type": "code",
   "execution_count": 3,
   "id": "d4c6ee1c",
   "metadata": {},
   "outputs": [
    {
     "data": {
      "text/html": [
       "<div>\n",
       "<style scoped>\n",
       "    .dataframe tbody tr th:only-of-type {\n",
       "        vertical-align: middle;\n",
       "    }\n",
       "\n",
       "    .dataframe tbody tr th {\n",
       "        vertical-align: top;\n",
       "    }\n",
       "\n",
       "    .dataframe thead th {\n",
       "        text-align: right;\n",
       "    }\n",
       "</style>\n",
       "<table border=\"1\" class=\"dataframe\">\n",
       "  <thead>\n",
       "    <tr style=\"text-align: right;\">\n",
       "      <th></th>\n",
       "      <th>geometry</th>\n",
       "      <th>geometry_id</th>\n",
       "      <th>geometry_labels</th>\n",
       "      <th>imagery_date</th>\n",
       "      <th>imagery_source</th>\n",
       "      <th>filename</th>\n",
       "      <th>entry_hash</th>\n",
       "    </tr>\n",
       "  </thead>\n",
       "  <tbody>\n",
       "    <tr>\n",
       "      <th>2094991</th>\n",
       "      <td>b\"\\x01\\x03\\x00\\x00\\x00\\x01\\x00\\x00\\x00)\\x00\\x0...</td>\n",
       "      <td>595743</td>\n",
       "      <td>fair</td>\n",
       "      <td>2022-05-26 00:00:00+00:00</td>\n",
       "      <td>sv2:nearmap_vertical_jpg:4146b212-eb57-11ec-80...</td>\n",
       "      <td>fair/8ead064573e07fa5d2c60fb822e5488e3412113d6...</td>\n",
       "      <td>8ead064573e07fa5d2c60fb822e5488e3412113d64b2b7...</td>\n",
       "    </tr>\n",
       "    <tr>\n",
       "      <th>1659637</th>\n",
       "      <td>b'\\x01\\x03\\x00\\x00\\x00\\x01\\x00\\x00\\x00\\x18\\x00...</td>\n",
       "      <td>160285</td>\n",
       "      <td>unknown</td>\n",
       "      <td>2022-03-23 00:00:00+00:00</td>\n",
       "      <td>sv2:nearmap_vertical_jpg:67e4dbe4-b059-11ec-a2...</td>\n",
       "      <td>unknown/20a02385b6afc7affaeec4f637c5d6fdd3330b...</td>\n",
       "      <td>20a02385b6afc7affaeec4f637c5d6fdd3330b3c7e7d3f...</td>\n",
       "    </tr>\n",
       "    <tr>\n",
       "      <th>450363</th>\n",
       "      <td>b\"\\x01\\x03\\x00\\x00\\x00\\x01\\x00\\x00\\x00%\\x00\\x0...</td>\n",
       "      <td>450551</td>\n",
       "      <td>poor</td>\n",
       "      <td>2022-01-07 00:00:00+00:00</td>\n",
       "      <td>sv2:nearmap_vertical_jpg:a876c8fa-7951-11ec-a7...</td>\n",
       "      <td>poor/7f13e6001d3db7d018b26a11d4c318de727b47288...</td>\n",
       "      <td>7f13e6001d3db7d018b26a11d4c318de727b4728826588...</td>\n",
       "    </tr>\n",
       "  </tbody>\n",
       "</table>\n",
       "</div>"
      ],
      "text/plain": [
       "                                                  geometry  geometry_id  \\\n",
       "2094991  b\"\\x01\\x03\\x00\\x00\\x00\\x01\\x00\\x00\\x00)\\x00\\x0...       595743   \n",
       "1659637  b'\\x01\\x03\\x00\\x00\\x00\\x01\\x00\\x00\\x00\\x18\\x00...       160285   \n",
       "450363   b\"\\x01\\x03\\x00\\x00\\x00\\x01\\x00\\x00\\x00%\\x00\\x0...       450551   \n",
       "\n",
       "        geometry_labels              imagery_date  \\\n",
       "2094991            fair 2022-05-26 00:00:00+00:00   \n",
       "1659637         unknown 2022-03-23 00:00:00+00:00   \n",
       "450363             poor 2022-01-07 00:00:00+00:00   \n",
       "\n",
       "                                            imagery_source  \\\n",
       "2094991  sv2:nearmap_vertical_jpg:4146b212-eb57-11ec-80...   \n",
       "1659637  sv2:nearmap_vertical_jpg:67e4dbe4-b059-11ec-a2...   \n",
       "450363   sv2:nearmap_vertical_jpg:a876c8fa-7951-11ec-a7...   \n",
       "\n",
       "                                                  filename  \\\n",
       "2094991  fair/8ead064573e07fa5d2c60fb822e5488e3412113d6...   \n",
       "1659637  unknown/20a02385b6afc7affaeec4f637c5d6fdd3330b...   \n",
       "450363   poor/7f13e6001d3db7d018b26a11d4c318de727b47288...   \n",
       "\n",
       "                                                entry_hash  \n",
       "2094991  8ead064573e07fa5d2c60fb822e5488e3412113d64b2b7...  \n",
       "1659637  20a02385b6afc7affaeec4f637c5d6fdd3330b3c7e7d3f...  \n",
       "450363   7f13e6001d3db7d018b26a11d4c318de727b4728826588...  "
      ]
     },
     "execution_count": 3,
     "metadata": {},
     "output_type": "execute_result"
    }
   ],
   "source": [
    "df.head(3)"
   ]
  },
  {
   "cell_type": "code",
   "execution_count": 4,
   "id": "f7395d9a",
   "metadata": {},
   "outputs": [
    {
     "data": {
      "text/plain": [
       "(2197170,)"
      ]
     },
     "execution_count": 4,
     "metadata": {},
     "output_type": "execute_result"
    }
   ],
   "source": [
    "df.index.drop_duplicates().shape"
   ]
  },
  {
   "cell_type": "code",
   "execution_count": 5,
   "id": "cd789e0b",
   "metadata": {},
   "outputs": [
    {
     "data": {
      "text/plain": [
       "(2197170, 7)"
      ]
     },
     "execution_count": 5,
     "metadata": {},
     "output_type": "execute_result"
    }
   ],
   "source": [
    "df.shape"
   ]
  },
  {
   "cell_type": "code",
   "execution_count": 6,
   "id": "ca52fb88",
   "metadata": {},
   "outputs": [],
   "source": [
    "# save 20k for validation\n",
    "n = 20000\n",
    "dd = {\n",
    "    \"val\": df.iloc[:n].reset_index(names=\"index\").to_dict(orient=\"records\"),\n",
    "    \"train\": df.iloc[n:].reset_index(names=\"index\").to_dict(orient=\"records\")\n",
    "}"
   ]
  },
  {
   "cell_type": "code",
   "execution_count": 7,
   "id": "98dd8cdb",
   "metadata": {},
   "outputs": [],
   "source": [
    "lookup = {\n",
    "    \"severe\": \"n00000001\",\n",
    "    \"poor\": \"n00000002\",\n",
    "    \"fair\": \"n00000003\",\n",
    "    \"good\": \"n00000004\",\n",
    "    \"excellent\": \"n00000005\",\n",
    "    \"unknown\": \"n00000006\"\n",
    "}"
   ]
  },
  {
   "cell_type": "code",
   "execution_count": 8,
   "id": "4f3cd7ea",
   "metadata": {},
   "outputs": [],
   "source": [
    "data_dir = \"/data/2m\""
   ]
  },
  {
   "cell_type": "code",
   "execution_count": 9,
   "id": "0649eee8",
   "metadata": {},
   "outputs": [],
   "source": [
    "shutil.rmtree(data_dir, ignore_errors=True)"
   ]
  },
  {
   "cell_type": "code",
   "execution_count": 10,
   "id": "3a4156d8",
   "metadata": {},
   "outputs": [
    {
     "name": "stderr",
     "output_type": "stream",
     "text": [
      "100% 20000/20000 [00:00<00:00, 26035.06it/s]\n",
      "100% 2177170/2177170 [02:10<00:00, 16620.58it/s]\n"
     ]
    }
   ],
   "source": [
    "for ds in dd.keys():\n",
    "    \n",
    "    split_dir = f\"{data_dir}/{ds}\"\n",
    "    os.makedirs(split_dir, exist_ok=True)\n",
    "    \n",
    "    [os.makedirs(f\"{split_dir}/{class_id}\", exist_ok=True) for class_id in lookup.values()]\n",
    "    \n",
    "    for row in tqdm(dd[ds], total=len(dd[ds])):\n",
    "        \n",
    "        label_id = lookup[row['geometry_labels']]\n",
    "        \n",
    "        input_filename = f\"/data/chips/chips/{row['filename']}\"\n",
    "        \n",
    "        output_filename = f\"{split_dir}/{label_id}/{label_id}_{row['index']}.png\"\n",
    "        \n",
    "        os.symlink(input_filename, output_filename)"
   ]
  },
  {
   "cell_type": "code",
   "execution_count": 11,
   "id": "dbf0dcec",
   "metadata": {},
   "outputs": [],
   "source": [
    "# Let's generate labels.txt\n",
    "with open(f\"{data_dir}/labels.txt\", \"w+\") as fp:\n",
    "    for k, v in lookup.items():\n",
    "        fp.write(f\"{v},{k}\\n\")"
   ]
  },
  {
   "cell_type": "code",
   "execution_count": 12,
   "id": "eff39ad7",
   "metadata": {},
   "outputs": [
    {
     "name": "stdout",
     "output_type": "stream",
     "text": [
      "n00000001,severe\n",
      "n00000002,poor\n",
      "n00000003,fair\n",
      "n00000004,good\n",
      "n00000005,excellent\n",
      "n00000006,unknown\n"
     ]
    }
   ],
   "source": [
    "!cat /data/2m/labels.txt"
   ]
  },
  {
   "cell_type": "code",
   "execution_count": 14,
   "id": "c02e166d",
   "metadata": {},
   "outputs": [],
   "source": [
    "import sys\n",
    "sys.path = ['/cnvrg/'] + sys.path"
   ]
  },
  {
   "cell_type": "code",
   "execution_count": 15,
   "id": "7f0689f0",
   "metadata": {},
   "outputs": [],
   "source": [
    "from dinov2.data.datasets import Cape\n",
    "\n",
    "for split in Cape.Split:\n",
    "    dataset = Cape(split=split, root=data_dir, extra=data_dir)\n",
    "    dataset.dump_extra()"
   ]
  },
  {
   "cell_type": "code",
   "execution_count": null,
   "id": "aa9de5ed",
   "metadata": {},
   "outputs": [],
   "source": []
  }
 ],
 "metadata": {
  "kernelspec": {
   "display_name": "Python 3 (ipykernel)",
   "language": "python",
   "name": "python3"
  },
  "language_info": {
   "codemirror_mode": {
    "name": "ipython",
    "version": 3
   },
   "file_extension": ".py",
   "mimetype": "text/x-python",
   "name": "python",
   "nbconvert_exporter": "python",
   "pygments_lexer": "ipython3",
   "version": "3.10.6"
  }
 },
 "nbformat": 4,
 "nbformat_minor": 5
}
